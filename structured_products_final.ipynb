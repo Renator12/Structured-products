{
  "nbformat": 4,
  "nbformat_minor": 0,
  "metadata": {
    "colab": {
      "provenance": [],
      "authorship_tag": "ABX9TyNYOfZVd8QnIJ+fHANIQ7OX",
      "include_colab_link": true
    },
    "kernelspec": {
      "name": "python3",
      "display_name": "Python 3"
    },
    "language_info": {
      "name": "python"
    }
  },
  "cells": [
    {
      "cell_type": "markdown",
      "metadata": {
        "id": "view-in-github",
        "colab_type": "text"
      },
      "source": [
        "<a href=\"https://colab.research.google.com/github/Renator12/Structured-products/blob/main/structured_products_final.ipynb\" target=\"_parent\"><img src=\"https://colab.research.google.com/assets/colab-badge.svg\" alt=\"Open In Colab\"/></a>"
      ]
    },
    {
      "cell_type": "code",
      "execution_count": null,
      "metadata": {
        "id": "L-UsK0V_zm4s"
      },
      "outputs": [],
      "source": [
        "from statistics import NormalDist\n",
        "from scipy.integrate import quad\n",
        "import numpy as np\n",
        "import pandas as pd\n",
        "from scipy.optimize import minimize\n",
        "from scipy.optimize import NonlinearConstraint\n",
        "from scipy.stats import norm\n",
        "from scipy.optimize import minimize_scalar\n",
        "import random\n"
      ]
    },
    {
      "cell_type": "markdown",
      "source": [
        "INPUT VARIABLES"
      ],
      "metadata": {
        "id": "yWInBYSuNR2Y"
      }
    },
    {
      "cell_type": "code",
      "source": [
        "# Global Variables\n",
        "S0 =770.21# Initial Stock Price\n",
        "K = 103\n",
        "r = 0.02# interest rate\n",
        "sigma = 0.1# Volatility\n",
        "years =11\n",
        "time_periods = 1# per year\n",
        "branch_count = 10# Only use even numbers\n",
        "dt = 1/time_periods\n",
        "principal=100\n",
        "booster_return=0.4\n",
        "boost_level=0\n",
        "buffer=-0.3\n",
        "participation_rate=0.45\n",
        "barrier=0.75\n",
        "coupon_rate=0.015\n",
        "coupon_threshold=0\n",
        "autocall=1\n",
        "payment_threshold=coupon_threshold\n",
        "fixed=0.1\n",
        "variable=0.1\n",
        "excess_ratio_variable=0.05"
      ],
      "metadata": {
        "id": "l8FibJ_kP-OU"
      },
      "execution_count": null,
      "outputs": []
    },
    {
      "cell_type": "code",
      "source": [
        "sigma=0.05"
      ],
      "metadata": {
        "id": "v1Z6OZp7cNBe"
      },
      "execution_count": null,
      "outputs": []
    },
    {
      "cell_type": "code",
      "source": [
        "q_value = []\n",
        "phi = 0.6 # A value from 0 to 1\n",
        "if branch_count == 2:\n",
        "    q_value.append((1-0.5)**phi/branch_count)\n",
        "elif branch_count % 2 == 0:\n",
        "    for i in range(1,int(branch_count/2)+1):\n",
        "        q_value.append((i-0.5)**phi/branch_count)\n",
        "\n",
        "elif branch_count % 2 != 0:\n",
        "    for i in range(1,int((branch_count+1)/2)):\n",
        "        q_value.append((i-0.5)**phi/branch_count)\n",
        "q_sum = sum(q_value)*2\n",
        "q_transform = [x / q_sum for x in q_value]\n",
        "q_full = q_transform + q_transform[::-1]\n",
        "# q vector (coefficients for the zi terms)\n",
        "qi = np.array(q_full)"
      ],
      "metadata": {
        "id": "Wa8TPNppQIec"
      },
      "execution_count": null,
      "outputs": []
    },
    {
      "cell_type": "code",
      "source": [
        "big_z = [-np.inf]\n",
        "\n",
        "for i in range(1,len(q_transform)+1):\n",
        "    big_z.append(NormalDist().inv_cdf(sum(q_transform[0:i])))\n",
        "big_z = big_z + [x * -1 for x in big_z[len(big_z)-2::-1]]\n",
        "# Zi vector (bounds for the zi variables)\n",
        "Z_lower = np.array(big_z[0:-1])\n",
        "Z_upper = np.array(big_z[1:])\n",
        "# The objective function we want to minimize\n",
        "def objective_function(z):\n",
        "    return (np.sum(qi * z**4) - 3)**2\n",
        "# The equality constraints\n",
        "def constraint1(z):\n",
        "    return np.sum(qi * z)\n",
        "def constraint2(z):\n",
        "    return np.sum(qi * z**2) - 1\n",
        "# Define the constraints dictionary\n",
        "con1 = {'type': 'eq', 'fun': constraint1}\n",
        "con2 = {'type': 'eq', 'fun': constraint2}\n",
        "constraints = [con1, con2]\n",
        "# Define the bounds for each zi\n",
        "bounds = [((None,high) if low == -np.inf else ((low,None) if high == np.inf else (low, high)) ) for low, high in zip(Z_lower, Z_upper)]\n",
        "# # Define the bounds for each zi\n",
        "# bounds = [((None,high) if low == -np.inf else (low, high)) for low, high in zip(Z_lower, Z_upper)]\n",
        "# Initial guess (required by the minimizer, let's start with the midpoint of the bounds)\n",
        "z_initial = (Z_lower + Z_upper) / 2\n",
        "z_initial[0] = NormalDist().inv_cdf(sum(q_full[0:1])/2)\n",
        "z_initial[-1] = z_initial[0]*-1"
      ],
      "metadata": {
        "id": "NRPMsHyxQNGu"
      },
      "execution_count": null,
      "outputs": []
    },
    {
      "cell_type": "code",
      "source": [
        "# Run the minimizer\n",
        "result = minimize(objective_function, z_initial,method='SLSQP', bounds=bounds, constraints=constraints)\n",
        "# The result of minimization will be in result.x\n",
        "result.x, result.success, result.message\n",
        "z_value = result.x"
      ],
      "metadata": {
        "id": "xOsIsGP-QRoR"
      },
      "execution_count": null,
      "outputs": []
    },
    {
      "cell_type": "code",
      "source": [
        "qi"
      ],
      "metadata": {
        "colab": {
          "base_uri": "https://localhost:8080/"
        },
        "id": "-MXxzeibZNbd",
        "outputId": "21618853-8a49-42a6-e8ef-ab3e83bc10a4"
      },
      "execution_count": null,
      "outputs": [
        {
          "output_type": "execute_result",
          "data": {
            "text/plain": [
              "array([0.03996484, 0.0772593 , 0.10496875, 0.12845081, 0.1493563 ,\n",
              "       0.1493563 , 0.12845081, 0.10496875, 0.0772593 , 0.03996484])"
            ]
          },
          "metadata": {},
          "execution_count": 130
        }
      ]
    },
    {
      "cell_type": "code",
      "source": [],
      "metadata": {
        "id": "bg9563dEZYNC"
      },
      "execution_count": null,
      "outputs": []
    },
    {
      "cell_type": "markdown",
      "source": [
        "# **BROWNIAN MOTION**"
      ],
      "metadata": {
        "id": "oFSrsyAOQZuD"
      }
    },
    {
      "cell_type": "code",
      "source": [
        "def generate_btree(time_periods,years,branch_count,z_value):\n",
        "    b_tree = np.zeros((time_periods*years+1,branch_count))\n",
        "    for i in range (1,time_periods*years+1):\n",
        "        for j in range (0,branch_count):\n",
        "            b_tree[i][j] = np.sqrt(i*dt) * z_value[j]\n",
        "    return b_tree"
      ],
      "metadata": {
        "id": "kD_ZpA7_QVYx"
      },
      "execution_count": null,
      "outputs": []
    },
    {
      "cell_type": "code",
      "source": [
        "def probcali(p, y, mu, sigma):\n",
        "    m = len(p)\n",
        "    a = np.dot(p, y) - mu\n",
        "    b = np.dot(p, y**2) - mu**2 - sigma**2\n",
        "    pind = np.argsort(p)  # Sorts p and returns the indices that would sort p\n",
        "    x = np.zeros(m)\n",
        "    wm = pind[-1]  # Index of max probability\n",
        "    w2 = pind[-2]\n",
        "    w1 = pind[-3]\n",
        "    y1 = y[w1]  # Min\n",
        "    y2 = y[w2]  # Middle\n",
        "    ym = y[wm]  # Max probability\n",
        "    # Calculate calibration factors\n",
        "    x[wm] = (-b + a * (y1 + y2)) / (ym**2 - y2**2 - (y1 + y2) * (ym - y2))\n",
        "    x[w1] = (-a - x[wm] * (ym - y2)) / (y1 - y2)\n",
        "    x[w2] = -(x[wm] + x[w1])\n",
        "    pc = p + x  # Adjust original probabilities\n",
        "    pc = np.maximum(pc, 0)  # Ensure no negative probabilities\n",
        "    pc /= np.sum(pc)  # Normalize to ensure the sum of probabilities is 1\n",
        "    return pc"
      ],
      "metadata": {
        "id": "pURiBn4bQlPG"
      },
      "execution_count": null,
      "outputs": []
    },
    {
      "cell_type": "code",
      "source": [
        "def generate_transition_matrices(time_periods,years,branch_count,b_tree):\n",
        "    transition_matrices = []\n",
        "    # n-1 number of matrices\n",
        "    for n in range(1, time_periods*years):\n",
        "        # intialize new matrix\n",
        "        transition_matrix = np.zeros((branch_count, branch_count))\n",
        "        test = np.zeros((branch_count, branch_count))\n",
        "        # ith columns and jth rows\n",
        "        for i in range(0, branch_count):\n",
        "            # j goes from 0 to number of branches\n",
        "            for j in range(0, branch_count):\n",
        "                if j == 0:\n",
        "                    w3 = np.NINF\n",
        "                else:\n",
        "                    w3 = b_tree[n+1][j-1]\n",
        "                if j == (branch_count-1):\n",
        "                    w1 = np.inf\n",
        "                else:\n",
        "                    w1 = b_tree[n+1][j+1]\n",
        "                w2 = b_tree[n+1][j]\n",
        "                upper_bound = (w1 + w2)/2\n",
        "                lower_bound = (w2 + w3)/2\n",
        "                w = b_tree[n][i]\n",
        "                # Check built in cdf\n",
        "                f = lambda x: 1/np.sqrt(2*np.pi*dt)*np.exp(-(x-w)**2/(2*dt))\n",
        "                # Use the standard normal pdf to integrate from lower to upper bound\n",
        "                transition_matrix[i][j], _ = quad(f, lower_bound, upper_bound)\n",
        "        for i in range(branch_count):\n",
        "            mu = b_tree[n][i]\n",
        "            sigma = np.sqrt(dt)\n",
        "            y = b_tree[n+1]  # Assuming y values for calibration are the next step's node values\n",
        "            # Calibrate probabilities\n",
        "            transition_matrix[i, :] = probcali(transition_matrix[i, :], y, mu, sigma)\n",
        "            # Ensure probabilities sum to 1 after calibration\n",
        "            transition_matrix[i, :] /= np.sum(transition_matrix[i, :])\n",
        "        transition_matrices.append(transition_matrix)\n",
        "        # Append the calculated matrix to the list of transition matrices\n",
        "        transition_matrices.append(transition_matrix)\n",
        "    return transition_matrices"
      ],
      "metadata": {
        "id": "6QuL5yrtQobN"
      },
      "execution_count": null,
      "outputs": []
    },
    {
      "cell_type": "code",
      "source": [
        "def generate_stock_price_tree(S0, r, sigma, dt, branch_count, time_periods,years, z_value):\n",
        "    stock_price_tree = np.zeros((time_periods*years+1, branch_count))\n",
        "    # Populate the stock price tree\n",
        "    for i in range(1, time_periods*years+1):\n",
        "        for j in range(branch_count):\n",
        "            # Transform the Brownian motion value into a stock price\n",
        "            W_t = np.sqrt(i * dt) * z_value[j]  # Brownian motion at time t\n",
        "            stock_price_tree[i][j] = S0 * np.exp((r - 0.5 * sigma**2) * i * dt + sigma * W_t)\n",
        "    # Set the initial stock prices\n",
        "    stock_price_tree[0] = S0\n",
        "    return stock_price_tree"
      ],
      "metadata": {
        "id": "i6fdjn23QwE7"
      },
      "execution_count": null,
      "outputs": []
    },
    {
      "cell_type": "markdown",
      "source": [
        "# GENERATING SOME PRICES"
      ],
      "metadata": {
        "id": "k9PszQkSQ9jj"
      }
    },
    {
      "cell_type": "code",
      "source": [
        "b_tree = generate_btree(time_periods,years,branch_count,z_value)\n",
        "transition_matrices = generate_transition_matrices(time_periods,years,branch_count,b_tree)"
      ],
      "metadata": {
        "id": "LivsmwT1Un7K"
      },
      "execution_count": null,
      "outputs": []
    },
    {
      "cell_type": "code",
      "source": [
        "np.array(transition_matrices).shape"
      ],
      "metadata": {
        "colab": {
          "base_uri": "https://localhost:8080/"
        },
        "id": "OFKoRGEtmj-O",
        "outputId": "9fa62595-e623-435e-d38f-c0afcbd17e98"
      },
      "execution_count": null,
      "outputs": [
        {
          "output_type": "execute_result",
          "data": {
            "text/plain": [
              "(22, 10, 10)"
            ]
          },
          "metadata": {},
          "execution_count": 136
        }
      ]
    },
    {
      "cell_type": "code",
      "source": [
        "prices = generate_stock_price_tree(S0, r, sigma, dt, branch_count, time_periods,years, z_value)\n",
        "prices"
      ],
      "metadata": {
        "colab": {
          "base_uri": "https://localhost:8080/"
        },
        "id": "o1gy6ZcKQ0AJ",
        "outputId": "a3954016-567e-475f-9d49-2bd5f749d9e5"
      },
      "execution_count": null,
      "outputs": [
        {
          "output_type": "execute_result",
          "data": {
            "text/plain": [
              "array([[249.65      , 249.65      , 249.65      , 249.65      ,\n",
              "        249.65      , 249.65      , 249.65      , 249.65      ,\n",
              "        249.65      , 249.65      ],\n",
              "       [226.53903639, 237.97039073, 242.62227047, 246.71951268,\n",
              "        251.8341604 , 256.94167168, 262.26823071, 266.69724037,\n",
              "        271.91067605, 285.63151555],\n",
              "       [220.00779208, 235.87057817, 242.41757914, 248.22724844,\n",
              "        255.53577543, 262.89572179, 270.63613048, 277.12207221,\n",
              "        284.81407964, 305.34945492],\n",
              "       [216.06471304, 235.29617898, 243.31983066, 250.48079153,\n",
              "        259.54279498, 268.72761383, 278.44975814, 286.64460053,\n",
              "        296.41924344, 322.80288402],\n",
              "       [213.42268061, 235.50510195, 244.80247133, 253.14040453,\n",
              "        263.7447073 , 274.55133725, 286.05256449, 295.7954685 ,\n",
              "        307.47300477, 339.28661053],\n",
              "       [211.59330705, 236.21571107, 246.66586609, 256.07761195,\n",
              "        268.10044185, 280.41150626, 293.57681031, 304.77848223,\n",
              "        318.26184432, 355.29688976],\n",
              "       [210.33091013, 237.28642063, 248.80984193, 259.2282288 ,\n",
              "        272.59007724, 286.3316532 , 301.09053929, 313.69806896,\n",
              "        328.93229316, 371.08745408],\n",
              "       [209.49225667, 238.6348165 , 251.17626205, 262.55525101,\n",
              "        277.20264716, 292.32642378, 308.63468893, 322.61670461,\n",
              "        339.57181348, 386.80977341],\n",
              "       [208.98573407, 240.20832725, 253.7281983 , 266.0353953 ,\n",
              "        281.93171754, 298.40600137, 316.23655221, 331.57574295,\n",
              "        350.23812964, 402.56388799],\n",
              "       [208.74887084, 241.97124526, 256.44071322, 269.6531414 ,\n",
              "        286.77342893, 304.57806584, 323.91573678, 340.60463536,\n",
              "        360.9722092 , 418.42089216],\n",
              "       [208.73701636, 243.89818702, 259.29621471, 273.39772956,\n",
              "        291.72551014, 310.8487813 , 331.68716896, 349.7255779 ,\n",
              "        371.80480481, 434.43425907],\n",
              "       [208.917088  , 245.97047889, 262.28188837, 277.26150098,\n",
              "        296.78673322, 317.2233425 , 339.56275492, 358.9560807 ,\n",
              "        382.76007076, 450.64609808],\n",
              "       [209.26386832, 248.17401573, 265.3881762 , 281.23891437,\n",
              "        301.95659065, 323.70629905, 347.55236558, 368.31049119,\n",
              "        393.85770665, 467.09086222]])"
            ]
          },
          "metadata": {},
          "execution_count": 137
        }
      ]
    },
    {
      "cell_type": "markdown",
      "source": [
        "# **CUSTOM PRINCPAL PROTECTION NOTES**"
      ],
      "metadata": {
        "id": "3joP23BmRH3b"
      }
    },
    {
      "cell_type": "markdown",
      "source": [
        "1) COUPON DATES WITH VARYING FIXED RETURNS ->Notes present  a minimum fixed return after the first 2 years and then they become 0 .They also have a maximum return which can be achieved on each of the dates\n",
        "https://notes.tdsecurities.com/detail/1610"
      ],
      "metadata": {
        "id": "oZ0A2bGlRNg-"
      }
    },
    {
      "cell_type": "code",
      "source": [
        "def payoff_coupon_ppn(S,S0,min_fixed_return ,max_return):\n",
        "  index_return=(S-S0)/S0\n",
        "  return np.where(index_return > 0, np.minimum(index_return, max_return) * S0, min_fixed_return * S0)\n",
        "\n",
        "import numpy as np\n",
        "\n",
        "def price_coupon_ppn(stock_price_tree, transition_matrices, r, min_fixed_return, max_return, years, S0, qi):\n",
        "    dt = 1\n",
        "    # Initialize option value tree (same shape as stock_price_tree)\n",
        "    option_value_tree = np.zeros_like(stock_price_tree)\n",
        "\n",
        "    # Calculate payoffs at maturity (final period)\n",
        "    prices = stock_price_tree[-1]  # Stock prices at the last time step\n",
        "    option_value_tree[-1] = payoff_coupon_ppn(prices, S0, min_fixed_return, max_return)+S0 # Payoffs at maturity\n",
        "\n",
        "    # Backward induction for each time step\n",
        "    for t in range(years - 1, 0, -1):\n",
        "        prices_at_t = stock_price_tree[t]  # Stock prices at time t\n",
        "        if t <= 2:\n",
        "            payoff = payoff_coupon_ppn(prices_at_t, S0, min_fixed_return, max_return)\n",
        "        else:\n",
        "            payoff = payoff_coupon_ppn(prices_at_t, S0, 0, max_return)\n",
        "\n",
        "        # Calculate the discounted expected value at each node using the transition matrix\n",
        "        dot_prod = np.dot(transition_matrices[t - 1], option_value_tree[t+1]) * np.exp(-r * dt)\n",
        "\n",
        "        # Add the payoff for this time step\n",
        "        option_value_tree[t] = dot_prod + payoff\n",
        "\n",
        "    # Calculate the value at the root node (t = 0)\n",
        "    option_value_tree[0] = np.dot(qi, option_value_tree[1]) * np.exp(-r * dt)\n",
        "\n",
        "    return option_value_tree[0][0] # Return the value of the structured note at t = 0\n"
      ],
      "metadata": {
        "id": "mx4C0QPvRAtg"
      },
      "execution_count": null,
      "outputs": []
    },
    {
      "cell_type": "code",
      "source": [
        "payoff_coupon_ppn(prices[-1],100,0.0325,0.06)"
      ],
      "metadata": {
        "id": "PNJFf2D_T5dd",
        "colab": {
          "base_uri": "https://localhost:8080/"
        },
        "outputId": "afcd2932-b056-4a8c-d5e8-2cdfefe79927"
      },
      "execution_count": null,
      "outputs": [
        {
          "output_type": "execute_result",
          "data": {
            "text/plain": [
              "array([6., 6., 6., 6., 6., 6., 6., 6., 6., 6.])"
            ]
          },
          "metadata": {},
          "execution_count": 139
        }
      ]
    },
    {
      "cell_type": "code",
      "source": [
        "np.array(transition_matrices).shape"
      ],
      "metadata": {
        "id": "Hb65-iAXYojp",
        "colab": {
          "base_uri": "https://localhost:8080/"
        },
        "outputId": "3834cdab-aff1-4160-8544-5999fc9ed6fd"
      },
      "execution_count": null,
      "outputs": [
        {
          "output_type": "execute_result",
          "data": {
            "text/plain": [
              "(22, 10, 10)"
            ]
          },
          "metadata": {},
          "execution_count": 140
        }
      ]
    },
    {
      "cell_type": "code",
      "source": [
        "price_coupon_ppn(prices,transition_matrices,r,0.0325,0.06,years,400,qi)"
      ],
      "metadata": {
        "id": "NF2lvY4OUa0W",
        "colab": {
          "base_uri": "https://localhost:8080/"
        },
        "outputId": "0f1a87be-e414-4578-a6e9-d05d2ebe077c"
      },
      "execution_count": null,
      "outputs": [
        {
          "output_type": "execute_result",
          "data": {
            "text/plain": [
              "352.5518954255628"
            ]
          },
          "metadata": {},
          "execution_count": 141
        }
      ]
    },
    {
      "cell_type": "markdown",
      "source": [
        "# **PRINCIPAL AT RISK NOTES**"
      ],
      "metadata": {
        "id": "AXy5jXh84HAg"
      }
    },
    {
      "cell_type": "markdown",
      "source": [
        "1)   **PAYOFF FOR A PRINCIPAL AT RISK NOTE WITH VARYING FIXED RETURNS , AUTOCALL FOR EARLY PREMIUM AND BARRIERS FOR PARTIAL DOWNSIDE PROTECTION**\n",
        "def payoff_changing_fixed_rate->Non-vectorized payoff function\n",
        "    "
      ],
      "metadata": {
        "id": "WtyULksyCSWu"
      }
    },
    {
      "cell_type": "code",
      "source": [
        "def payoffs_changing_fixed_rate(prinicpal , prices,S0 , fixed_rate,excess_return_variable,auto_call,barrier):#autocall 105% ->input 1.05\n",
        "  returns = (prices-S0)/S0\n",
        "  count=0\n",
        "  for i,price in zip(returns,prices):\n",
        "    #print(i)\n",
        "    if price>S0*auto_call:\n",
        "      excess_ratio=max(0,(i-fixed_rate)*excess_return_variable)\n",
        "      #print(excess_ratio)\n",
        "      returns[count]=principal*(1+fixed_rate+excess_ratio)\n",
        "    elif price>S0*barrier:\n",
        "      returns[count]=principal\n",
        "    else :\n",
        "      returns[count]=principal*(1+i)\n",
        "    count+=1\n",
        "  return returns\n",
        "def price_auto_call_changing_fixed_rate(principal,stock_price_tree, transition_matrices, r, fixed, variable, years,excess_ratio_variable ,barrier,auto_call=1):\n",
        "  '''\n",
        "  price_auto_call2 : Uses a willow tree method to price a structured product with varying fixed rates per year , increasing at a constant rate and having an autocall value.Payoff is given either on autocall day where\n",
        "  Payoff=S0*(1+Fixed_rate + excess_ratio) .\n",
        "  '''\n",
        "  year_count = years - 1 #since we already calculate the final year seperately\n",
        "  Final_rate = fixed #+ (year_count) *variable  # Calculate the initial Final Rate\n",
        "  # Initialize option value tree\n",
        "  option_value_tree = np.zeros_like(stock_price_tree)\n",
        "  prices=stock_price_tree[-1]\n",
        "  # Calculate payoffs at maturity (final period)\n",
        "  option_value_tree[-1] = payoffs_changing_fixed_rate(principal , prices,S0 , fixed,excess_ratio_variable,auto_call,barrier) #final layer\n",
        "  # Backward induction for each time step\n",
        "  for t in range(time_periods * years - 1, 0, -1):\n",
        "      prices=stock_price_tree[t]\n",
        "      payoff = payoffs_changing_fixed_rate(principal,stock_price_tree[t],S0,Final_rate,excess_ratio_variable,auto_call,barrier)\n",
        "      dot_prod = np.dot(transition_matrices[t - 1], option_value_tree[t + 1]) * np.exp(-r * dt)\n",
        "      option_value_tree[t] = np.where(prices >=S0*auto_call, payoff,dot_prod)\n",
        "      # Reduce the Final_rate at every auto-callable date (each period)\n",
        "      Final_rate += variable  # Decrease Final_rate by the specified decrement\n",
        "  option_value_tree[0] = np.dot(qi, option_value_tree[1]) * np.exp(-r * dt)\n",
        "  return option_value_tree[0][0]"
      ],
      "metadata": {
        "id": "VKC3lNqvVFOw"
      },
      "execution_count": null,
      "outputs": []
    },
    {
      "cell_type": "code",
      "source": [
        "price_auto_call_changing_fixed_rate(principal,prices, transition_matrices, r, fixed, variable, years,excess_ratio_variable ,barrier,auto_call=1)"
      ],
      "metadata": {
        "colab": {
          "base_uri": "https://localhost:8080/"
        },
        "id": "J_nOYBE7MEjY",
        "outputId": "35a2d417-a4de-40e5-bdad-fca65eb555fa"
      },
      "execution_count": null,
      "outputs": [
        {
          "output_type": "execute_result",
          "data": {
            "text/plain": [
              "nan"
            ]
          },
          "metadata": {},
          "execution_count": 143
        }
      ]
    },
    {
      "cell_type": "code",
      "source": [
        "#Example of using this payoff function\n",
        "pay1=payoffs_changing_fixed_rate(principal , prices[-1],S0 , fixed,excess_ratio_variable,autocall,barrier)\n",
        "print('prices at prices[-1] are ',prices[-1],'\\n', 'payoff is ',pay1)"
      ],
      "metadata": {
        "id": "WqSULAxEi6Lt",
        "colab": {
          "base_uri": "https://localhost:8080/"
        },
        "outputId": "0294a119-f73b-454e-cf1c-20ed090dba29"
      },
      "execution_count": null,
      "outputs": [
        {
          "output_type": "stream",
          "name": "stdout",
          "text": [
            "prices at prices[-1] are  [209.26386832 248.17401573 265.3881762  281.23891437 301.95659065\n",
            " 323.70629905 347.55236558 368.31049119 393.85770665 467.09086222] \n",
            " payoff is  [100. 100. 100.  nan  nan  nan  nan  nan  nan  nan]\n"
          ]
        }
      ]
    },
    {
      "cell_type": "markdown",
      "source": [
        "# 2) Payoff for simple path independent notes which have either a buffer or a barrier . The barrier part of the code is incomplete since I did not encounter any path independent notes with only a barrier in the principal at risk section\n",
        "\n",
        "def path_independent_buffer_barrier():\n",
        " Vectorized function for the path independent buffer principal at risk. Since the only payoff needed is at the final time step ,this is a very simple implementation using numpy."
      ],
      "metadata": {
        "id": "Dz8WoAVIDr6w"
      }
    },
    {
      "cell_type": "code",
      "source": [
        "#buffer protections\n",
        "def path_independent_buffer_barrier(principal, prices, S0, participation_rate, buff=True, barrier=1, buffer=1,buffer_variable=0.3):\n",
        "    returns = (prices - S0) / S0\n",
        "    #print(returns)\n",
        "    if buff:   #always going to be using buff until we add the barrier code if needed !\n",
        "        # Calculate the payoff using element-wise conditions\n",
        "        ans = np.where(\n",
        "            returns > 0,\n",
        "            principal * (1 + participation_rate * returns),  # When returns are positive\n",
        "            np.where(\n",
        "                (returns < 0) & (returns >= buffer),  # Returns are negative but within the buffer\n",
        "                principal,  # Principal is protected within the buffer\n",
        "                principal * (1 + returns + buffer_variable)  # When returns are below the buffer\n",
        "            )\n",
        "        )\n",
        "    #add the barrier partt later\n",
        "    return ans\n",
        "def price_buffer_barrier(stock_price_tree,transition_matrices,r,years,participation_rate,buffer):\n",
        "\n",
        "    # Initialize option value tree with zeros\n",
        "    option_value_tree = np.zeros_like(stock_price_tree)\n",
        "\n",
        "    # Payoff function takes in the stock prices and a fixed rate to get a payoff vector\n",
        "    option_value_tree[-1] = path_independent_buffer_barrier(principal, prices[-1], S0, participation_rate, buff=True, barrier=1, buffer=buffer)\n",
        "    # Backward induction to calculate option price at each node\n",
        "    for t in range(years-1, 0, -1):\n",
        "        option_value_tree[t] = np.dot(transition_matrices[t-1],option_value_tree[t+1])*np.exp(-r*dt)\n",
        "\n",
        "    option_value_tree[0] = np.dot(qi,option_value_tree[1])*np.exp(-r*dt)\n",
        "\n",
        "    return option_value_tree[0][0]"
      ],
      "metadata": {
        "id": "dbqoz6ptZxn_"
      },
      "execution_count": null,
      "outputs": []
    },
    {
      "cell_type": "code",
      "source": [
        "price_buffer_barrier(prices,transition_matrices,r,years,participation_rate,buffer)"
      ],
      "metadata": {
        "colab": {
          "base_uri": "https://localhost:8080/"
        },
        "id": "jlqbcCCN8NVP",
        "outputId": "bbf7f966-dcb0-460d-9ec7-2d7fea836cfd"
      },
      "execution_count": null,
      "outputs": [
        {
          "output_type": "execute_result",
          "data": {
            "text/plain": [
              "103.19965590970853"
            ]
          },
          "metadata": {},
          "execution_count": 146
        }
      ]
    },
    {
      "cell_type": "code",
      "source": [],
      "metadata": {
        "id": "MT4iA5Wuh0-2"
      },
      "execution_count": null,
      "outputs": []
    },
    {
      "cell_type": "code",
      "source": [
        "path_independent_buffer_barrier(principal , prices[-1],S0 , participation_rate,buff=True,barrier=1,buffer=0.3)"
      ],
      "metadata": {
        "colab": {
          "base_uri": "https://localhost:8080/"
        },
        "id": "nSmdAQ5p67-S",
        "outputId": "6902a65f-5ae9-4321-e37f-41144d024d1e"
      },
      "execution_count": null,
      "outputs": [
        {
          "output_type": "execute_result",
          "data": {
            "text/plain": [
              "array([ 84.67602111, 105.79053074, 116.17585056, 126.3004053 ,\n",
              "       104.65356734, 111.72725417, 119.99823827, 127.63469514,\n",
              "       137.58758012, 169.48081667])"
            ]
          },
          "metadata": {},
          "execution_count": 99
        }
      ]
    },
    {
      "cell_type": "markdown",
      "source": [
        "#3) PATH DEPENDENT COUPON NOTES WITH BARRIERS.Payoff Functions depend on if the day is the final exercise date or not .\n",
        "def barrier_coupon_participation():->\n",
        "vectorized function dealing with notes which have no coupon/payment thresholds and provide coupons regularly. Payoff for the final day checks\n",
        "a)If Index Return >0:\n",
        "     get principal *(1+(participation_rate*index_return))\n",
        "b)If Index Return <0 and price >barrier\n",
        "     get principal\n",
        "c)if Index Return < barrier:\n",
        "     get principal * (1+index_return)\n",
        "\n"
      ],
      "metadata": {
        "id": "834-1hc8H4cV"
      }
    },
    {
      "cell_type": "code",
      "source": [
        "#BARRIER COUPONS STANDARD WITH NO AUTOCALL and with coupon threshold/no coupon thresholds\n",
        "#https://notes.tdsecurities.com/detail/1995https://notes.tdsecurities.com/detail/1995\n",
        "#https://notes.tdsecurities.com/detail/1996https://notes.tdsecurities.com/detail/1996\n",
        "def barrier_coupon_participation(principal, prices, S0, barrier_level , coupon_rate,participation_rate,is_final_day=False,threshold=-1000):#always pays coupons without threshold\n",
        "  results=[]\n",
        "  index_return=(prices-S0)/S0\n",
        "  if is_final_day:\n",
        "    results=np.where(index_return>0,principal*(1+(participation_rate*index_return)),np.where((index_return <=0) & (prices>=S0*barrier_level),principal,principal*(1+index_return)))\n",
        "  else:\n",
        "    results=np.where(index_return>=threshold,principal*coupon_rate,0) #since threshold is so low , basically free\n",
        "  return results\n",
        "\n",
        "def barrier_coupon(principal, prices, S0, barrier_level , coupon_rate,is_final_day=False,coupon_threshold=-1000):\n",
        "  results=[]\n",
        "  index_return=(prices-S0)/S0\n",
        "  for price,ret in zip(prices,index_return):\n",
        "      if is_final_day:\n",
        "        if ret>=coupon_threshold:\n",
        "          if price>=S0*barrier_level:\n",
        "            results.append(principal+(coupon_rate*principal)) #principal +coupon\n",
        "          else:\n",
        "            results.append((principal*(1+ret)+(coupon_rate*principal))) #depreciated principal added to coupon\n",
        "        else:\n",
        "          results.append(0)\n",
        "      else:\n",
        "          if ret>=coupon_threshold: #not final day\n",
        "            results.append(coupon_rate*principal)\n",
        "          else:\n",
        "            results.append(0)\n",
        "\n",
        "  return results\n",
        "\n",
        "def barrier_coupon_pricing(principal, prices, S0, participation_rate,barrier, coupon_rate, years, transition_matrices, r, qi,threshold_or_not=False,coupon_threshold=1,fun='barrier_coupon'):\n",
        "  year_count = years - 1\n",
        "  option_value_tree = np.zeros_like(prices)\n",
        "  final_prices=prices[-1]\n",
        "  if fun=='barrier_coupon': #payoff is coupon_rate*principal\n",
        "    option_value_tree[-1]=barrier_coupon(principal,final_prices,S0,barrier,coupon_rate,is_final_day=True,coupon_threshold=coupon_threshold)\n",
        "  elif fun=='barrier_coupon_participation':\n",
        "    option_value_tree[-1]=barrier_coupon_participation(principal,final_prices,S0,barrier,coupon_rate,participation_rate,is_final_day=True)\n",
        "  #print('final day is ',option_value_tree[-1])\n",
        "  for t in range(years - 1, 0, -1):\n",
        "    current_price=prices[t]\n",
        "    if fun=='barrier_coupon':\n",
        "      payoff=barrier_coupon(principal,current_price,S0,barrier,coupon_rate,is_final_day=False,coupon_threshold=coupon_threshold)\n",
        "    elif fun=='barrier_coupon_participation':\n",
        "      payoff=barrier_coupon_participation(principal,current_price,S0,barrier,coupon_rate,participation_rate,is_final_day=False)\n",
        "   #print('PAYOFF AT ',t,'=>',payoff)\n",
        "    prod=np.dot(transition_matrices[t-1],option_value_tree[t+1])*np.exp(-r)\n",
        "    #print('prod at ',t,'is',prod)\n",
        "    option_value_tree[t]=prod+payoff\n",
        "\n",
        "  option_value_tree[0]=np.dot(qi,option_value_tree[1])*np.exp(-r)\n",
        "  return option_value_tree[0][0]\n"
      ],
      "metadata": {
        "id": "vVr7mAjakp-E"
      },
      "execution_count": null,
      "outputs": []
    },
    {
      "cell_type": "code",
      "source": [
        "barrier_coupon_pricing(principal, prices, S0,participation_rate, barrier, coupon_rate, years, transition_matrices, r, qi,coupon_threshold=coupon_threshold,fun='barrier_coupon')"
      ],
      "metadata": {
        "id": "NRsPWnmZH9VW",
        "colab": {
          "base_uri": "https://localhost:8080/"
        },
        "outputId": "a82c1b80-6c0c-4b87-d49d-c74baf0c0263"
      },
      "execution_count": null,
      "outputs": [
        {
          "output_type": "execute_result",
          "data": {
            "text/plain": [
              "62.39651273304606"
            ]
          },
          "metadata": {},
          "execution_count": 101
        }
      ]
    },
    {
      "cell_type": "code",
      "source": [],
      "metadata": {
        "id": "dsmlEtlMsptX"
      },
      "execution_count": null,
      "outputs": []
    },
    {
      "cell_type": "markdown",
      "source": [
        "4)Complicated path dependent function which includes possible early activation due to autocall , coupons subject to payment thresholds and barrier on final day.\n"
      ],
      "metadata": {
        "id": "55HLBCqZKHWy"
      }
    },
    {
      "cell_type": "code",
      "source": [
        "\n",
        "def barrier_autocall_coupon(principal, prices, S0, barrier_level, autocall_level, coupon_rate, payment_threshold, is_final_day=False):\n",
        "    \"\"\"\n",
        "    Combined function for barrier, autocall, and coupon payout calculations.\n",
        "    :param principal: Initial investment principal\n",
        "    :param prices: List of asset prices at different times\n",
        "    :param S0: Initial price of the asset\n",
        "    :param barrier_level: Level of the barrier for the barrier condition\n",
        "    :param autocall_level: Level of autocall trigger\n",
        "    :param coupon_rate: The coupon rate to apply for payouts\n",
        "    :param payment_threshold: Minimum return for coupon payment eligibility\n",
        "    :param is_final_day: Boolean to check if it's the final day for the barrier conditions\n",
        "    :return: List of payoffs based on the given conditions\n",
        "    \"\"\"\n",
        "    results = np.zeros_like(prices)  # Initialize the results array with the same shape as prices\n",
        "    index_return = (prices - S0) / S0  # Calculate index return for each price\n",
        "    count = 0\n",
        "    for price, ret in zip(prices, index_return):\n",
        "        if price >= S0 * autocall_level:  # Autocall condition\n",
        "            results[count] = principal * (1 + coupon_rate)\n",
        "\n",
        "        elif S0 * barrier_level <= price < S0 * autocall_level:  # Barrier condition\n",
        "            if is_final_day:  # If it's the final day\n",
        "                if ret >= payment_threshold:\n",
        "                    results[count] = principal * (1 + coupon_rate)\n",
        "                else:\n",
        "                    results[count] = principal\n",
        "            else:  # Non-final day (only consider partial coupon payouts)\n",
        "                if ret >= payment_threshold:\n",
        "                    results[count] = principal * coupon_rate\n",
        "                else:\n",
        "                    results[count] = 0\n",
        "\n",
        "        else:  # Below the barrier level\n",
        "            if is_final_day:\n",
        "                results[count] = principal * (1 + ret)  # Final day, return based on asset performance\n",
        "            else:\n",
        "                results[count] = 0  # No payment on non-final day below barrier\n",
        "        count += 1\n",
        "    return results\n",
        "def payoff_autocall_coupon(principal, prices, S0, barrier, autocall, coupon_rate, payment_threshold, years, transition_matrices, r, qi):\n",
        "    dt = 1\n",
        "    option_value_tree = np.zeros_like(prices)\n",
        "    option_value_tree[-1] = barrier_autocall_coupon(principal, prices[-1], S0, barrier, autocall, coupon_rate, payment_threshold,is_final_day=True)\n",
        "    for t in range(years - 1, 0, -1):\n",
        "        # Make sure prices is indexed properly to access historical prices\n",
        "        payoff = barrier_autocall_coupon(principal, prices[t], S0, barrier, autocall, coupon_rate, payment_threshold, is_final_day=False)\n",
        "        # Make sure option_value_tree[t + 1] is indexed properly\n",
        "        prod = np.dot(transition_matrices[t - 1], option_value_tree[t + 1]) * np.exp(-r * dt)\n",
        "        # Check the condition and calculate the option value\n",
        "        option_value_tree[t] = np.where(payoff == principal * (1 + coupon_rate), payoff,\n",
        "                                          np.where(payoff == principal * coupon_rate, payoff + prod, prod))\n",
        "    option_value_tree[0] = np.dot(qi, option_value_tree[1]) * np.exp(-r * dt)\n",
        "    return option_value_tree[0][0]"
      ],
      "metadata": {
        "id": "bYXoKfiu9r3U"
      },
      "execution_count": null,
      "outputs": []
    },
    {
      "cell_type": "code",
      "source": [
        "prices"
      ],
      "metadata": {
        "colab": {
          "base_uri": "https://localhost:8080/"
        },
        "id": "BOwCKa9kbou1",
        "outputId": "26bcdedb-bca7-41ce-ef47-9a948cac6a9f"
      },
      "execution_count": null,
      "outputs": [
        {
          "output_type": "execute_result",
          "data": {
            "text/plain": [
              "array([[ 770.21      ,  770.21      ,  770.21      ,  770.21      ,\n",
              "         770.21      ,  770.21      ,  770.21      ,  770.21      ,\n",
              "         770.21      ,  770.21      ],\n",
              "       [ 620.09821906,  684.25855155,  711.2719982 ,  735.4978092 ,\n",
              "         766.30854237,  797.70713585,  831.12387724,  859.43182187,\n",
              "         893.36082803,  985.79505394],\n",
              "       [ 571.84573421,  657.27982762,  694.27412591,  727.9501954 ,\n",
              "         771.44715516,  816.52558588,  865.31515748,  907.28764345,\n",
              "         958.35335981, 1101.53184916],\n",
              "       [ 539.26076688,  639.52994426,  683.88983042,  724.73625696,\n",
              "         778.12449875,  834.17222702,  895.62214778,  949.11462514,\n",
              "        1014.9483073 , 1203.66587213],\n",
              "       [ 514.44701255,  626.41211561,  676.84792898,  723.73978719,\n",
              "         785.64620167,  851.34705009,  924.1685817 ,  988.19474871,\n",
              "        1067.75961977, 1300.14847565],\n",
              "       [ 494.41511083,  616.17694216,  671.90209296,  724.15428569,\n",
              "         793.74854546,  868.31947877,  951.76861174, 1025.78533732,\n",
              "        1118.55420121, 1394.02542404],\n",
              "       [ 477.66394301,  607.94183158,  668.4229731 ,  725.57254681,\n",
              "         802.29916928,  885.22766644,  978.83722297, 1062.52693388,\n",
              "        1168.23249615, 1486.85562645],\n",
              "       [ 463.31950256,  601.19068816,  666.04230853,  727.75642479,\n",
              "         811.22136082,  902.15420657, 1005.62047005, 1098.79919556,\n",
              "        1217.32880687, 1579.57229855],\n",
              "       [ 450.82323124,  595.59236703,  664.52370324,  730.55320409,\n",
              "         820.46654971,  919.15364081, 1032.27910909, 1134.85012093,\n",
              "        1266.19284602, 1672.79465926],\n",
              "       [ 439.79435389,  590.92028499,  663.70537044,  733.85853195,\n",
              "         830.00211295,  936.26465479, 1058.92566719, 1170.85330927,\n",
              "        1315.07013282, 1766.96562981],\n",
              "       [ 429.96063607,  587.0118898 ,  663.47124845,  737.59771226,\n",
              "         839.80521984,  953.51623474, 1085.64315086, 1206.93684848,\n",
              "        1364.14253082, 1862.42111051],\n",
              "       [ 421.12018217,  583.74624681,  663.73501861,  741.71535165,\n",
              "         849.85942446,  970.9310763 , 1112.49540216, 1243.19930093,\n",
              "        1413.5506685 , 1959.42821797]])"
            ]
          },
          "metadata": {},
          "execution_count": 103
        }
      ]
    },
    {
      "cell_type": "code",
      "source": [
        "payoff_autocall_coupon(principal, prices, S0, barrier, autocall, coupon_rate, payment_threshold, years, transition_matrices, r, qi)"
      ],
      "metadata": {
        "id": "vMiDThRTIBBH",
        "colab": {
          "base_uri": "https://localhost:8080/"
        },
        "outputId": "7681e85e-9566-4602-8648-e7f0c9d5251b"
      },
      "execution_count": null,
      "outputs": [
        {
          "output_type": "execute_result",
          "data": {
            "text/plain": [
              "95.80167178232749"
            ]
          },
          "metadata": {},
          "execution_count": 104
        }
      ]
    },
    {
      "cell_type": "code",
      "source": [],
      "metadata": {
        "id": "5QaRDytfbszO"
      },
      "execution_count": null,
      "outputs": []
    },
    {
      "cell_type": "markdown",
      "source": [
        "# **BOOSTER**\n",
        "# 5) Path independent notes with boosted returns possibility based on index returns"
      ],
      "metadata": {
        "id": "S_ql2Q4Ba2GU"
      }
    },
    {
      "cell_type": "code",
      "source": [
        "\n",
        "def payoff_booster(principal, prices, S0, booster_return, boost_level, participation_rate,barrier):\n",
        "    returns = np.zeros_like(prices)  # Initialize an array for returns\n",
        "    count = 0\n",
        "    for price in prices:\n",
        "        return_i = (price - S0) / S0  # Calculate return based on current price\n",
        "        net_index_return = return_i - booster_return\n",
        "        if return_i >= booster_return:\n",
        "            returns[count] = principal * (1 + booster_return + (participation_rate * net_index_return))\n",
        "        elif boost_level <= return_i <= booster_return:\n",
        "            returns[count] = principal * (1 + booster_return)\n",
        "        elif return_i>=barrier and return_i<boost_level:\n",
        "            returns[count]=principal\n",
        "        else:\n",
        "            returns[count] = principal * (1 + return_i)\n",
        "        count += 1\n",
        "    return returns\n",
        "\n",
        "def price_booster_PAR(principal, stock_price_tree, transition_matrices, years, qi, S0, booster_return, boost_level, participation_rate, r,barrier):\n",
        "    dt=1\n",
        "    # Initialize option value tree with zeros\n",
        "    option_value_tree = np.zeros_like(stock_price_tree)\n",
        "    # Payoff function takes in the stock prices and returns payoff vector\n",
        "    option_value_tree[-1] = payoff_booster(principal, stock_price_tree[-1], S0, booster_return, boost_level, participation_rate,barrier)\n",
        "    #print(option_value_tree)\n",
        "    # Backward induction to calculate option price at each node\n",
        "    for t in range(years-1 , 0, -1):\n",
        "        option_value_tree[t] = np.dot(transition_matrices[t-1], option_value_tree[t+1]) * np.exp(-r * dt)\n",
        "    # Calculate initial option price at t=0\n",
        "    option_value_tree[0] = np.dot(qi, option_value_tree[1]) * np.exp(-r * dt)\n",
        "    return option_value_tree[0][0]"
      ],
      "metadata": {
        "id": "E0Q2VQs5aIav"
      },
      "execution_count": null,
      "outputs": []
    },
    {
      "cell_type": "code",
      "source": [
        "len(prices)"
      ],
      "metadata": {
        "id": "PSKguN3_EtBj",
        "colab": {
          "base_uri": "https://localhost:8080/"
        },
        "outputId": "6052d25e-71ff-4ac1-91ea-93b9e7a1127c"
      },
      "execution_count": null,
      "outputs": [
        {
          "output_type": "execute_result",
          "data": {
            "text/plain": [
              "12"
            ]
          },
          "metadata": {},
          "execution_count": 107
        }
      ]
    },
    {
      "cell_type": "code",
      "source": [
        "price_booster_PAR(principal,prices,transition_matrices,years,qi,S0,booster_return,boost_level,participation_rate,r,barrier)"
      ],
      "metadata": {
        "id": "iQ2DlvXv4Nr9",
        "colab": {
          "base_uri": "https://localhost:8080/"
        },
        "outputId": "d202b463-63e6-4e4d-aedc-84c2c3614a83"
      },
      "execution_count": null,
      "outputs": [
        {
          "output_type": "execute_result",
          "data": {
            "text/plain": [
              "100.81607295590844"
            ]
          },
          "metadata": {},
          "execution_count": 108
        }
      ]
    },
    {
      "cell_type": "markdown",
      "source": [
        "# **IMPLIED VOLATILITY MINIMIZATION**"
      ],
      "metadata": {
        "id": "0I38or3gVuNR"
      }
    },
    {
      "cell_type": "code",
      "source": [
        "from scipy.optimize import brentq,newton\n",
        "# Define a function to find the implied volatility\n",
        "def find_implied_volatility(sigma,market_price,years,model):\n",
        "    def difference(sigma):\n",
        "        prices = generate_stock_price_tree(S0, r, sigma, dt, branch_count, time_periods,years, z_value)\n",
        "       # print('creating prices with S0 is ',S0,'years is ',years,'barrier is ',barrier)\n",
        "        print('SIGMA IS ',sigma)\n",
        "        # Parameters for auto call function\n",
        "        # price_auto_call(stock_price_tree,transition_matrices,r,fixed,variable,years,excess_ratio=0,principal_protected=False,barrier_rate=1,geared_protection=False,gearing_rate=1,gearing_fixed=0):\n",
        "        match model:\n",
        "          case \"auto_call_coupon\":\n",
        "            model_price=payoff_autocall_coupon(principal, prices, S0, barrier, autocall, coupon_rate, payment_threshold, years, transition_matrices, r, qi)\n",
        "          case 'buffer_or_barrier':\n",
        "            model_price=price_buffer_barrier(prices,transition_matrices,r,years,participation_rate,buffer)\n",
        "          case \"booster_par\":\n",
        "            model_price= price_booster_PAR(principal, prices, transition_matrices, years, qi, S0, booster_return, boost_level, participation_rate, r,barrier)\n",
        "          case \"booster_par_with_barrier\":\n",
        "            model_price=price_booster_PAR(principal, prices, transition_matrices, years, qi, S0, booster_return, boost_level, participation_rate, r,barrier)\n",
        "          case \"barrier_coupon\":\n",
        "            model_price=barrier_coupon_pricing(principal, prices, S0, barrier,participation_rate, coupon_rate, years, transition_matrices, r, qi,threshold_or_not=False,coupon_threshold=coupon_threshold)\n",
        "\n",
        "          case 'barrier_coupon_participation':\n",
        "             model_price=barrier_coupon_pricing(principal, prices, S0,participation_rate, barrier, coupon_rate, years, transition_matrices, r, qi,coupon_threshold=coupon_threshold,fun=\"barrier_coupon_participation\")\n",
        "          case 'autocall_changing_fixed_rate':\n",
        "            model_price=price_auto_call_changing_fixed_rate(principal,prices, transition_matrices, r, fixed, variable, years,excess_ratio_variable ,barrier,auto_call=1)\n",
        "        difference = (model_price - market_price)\n",
        "        print('model price is ',model_price , 'market price ius ',market_price)\n",
        "        return difference\n",
        "    # Use the newton method to find the root of the difference function\n",
        "    #sigma = newton(difference, sigma,tol=1e-6)\n",
        "    sigma = brentq(difference, a=sigma, b=2, xtol=1e-6)\n",
        "    #print(f\"Implied volatility (sigma) found: {sigma}\")\n",
        "    return sigma"
      ],
      "metadata": {
        "id": "jIUPpGz-NbiL"
      },
      "execution_count": null,
      "outputs": []
    },
    {
      "cell_type": "code",
      "source": [
        "payoff_autocall_coupon(principal, prices, S0, barrier, autocall, coupon_rate, payment_threshold, years, transition_matrices, r, qi)"
      ],
      "metadata": {
        "id": "Q9fB4ZVALPlD",
        "colab": {
          "base_uri": "https://localhost:8080/"
        },
        "outputId": "a3e7563c-f648-4311-c741-067866e805f5"
      },
      "execution_count": null,
      "outputs": [
        {
          "output_type": "execute_result",
          "data": {
            "text/plain": [
              "97.19716108177778"
            ]
          },
          "metadata": {},
          "execution_count": 125
        }
      ]
    },
    {
      "cell_type": "code",
      "source": [
        "price_buffer_barrier(prices,transition_matrices,r,years,participation_rate,buffer)"
      ],
      "metadata": {
        "id": "tHjnbflKBFqr",
        "colab": {
          "base_uri": "https://localhost:8080/"
        },
        "outputId": "eda4532d-a40f-4e3f-c1c5-d55f76040b46"
      },
      "execution_count": null,
      "outputs": [
        {
          "output_type": "execute_result",
          "data": {
            "text/plain": [
              "90.71752651757659"
            ]
          },
          "metadata": {},
          "execution_count": 111
        }
      ]
    },
    {
      "cell_type": "code",
      "source": [],
      "metadata": {
        "id": "hhDcNFaeBHKG"
      },
      "execution_count": null,
      "outputs": []
    },
    {
      "cell_type": "code",
      "source": [
        "market_price = 97.25# Insert the market price here\n",
        "# Find the implied volatility\n",
        "implied_volatility = find_implied_volatility(sigma,market_price,years,\"barrier_coupon\")"
      ],
      "metadata": {
        "id": "hbCjiK82V2Hn",
        "colab": {
          "base_uri": "https://localhost:8080/",
          "height": 408
        },
        "outputId": "d735b770-d791-46f2-b87e-aac77bbbccf7"
      },
      "execution_count": null,
      "outputs": [
        {
          "output_type": "stream",
          "name": "stdout",
          "text": [
            "SIGMA IS  0.1\n",
            "model price is  62.39651273304606 market price ius  97.25\n",
            "SIGMA IS  2.0\n",
            "model price is  0.3828542194816767 market price ius  97.25\n"
          ]
        },
        {
          "output_type": "error",
          "ename": "ValueError",
          "evalue": "f(a) and f(b) must have different signs",
          "traceback": [
            "\u001b[0;31m---------------------------------------------------------------------------\u001b[0m",
            "\u001b[0;31mValueError\u001b[0m                                Traceback (most recent call last)",
            "\u001b[0;32m<ipython-input-112-c67372fbb275>\u001b[0m in \u001b[0;36m<cell line: 3>\u001b[0;34m()\u001b[0m\n\u001b[1;32m      1\u001b[0m \u001b[0mmarket_price\u001b[0m \u001b[0;34m=\u001b[0m \u001b[0;36m97.25\u001b[0m\u001b[0;31m# Insert the market price here\u001b[0m\u001b[0;34m\u001b[0m\u001b[0;34m\u001b[0m\u001b[0m\n\u001b[1;32m      2\u001b[0m \u001b[0;31m# Find the implied volatility\u001b[0m\u001b[0;34m\u001b[0m\u001b[0;34m\u001b[0m\u001b[0m\n\u001b[0;32m----> 3\u001b[0;31m \u001b[0mimplied_volatility\u001b[0m \u001b[0;34m=\u001b[0m \u001b[0mfind_implied_volatility\u001b[0m\u001b[0;34m(\u001b[0m\u001b[0msigma\u001b[0m\u001b[0;34m,\u001b[0m\u001b[0mmarket_price\u001b[0m\u001b[0;34m,\u001b[0m\u001b[0myears\u001b[0m\u001b[0;34m,\u001b[0m\u001b[0;34m\"barrier_coupon\"\u001b[0m\u001b[0;34m)\u001b[0m\u001b[0;34m\u001b[0m\u001b[0;34m\u001b[0m\u001b[0m\n\u001b[0m",
            "\u001b[0;32m<ipython-input-109-d9b70ced674d>\u001b[0m in \u001b[0;36mfind_implied_volatility\u001b[0;34m(sigma, market_price, years, model)\u001b[0m\n\u001b[1;32m     29\u001b[0m     \u001b[0;31m# Use the newton method to find the root of the difference function\u001b[0m\u001b[0;34m\u001b[0m\u001b[0;34m\u001b[0m\u001b[0m\n\u001b[1;32m     30\u001b[0m     \u001b[0;31m#sigma = newton(difference, sigma,tol=1e-6)\u001b[0m\u001b[0;34m\u001b[0m\u001b[0;34m\u001b[0m\u001b[0m\n\u001b[0;32m---> 31\u001b[0;31m     \u001b[0msigma\u001b[0m \u001b[0;34m=\u001b[0m \u001b[0mbrentq\u001b[0m\u001b[0;34m(\u001b[0m\u001b[0mdifference\u001b[0m\u001b[0;34m,\u001b[0m \u001b[0ma\u001b[0m\u001b[0;34m=\u001b[0m\u001b[0msigma\u001b[0m\u001b[0;34m,\u001b[0m \u001b[0mb\u001b[0m\u001b[0;34m=\u001b[0m\u001b[0;36m2\u001b[0m\u001b[0;34m,\u001b[0m \u001b[0mxtol\u001b[0m\u001b[0;34m=\u001b[0m\u001b[0;36m1e-6\u001b[0m\u001b[0;34m)\u001b[0m\u001b[0;34m\u001b[0m\u001b[0;34m\u001b[0m\u001b[0m\n\u001b[0m\u001b[1;32m     32\u001b[0m     \u001b[0;31m#print(f\"Implied volatility (sigma) found: {sigma}\")\u001b[0m\u001b[0;34m\u001b[0m\u001b[0;34m\u001b[0m\u001b[0m\n\u001b[1;32m     33\u001b[0m     \u001b[0;32mreturn\u001b[0m \u001b[0msigma\u001b[0m\u001b[0;34m\u001b[0m\u001b[0;34m\u001b[0m\u001b[0m\n",
            "\u001b[0;32m/usr/local/lib/python3.10/dist-packages/scipy/optimize/_zeros_py.py\u001b[0m in \u001b[0;36mbrentq\u001b[0;34m(f, a, b, args, xtol, rtol, maxiter, full_output, disp)\u001b[0m\n\u001b[1;32m    804\u001b[0m         \u001b[0;32mraise\u001b[0m \u001b[0mValueError\u001b[0m\u001b[0;34m(\u001b[0m\u001b[0;34mf\"rtol too small ({rtol:g} < {_rtol:g})\"\u001b[0m\u001b[0;34m)\u001b[0m\u001b[0;34m\u001b[0m\u001b[0;34m\u001b[0m\u001b[0m\n\u001b[1;32m    805\u001b[0m     \u001b[0mf\u001b[0m \u001b[0;34m=\u001b[0m \u001b[0m_wrap_nan_raise\u001b[0m\u001b[0;34m(\u001b[0m\u001b[0mf\u001b[0m\u001b[0;34m)\u001b[0m\u001b[0;34m\u001b[0m\u001b[0;34m\u001b[0m\u001b[0m\n\u001b[0;32m--> 806\u001b[0;31m     \u001b[0mr\u001b[0m \u001b[0;34m=\u001b[0m \u001b[0m_zeros\u001b[0m\u001b[0;34m.\u001b[0m\u001b[0m_brentq\u001b[0m\u001b[0;34m(\u001b[0m\u001b[0mf\u001b[0m\u001b[0;34m,\u001b[0m \u001b[0ma\u001b[0m\u001b[0;34m,\u001b[0m \u001b[0mb\u001b[0m\u001b[0;34m,\u001b[0m \u001b[0mxtol\u001b[0m\u001b[0;34m,\u001b[0m \u001b[0mrtol\u001b[0m\u001b[0;34m,\u001b[0m \u001b[0mmaxiter\u001b[0m\u001b[0;34m,\u001b[0m \u001b[0margs\u001b[0m\u001b[0;34m,\u001b[0m \u001b[0mfull_output\u001b[0m\u001b[0;34m,\u001b[0m \u001b[0mdisp\u001b[0m\u001b[0;34m)\u001b[0m\u001b[0;34m\u001b[0m\u001b[0;34m\u001b[0m\u001b[0m\n\u001b[0m\u001b[1;32m    807\u001b[0m     \u001b[0;32mreturn\u001b[0m \u001b[0mresults_c\u001b[0m\u001b[0;34m(\u001b[0m\u001b[0mfull_output\u001b[0m\u001b[0;34m,\u001b[0m \u001b[0mr\u001b[0m\u001b[0;34m,\u001b[0m \u001b[0;34m\"brentq\"\u001b[0m\u001b[0;34m)\u001b[0m\u001b[0;34m\u001b[0m\u001b[0;34m\u001b[0m\u001b[0m\n\u001b[1;32m    808\u001b[0m \u001b[0;34m\u001b[0m\u001b[0m\n",
            "\u001b[0;31mValueError\u001b[0m: f(a) and f(b) must have different signs"
          ]
        }
      ]
    },
    {
      "cell_type": "markdown",
      "source": [
        "# USING CSV FILES TO DIRECTLY GENERATE RESULTS . ENTER I"
      ],
      "metadata": {
        "id": "EjJ45qa3k-wM"
      }
    },
    {
      "cell_type": "code",
      "source": [
        "from google.colab import files\n",
        "\n",
        "uploaded = files.upload()"
      ],
      "metadata": {
        "id": "uGrifsBUWOso"
      },
      "execution_count": null,
      "outputs": []
    },
    {
      "cell_type": "code",
      "source": [
        "ls"
      ],
      "metadata": {
        "id": "Cqga8ZY87kE6",
        "colab": {
          "base_uri": "https://localhost:8080/"
        },
        "outputId": "b555519a-7f4d-4252-b030-9b4c042c2d49"
      },
      "execution_count": null,
      "outputs": [
        {
          "output_type": "stream",
          "name": "stdout",
          "text": [
            " \u001b[0m\u001b[01;34msample_data\u001b[0m/  'STRUCTURES NOTES PAR DC TD - Sheet1.csv'\n"
          ]
        }
      ]
    },
    {
      "cell_type": "code",
      "source": [
        "import pandas as pd\n",
        "df=pd.read_csv('STRUCTURES NOTES PAR DC TD - Sheet1.csv')"
      ],
      "metadata": {
        "id": "24mYJ072WbNB"
      },
      "execution_count": null,
      "outputs": []
    },
    {
      "cell_type": "code",
      "source": [
        "df.rename(columns={'Boost level ':'Boost level','Participation rate\\t':'Participation rate','Boost level\\t':'Boost level','Coupon Rate\\t':'Coupon Rate'},inplace=True)"
      ],
      "metadata": {
        "id": "js3RdN9FXAuB"
      },
      "execution_count": null,
      "outputs": []
    },
    {
      "cell_type": "code",
      "source": [
        "df.columns"
      ],
      "metadata": {
        "id": "EKd7Stmo81qU",
        "colab": {
          "base_uri": "https://localhost:8080/"
        },
        "outputId": "d2661e9f-4b32-4bca-d324-8a15beea7157"
      },
      "execution_count": null,
      "outputs": [
        {
          "output_type": "execute_result",
          "data": {
            "text/plain": [
              "Index(['LINK(PAGE)', 'PAYOFF', 'Initial', 'TYPE', 'CUSIP', 'START', 'END',\n",
              "       'DURATION', 'Periods', 'INDEX', 'Boosted return', 'fixed_rate_start',\n",
              "       'fixed_rate_incr', 'Participation rate', 'Boost level', 'Barrier',\n",
              "       'Coupon Rate', 'Threshold', 'Autocall', 'Buffer', 'REALIZED VOL',\n",
              "       'IMPLIED VOL', 'Market price'],\n",
              "      dtype='object')"
            ]
          },
          "metadata": {},
          "execution_count": 116
        }
      ]
    },
    {
      "cell_type": "code",
      "source": [
        "df_altered=df.loc[:,['TYPE','Initial','Periods','Participation rate','Boost level','Autocall','fixed_rate_start','fixed_rate_incr','Buffer','Barrier','Coupon Rate','Threshold','Market price']]"
      ],
      "metadata": {
        "id": "YOuvNPCWWmv2"
      },
      "execution_count": null,
      "outputs": []
    },
    {
      "cell_type": "code",
      "source": [
        "df_altered"
      ],
      "metadata": {
        "id": "5kHIFw5DXXi7",
        "colab": {
          "base_uri": "https://localhost:8080/",
          "height": 474
        },
        "outputId": "79fc264e-1fa7-403b-8911-c0b44cff7974"
      },
      "execution_count": null,
      "outputs": [
        {
          "output_type": "execute_result",
          "data": {
            "text/plain": [
              "                            TYPE     Initial  Periods  Participation rate  \\\n",
              "0               auto_call_coupon   249.65000       12                 NaN   \n",
              "1               auto_call_coupon    33.29000        6                 NaN   \n",
              "2       booster_par_with_barrier    48.24000        5                 3.0   \n",
              "3   autocall_changing_fixed_rate   411.13000        5                 NaN   \n",
              "4               auto_call_coupon   250.39000       12                 NaN   \n",
              "5                    booster_par    72.08295        6                 2.0   \n",
              "6               auto_call_coupon   909.21000       12                 NaN   \n",
              "7               auto_call_coupon  3658.79000       12                 NaN   \n",
              "8   autocall_changing_fixed_rate    87.83833        5                 NaN   \n",
              "9               auto_call_coupon    43.09000        6                 NaN   \n",
              "10              auto_call_coupon   919.65000       12                 NaN   \n",
              "11              auto_call_coupon   919.65000       12                 NaN   \n",
              "12              auto_call_coupon  2399.63000       12                 NaN   \n",
              "\n",
              "    Boost level  Autocall  fixed_rate_start  fixed_rate_incr  Buffer  Barrier  \\\n",
              "0           NaN       1.1               NaN              NaN     NaN     0.80   \n",
              "1           NaN       1.1               NaN              NaN     NaN     0.60   \n",
              "2          0.65       NaN               NaN              NaN     NaN    -0.25   \n",
              "3           NaN       NaN              0.10           0.0500     NaN     0.80   \n",
              "4           NaN       1.1               NaN              NaN     NaN     0.85   \n",
              "5         -0.20       NaN               NaN              NaN     0.0      NaN   \n",
              "6           NaN       1.1               NaN              NaN     NaN     0.70   \n",
              "7           NaN       1.1               NaN              NaN     NaN     0.75   \n",
              "8           NaN       NaN              0.13           0.0375     NaN     0.80   \n",
              "9           NaN       1.1               NaN              NaN     NaN     0.80   \n",
              "10          NaN       1.1               NaN              NaN     NaN     0.65   \n",
              "11          NaN       1.1               NaN              NaN     NaN     0.65   \n",
              "12          NaN       1.1               NaN              NaN     NaN     0.60   \n",
              "\n",
              "    Coupon Rate  Threshold  Market price  \n",
              "0        0.0425       0.20         100.0  \n",
              "1        0.0645      -0.40         100.0  \n",
              "2           NaN        NaN          96.0  \n",
              "3           NaN        NaN          97.5  \n",
              "4        0.0415      -0.15          97.5  \n",
              "5           NaN        NaN          96.0  \n",
              "6        0.0250      -0.30          98.0  \n",
              "7        0.0275      -0.25          97.5  \n",
              "8           NaN        NaN           NaN  \n",
              "9        0.1500      -0.20          97.5  \n",
              "10       0.0210      -0.35          97.5  \n",
              "11       0.0255      -0.35         100.0  \n",
              "12       0.0250      -0.40         100.0  "
            ],
            "text/html": [
              "\n",
              "  <div id=\"df-de6c774e-343c-42d1-904c-4b954f7d37e7\" class=\"colab-df-container\">\n",
              "    <div>\n",
              "<style scoped>\n",
              "    .dataframe tbody tr th:only-of-type {\n",
              "        vertical-align: middle;\n",
              "    }\n",
              "\n",
              "    .dataframe tbody tr th {\n",
              "        vertical-align: top;\n",
              "    }\n",
              "\n",
              "    .dataframe thead th {\n",
              "        text-align: right;\n",
              "    }\n",
              "</style>\n",
              "<table border=\"1\" class=\"dataframe\">\n",
              "  <thead>\n",
              "    <tr style=\"text-align: right;\">\n",
              "      <th></th>\n",
              "      <th>TYPE</th>\n",
              "      <th>Initial</th>\n",
              "      <th>Periods</th>\n",
              "      <th>Participation rate</th>\n",
              "      <th>Boost level</th>\n",
              "      <th>Autocall</th>\n",
              "      <th>fixed_rate_start</th>\n",
              "      <th>fixed_rate_incr</th>\n",
              "      <th>Buffer</th>\n",
              "      <th>Barrier</th>\n",
              "      <th>Coupon Rate</th>\n",
              "      <th>Threshold</th>\n",
              "      <th>Market price</th>\n",
              "    </tr>\n",
              "  </thead>\n",
              "  <tbody>\n",
              "    <tr>\n",
              "      <th>0</th>\n",
              "      <td>auto_call_coupon</td>\n",
              "      <td>249.65000</td>\n",
              "      <td>12</td>\n",
              "      <td>NaN</td>\n",
              "      <td>NaN</td>\n",
              "      <td>1.1</td>\n",
              "      <td>NaN</td>\n",
              "      <td>NaN</td>\n",
              "      <td>NaN</td>\n",
              "      <td>0.80</td>\n",
              "      <td>0.0425</td>\n",
              "      <td>0.20</td>\n",
              "      <td>100.0</td>\n",
              "    </tr>\n",
              "    <tr>\n",
              "      <th>1</th>\n",
              "      <td>auto_call_coupon</td>\n",
              "      <td>33.29000</td>\n",
              "      <td>6</td>\n",
              "      <td>NaN</td>\n",
              "      <td>NaN</td>\n",
              "      <td>1.1</td>\n",
              "      <td>NaN</td>\n",
              "      <td>NaN</td>\n",
              "      <td>NaN</td>\n",
              "      <td>0.60</td>\n",
              "      <td>0.0645</td>\n",
              "      <td>-0.40</td>\n",
              "      <td>100.0</td>\n",
              "    </tr>\n",
              "    <tr>\n",
              "      <th>2</th>\n",
              "      <td>booster_par_with_barrier</td>\n",
              "      <td>48.24000</td>\n",
              "      <td>5</td>\n",
              "      <td>3.0</td>\n",
              "      <td>0.65</td>\n",
              "      <td>NaN</td>\n",
              "      <td>NaN</td>\n",
              "      <td>NaN</td>\n",
              "      <td>NaN</td>\n",
              "      <td>-0.25</td>\n",
              "      <td>NaN</td>\n",
              "      <td>NaN</td>\n",
              "      <td>96.0</td>\n",
              "    </tr>\n",
              "    <tr>\n",
              "      <th>3</th>\n",
              "      <td>autocall_changing_fixed_rate</td>\n",
              "      <td>411.13000</td>\n",
              "      <td>5</td>\n",
              "      <td>NaN</td>\n",
              "      <td>NaN</td>\n",
              "      <td>NaN</td>\n",
              "      <td>0.10</td>\n",
              "      <td>0.0500</td>\n",
              "      <td>NaN</td>\n",
              "      <td>0.80</td>\n",
              "      <td>NaN</td>\n",
              "      <td>NaN</td>\n",
              "      <td>97.5</td>\n",
              "    </tr>\n",
              "    <tr>\n",
              "      <th>4</th>\n",
              "      <td>auto_call_coupon</td>\n",
              "      <td>250.39000</td>\n",
              "      <td>12</td>\n",
              "      <td>NaN</td>\n",
              "      <td>NaN</td>\n",
              "      <td>1.1</td>\n",
              "      <td>NaN</td>\n",
              "      <td>NaN</td>\n",
              "      <td>NaN</td>\n",
              "      <td>0.85</td>\n",
              "      <td>0.0415</td>\n",
              "      <td>-0.15</td>\n",
              "      <td>97.5</td>\n",
              "    </tr>\n",
              "    <tr>\n",
              "      <th>5</th>\n",
              "      <td>booster_par</td>\n",
              "      <td>72.08295</td>\n",
              "      <td>6</td>\n",
              "      <td>2.0</td>\n",
              "      <td>-0.20</td>\n",
              "      <td>NaN</td>\n",
              "      <td>NaN</td>\n",
              "      <td>NaN</td>\n",
              "      <td>0.0</td>\n",
              "      <td>NaN</td>\n",
              "      <td>NaN</td>\n",
              "      <td>NaN</td>\n",
              "      <td>96.0</td>\n",
              "    </tr>\n",
              "    <tr>\n",
              "      <th>6</th>\n",
              "      <td>auto_call_coupon</td>\n",
              "      <td>909.21000</td>\n",
              "      <td>12</td>\n",
              "      <td>NaN</td>\n",
              "      <td>NaN</td>\n",
              "      <td>1.1</td>\n",
              "      <td>NaN</td>\n",
              "      <td>NaN</td>\n",
              "      <td>NaN</td>\n",
              "      <td>0.70</td>\n",
              "      <td>0.0250</td>\n",
              "      <td>-0.30</td>\n",
              "      <td>98.0</td>\n",
              "    </tr>\n",
              "    <tr>\n",
              "      <th>7</th>\n",
              "      <td>auto_call_coupon</td>\n",
              "      <td>3658.79000</td>\n",
              "      <td>12</td>\n",
              "      <td>NaN</td>\n",
              "      <td>NaN</td>\n",
              "      <td>1.1</td>\n",
              "      <td>NaN</td>\n",
              "      <td>NaN</td>\n",
              "      <td>NaN</td>\n",
              "      <td>0.75</td>\n",
              "      <td>0.0275</td>\n",
              "      <td>-0.25</td>\n",
              "      <td>97.5</td>\n",
              "    </tr>\n",
              "    <tr>\n",
              "      <th>8</th>\n",
              "      <td>autocall_changing_fixed_rate</td>\n",
              "      <td>87.83833</td>\n",
              "      <td>5</td>\n",
              "      <td>NaN</td>\n",
              "      <td>NaN</td>\n",
              "      <td>NaN</td>\n",
              "      <td>0.13</td>\n",
              "      <td>0.0375</td>\n",
              "      <td>NaN</td>\n",
              "      <td>0.80</td>\n",
              "      <td>NaN</td>\n",
              "      <td>NaN</td>\n",
              "      <td>NaN</td>\n",
              "    </tr>\n",
              "    <tr>\n",
              "      <th>9</th>\n",
              "      <td>auto_call_coupon</td>\n",
              "      <td>43.09000</td>\n",
              "      <td>6</td>\n",
              "      <td>NaN</td>\n",
              "      <td>NaN</td>\n",
              "      <td>1.1</td>\n",
              "      <td>NaN</td>\n",
              "      <td>NaN</td>\n",
              "      <td>NaN</td>\n",
              "      <td>0.80</td>\n",
              "      <td>0.1500</td>\n",
              "      <td>-0.20</td>\n",
              "      <td>97.5</td>\n",
              "    </tr>\n",
              "    <tr>\n",
              "      <th>10</th>\n",
              "      <td>auto_call_coupon</td>\n",
              "      <td>919.65000</td>\n",
              "      <td>12</td>\n",
              "      <td>NaN</td>\n",
              "      <td>NaN</td>\n",
              "      <td>1.1</td>\n",
              "      <td>NaN</td>\n",
              "      <td>NaN</td>\n",
              "      <td>NaN</td>\n",
              "      <td>0.65</td>\n",
              "      <td>0.0210</td>\n",
              "      <td>-0.35</td>\n",
              "      <td>97.5</td>\n",
              "    </tr>\n",
              "    <tr>\n",
              "      <th>11</th>\n",
              "      <td>auto_call_coupon</td>\n",
              "      <td>919.65000</td>\n",
              "      <td>12</td>\n",
              "      <td>NaN</td>\n",
              "      <td>NaN</td>\n",
              "      <td>1.1</td>\n",
              "      <td>NaN</td>\n",
              "      <td>NaN</td>\n",
              "      <td>NaN</td>\n",
              "      <td>0.65</td>\n",
              "      <td>0.0255</td>\n",
              "      <td>-0.35</td>\n",
              "      <td>100.0</td>\n",
              "    </tr>\n",
              "    <tr>\n",
              "      <th>12</th>\n",
              "      <td>auto_call_coupon</td>\n",
              "      <td>2399.63000</td>\n",
              "      <td>12</td>\n",
              "      <td>NaN</td>\n",
              "      <td>NaN</td>\n",
              "      <td>1.1</td>\n",
              "      <td>NaN</td>\n",
              "      <td>NaN</td>\n",
              "      <td>NaN</td>\n",
              "      <td>0.60</td>\n",
              "      <td>0.0250</td>\n",
              "      <td>-0.40</td>\n",
              "      <td>100.0</td>\n",
              "    </tr>\n",
              "  </tbody>\n",
              "</table>\n",
              "</div>\n",
              "    <div class=\"colab-df-buttons\">\n",
              "\n",
              "  <div class=\"colab-df-container\">\n",
              "    <button class=\"colab-df-convert\" onclick=\"convertToInteractive('df-de6c774e-343c-42d1-904c-4b954f7d37e7')\"\n",
              "            title=\"Convert this dataframe to an interactive table.\"\n",
              "            style=\"display:none;\">\n",
              "\n",
              "  <svg xmlns=\"http://www.w3.org/2000/svg\" height=\"24px\" viewBox=\"0 -960 960 960\">\n",
              "    <path d=\"M120-120v-720h720v720H120Zm60-500h600v-160H180v160Zm220 220h160v-160H400v160Zm0 220h160v-160H400v160ZM180-400h160v-160H180v160Zm440 0h160v-160H620v160ZM180-180h160v-160H180v160Zm440 0h160v-160H620v160Z\"/>\n",
              "  </svg>\n",
              "    </button>\n",
              "\n",
              "  <style>\n",
              "    .colab-df-container {\n",
              "      display:flex;\n",
              "      gap: 12px;\n",
              "    }\n",
              "\n",
              "    .colab-df-convert {\n",
              "      background-color: #E8F0FE;\n",
              "      border: none;\n",
              "      border-radius: 50%;\n",
              "      cursor: pointer;\n",
              "      display: none;\n",
              "      fill: #1967D2;\n",
              "      height: 32px;\n",
              "      padding: 0 0 0 0;\n",
              "      width: 32px;\n",
              "    }\n",
              "\n",
              "    .colab-df-convert:hover {\n",
              "      background-color: #E2EBFA;\n",
              "      box-shadow: 0px 1px 2px rgba(60, 64, 67, 0.3), 0px 1px 3px 1px rgba(60, 64, 67, 0.15);\n",
              "      fill: #174EA6;\n",
              "    }\n",
              "\n",
              "    .colab-df-buttons div {\n",
              "      margin-bottom: 4px;\n",
              "    }\n",
              "\n",
              "    [theme=dark] .colab-df-convert {\n",
              "      background-color: #3B4455;\n",
              "      fill: #D2E3FC;\n",
              "    }\n",
              "\n",
              "    [theme=dark] .colab-df-convert:hover {\n",
              "      background-color: #434B5C;\n",
              "      box-shadow: 0px 1px 3px 1px rgba(0, 0, 0, 0.15);\n",
              "      filter: drop-shadow(0px 1px 2px rgba(0, 0, 0, 0.3));\n",
              "      fill: #FFFFFF;\n",
              "    }\n",
              "  </style>\n",
              "\n",
              "    <script>\n",
              "      const buttonEl =\n",
              "        document.querySelector('#df-de6c774e-343c-42d1-904c-4b954f7d37e7 button.colab-df-convert');\n",
              "      buttonEl.style.display =\n",
              "        google.colab.kernel.accessAllowed ? 'block' : 'none';\n",
              "\n",
              "      async function convertToInteractive(key) {\n",
              "        const element = document.querySelector('#df-de6c774e-343c-42d1-904c-4b954f7d37e7');\n",
              "        const dataTable =\n",
              "          await google.colab.kernel.invokeFunction('convertToInteractive',\n",
              "                                                    [key], {});\n",
              "        if (!dataTable) return;\n",
              "\n",
              "        const docLinkHtml = 'Like what you see? Visit the ' +\n",
              "          '<a target=\"_blank\" href=https://colab.research.google.com/notebooks/data_table.ipynb>data table notebook</a>'\n",
              "          + ' to learn more about interactive tables.';\n",
              "        element.innerHTML = '';\n",
              "        dataTable['output_type'] = 'display_data';\n",
              "        await google.colab.output.renderOutput(dataTable, element);\n",
              "        const docLink = document.createElement('div');\n",
              "        docLink.innerHTML = docLinkHtml;\n",
              "        element.appendChild(docLink);\n",
              "      }\n",
              "    </script>\n",
              "  </div>\n",
              "\n",
              "\n",
              "<div id=\"df-15ea4558-73d0-4e38-9418-8945d5d40aa5\">\n",
              "  <button class=\"colab-df-quickchart\" onclick=\"quickchart('df-15ea4558-73d0-4e38-9418-8945d5d40aa5')\"\n",
              "            title=\"Suggest charts\"\n",
              "            style=\"display:none;\">\n",
              "\n",
              "<svg xmlns=\"http://www.w3.org/2000/svg\" height=\"24px\"viewBox=\"0 0 24 24\"\n",
              "     width=\"24px\">\n",
              "    <g>\n",
              "        <path d=\"M19 3H5c-1.1 0-2 .9-2 2v14c0 1.1.9 2 2 2h14c1.1 0 2-.9 2-2V5c0-1.1-.9-2-2-2zM9 17H7v-7h2v7zm4 0h-2V7h2v10zm4 0h-2v-4h2v4z\"/>\n",
              "    </g>\n",
              "</svg>\n",
              "  </button>\n",
              "\n",
              "<style>\n",
              "  .colab-df-quickchart {\n",
              "      --bg-color: #E8F0FE;\n",
              "      --fill-color: #1967D2;\n",
              "      --hover-bg-color: #E2EBFA;\n",
              "      --hover-fill-color: #174EA6;\n",
              "      --disabled-fill-color: #AAA;\n",
              "      --disabled-bg-color: #DDD;\n",
              "  }\n",
              "\n",
              "  [theme=dark] .colab-df-quickchart {\n",
              "      --bg-color: #3B4455;\n",
              "      --fill-color: #D2E3FC;\n",
              "      --hover-bg-color: #434B5C;\n",
              "      --hover-fill-color: #FFFFFF;\n",
              "      --disabled-bg-color: #3B4455;\n",
              "      --disabled-fill-color: #666;\n",
              "  }\n",
              "\n",
              "  .colab-df-quickchart {\n",
              "    background-color: var(--bg-color);\n",
              "    border: none;\n",
              "    border-radius: 50%;\n",
              "    cursor: pointer;\n",
              "    display: none;\n",
              "    fill: var(--fill-color);\n",
              "    height: 32px;\n",
              "    padding: 0;\n",
              "    width: 32px;\n",
              "  }\n",
              "\n",
              "  .colab-df-quickchart:hover {\n",
              "    background-color: var(--hover-bg-color);\n",
              "    box-shadow: 0 1px 2px rgba(60, 64, 67, 0.3), 0 1px 3px 1px rgba(60, 64, 67, 0.15);\n",
              "    fill: var(--button-hover-fill-color);\n",
              "  }\n",
              "\n",
              "  .colab-df-quickchart-complete:disabled,\n",
              "  .colab-df-quickchart-complete:disabled:hover {\n",
              "    background-color: var(--disabled-bg-color);\n",
              "    fill: var(--disabled-fill-color);\n",
              "    box-shadow: none;\n",
              "  }\n",
              "\n",
              "  .colab-df-spinner {\n",
              "    border: 2px solid var(--fill-color);\n",
              "    border-color: transparent;\n",
              "    border-bottom-color: var(--fill-color);\n",
              "    animation:\n",
              "      spin 1s steps(1) infinite;\n",
              "  }\n",
              "\n",
              "  @keyframes spin {\n",
              "    0% {\n",
              "      border-color: transparent;\n",
              "      border-bottom-color: var(--fill-color);\n",
              "      border-left-color: var(--fill-color);\n",
              "    }\n",
              "    20% {\n",
              "      border-color: transparent;\n",
              "      border-left-color: var(--fill-color);\n",
              "      border-top-color: var(--fill-color);\n",
              "    }\n",
              "    30% {\n",
              "      border-color: transparent;\n",
              "      border-left-color: var(--fill-color);\n",
              "      border-top-color: var(--fill-color);\n",
              "      border-right-color: var(--fill-color);\n",
              "    }\n",
              "    40% {\n",
              "      border-color: transparent;\n",
              "      border-right-color: var(--fill-color);\n",
              "      border-top-color: var(--fill-color);\n",
              "    }\n",
              "    60% {\n",
              "      border-color: transparent;\n",
              "      border-right-color: var(--fill-color);\n",
              "    }\n",
              "    80% {\n",
              "      border-color: transparent;\n",
              "      border-right-color: var(--fill-color);\n",
              "      border-bottom-color: var(--fill-color);\n",
              "    }\n",
              "    90% {\n",
              "      border-color: transparent;\n",
              "      border-bottom-color: var(--fill-color);\n",
              "    }\n",
              "  }\n",
              "</style>\n",
              "\n",
              "  <script>\n",
              "    async function quickchart(key) {\n",
              "      const quickchartButtonEl =\n",
              "        document.querySelector('#' + key + ' button');\n",
              "      quickchartButtonEl.disabled = true;  // To prevent multiple clicks.\n",
              "      quickchartButtonEl.classList.add('colab-df-spinner');\n",
              "      try {\n",
              "        const charts = await google.colab.kernel.invokeFunction(\n",
              "            'suggestCharts', [key], {});\n",
              "      } catch (error) {\n",
              "        console.error('Error during call to suggestCharts:', error);\n",
              "      }\n",
              "      quickchartButtonEl.classList.remove('colab-df-spinner');\n",
              "      quickchartButtonEl.classList.add('colab-df-quickchart-complete');\n",
              "    }\n",
              "    (() => {\n",
              "      let quickchartButtonEl =\n",
              "        document.querySelector('#df-15ea4558-73d0-4e38-9418-8945d5d40aa5 button');\n",
              "      quickchartButtonEl.style.display =\n",
              "        google.colab.kernel.accessAllowed ? 'block' : 'none';\n",
              "    })();\n",
              "  </script>\n",
              "</div>\n",
              "\n",
              "  <div id=\"id_ce6037d8-cec0-4eab-aac9-c1ffb2804a07\">\n",
              "    <style>\n",
              "      .colab-df-generate {\n",
              "        background-color: #E8F0FE;\n",
              "        border: none;\n",
              "        border-radius: 50%;\n",
              "        cursor: pointer;\n",
              "        display: none;\n",
              "        fill: #1967D2;\n",
              "        height: 32px;\n",
              "        padding: 0 0 0 0;\n",
              "        width: 32px;\n",
              "      }\n",
              "\n",
              "      .colab-df-generate:hover {\n",
              "        background-color: #E2EBFA;\n",
              "        box-shadow: 0px 1px 2px rgba(60, 64, 67, 0.3), 0px 1px 3px 1px rgba(60, 64, 67, 0.15);\n",
              "        fill: #174EA6;\n",
              "      }\n",
              "\n",
              "      [theme=dark] .colab-df-generate {\n",
              "        background-color: #3B4455;\n",
              "        fill: #D2E3FC;\n",
              "      }\n",
              "\n",
              "      [theme=dark] .colab-df-generate:hover {\n",
              "        background-color: #434B5C;\n",
              "        box-shadow: 0px 1px 3px 1px rgba(0, 0, 0, 0.15);\n",
              "        filter: drop-shadow(0px 1px 2px rgba(0, 0, 0, 0.3));\n",
              "        fill: #FFFFFF;\n",
              "      }\n",
              "    </style>\n",
              "    <button class=\"colab-df-generate\" onclick=\"generateWithVariable('df_altered')\"\n",
              "            title=\"Generate code using this dataframe.\"\n",
              "            style=\"display:none;\">\n",
              "\n",
              "  <svg xmlns=\"http://www.w3.org/2000/svg\" height=\"24px\"viewBox=\"0 0 24 24\"\n",
              "       width=\"24px\">\n",
              "    <path d=\"M7,19H8.4L18.45,9,17,7.55,7,17.6ZM5,21V16.75L18.45,3.32a2,2,0,0,1,2.83,0l1.4,1.43a1.91,1.91,0,0,1,.58,1.4,1.91,1.91,0,0,1-.58,1.4L9.25,21ZM18.45,9,17,7.55Zm-12,3A5.31,5.31,0,0,0,4.9,8.1,5.31,5.31,0,0,0,1,6.5,5.31,5.31,0,0,0,4.9,4.9,5.31,5.31,0,0,0,6.5,1,5.31,5.31,0,0,0,8.1,4.9,5.31,5.31,0,0,0,12,6.5,5.46,5.46,0,0,0,6.5,12Z\"/>\n",
              "  </svg>\n",
              "    </button>\n",
              "    <script>\n",
              "      (() => {\n",
              "      const buttonEl =\n",
              "        document.querySelector('#id_ce6037d8-cec0-4eab-aac9-c1ffb2804a07 button.colab-df-generate');\n",
              "      buttonEl.style.display =\n",
              "        google.colab.kernel.accessAllowed ? 'block' : 'none';\n",
              "\n",
              "      buttonEl.onclick = () => {\n",
              "        google.colab.notebook.generateWithVariable('df_altered');\n",
              "      }\n",
              "      })();\n",
              "    </script>\n",
              "  </div>\n",
              "\n",
              "    </div>\n",
              "  </div>\n"
            ],
            "application/vnd.google.colaboratory.intrinsic+json": {
              "type": "dataframe",
              "variable_name": "df_altered",
              "summary": "{\n  \"name\": \"df_altered\",\n  \"rows\": 13,\n  \"fields\": [\n    {\n      \"column\": \"TYPE\",\n      \"properties\": {\n        \"dtype\": \"category\",\n        \"num_unique_values\": 4,\n        \"samples\": [\n          \"booster_par_with_barrier\",\n          \"booster_par\",\n          \"auto_call_coupon\"\n        ],\n        \"semantic_type\": \"\",\n        \"description\": \"\"\n      }\n    },\n    {\n      \"column\": \"Initial\",\n      \"properties\": {\n        \"dtype\": \"number\",\n        \"std\": 1090.8339118458211,\n        \"min\": 33.29,\n        \"max\": 3658.79,\n        \"num_unique_values\": 12,\n        \"samples\": [\n          919.65,\n          43.09,\n          249.65\n        ],\n        \"semantic_type\": \"\",\n        \"description\": \"\"\n      }\n    },\n    {\n      \"column\": \"Periods\",\n      \"properties\": {\n        \"dtype\": \"number\",\n        \"std\": 3,\n        \"min\": 5,\n        \"max\": 12,\n        \"num_unique_values\": 3,\n        \"samples\": [\n          12,\n          6,\n          5\n        ],\n        \"semantic_type\": \"\",\n        \"description\": \"\"\n      }\n    },\n    {\n      \"column\": \"Participation rate\",\n      \"properties\": {\n        \"dtype\": \"number\",\n        \"std\": 0.7071067811865476,\n        \"min\": 2.0,\n        \"max\": 3.0,\n        \"num_unique_values\": 2,\n        \"samples\": [\n          2.0,\n          3.0\n        ],\n        \"semantic_type\": \"\",\n        \"description\": \"\"\n      }\n    },\n    {\n      \"column\": \"Boost level\",\n      \"properties\": {\n        \"dtype\": \"number\",\n        \"std\": 0.6010407640085654,\n        \"min\": -0.2,\n        \"max\": 0.65,\n        \"num_unique_values\": 2,\n        \"samples\": [\n          -0.2,\n          0.65\n        ],\n        \"semantic_type\": \"\",\n        \"description\": \"\"\n      }\n    },\n    {\n      \"column\": \"Autocall\",\n      \"properties\": {\n        \"dtype\": \"number\",\n        \"std\": 2.3551386880256624e-16,\n        \"min\": 1.1,\n        \"max\": 1.1,\n        \"num_unique_values\": 1,\n        \"samples\": [\n          1.1\n        ],\n        \"semantic_type\": \"\",\n        \"description\": \"\"\n      }\n    },\n    {\n      \"column\": \"fixed_rate_start\",\n      \"properties\": {\n        \"dtype\": \"number\",\n        \"std\": 0.021213203435596427,\n        \"min\": 0.1,\n        \"max\": 0.13,\n        \"num_unique_values\": 2,\n        \"samples\": [\n          0.13\n        ],\n        \"semantic_type\": \"\",\n        \"description\": \"\"\n      }\n    },\n    {\n      \"column\": \"fixed_rate_incr\",\n      \"properties\": {\n        \"dtype\": \"number\",\n        \"std\": 0.008838834764831846,\n        \"min\": 0.0375,\n        \"max\": 0.05,\n        \"num_unique_values\": 2,\n        \"samples\": [\n          0.0375\n        ],\n        \"semantic_type\": \"\",\n        \"description\": \"\"\n      }\n    },\n    {\n      \"column\": \"Buffer\",\n      \"properties\": {\n        \"dtype\": \"number\",\n        \"std\": null,\n        \"min\": 0.0,\n        \"max\": 0.0,\n        \"num_unique_values\": 1,\n        \"samples\": [\n          0.0\n        ],\n        \"semantic_type\": \"\",\n        \"description\": \"\"\n      }\n    },\n    {\n      \"column\": \"Barrier\",\n      \"properties\": {\n        \"dtype\": \"number\",\n        \"std\": 0.2950025680422378,\n        \"min\": -0.25,\n        \"max\": 0.85,\n        \"num_unique_values\": 7,\n        \"samples\": [\n          0.8\n        ],\n        \"semantic_type\": \"\",\n        \"description\": \"\"\n      }\n    },\n    {\n      \"column\": \"Coupon Rate\",\n      \"properties\": {\n        \"dtype\": \"number\",\n        \"std\": 0.04100643580924557,\n        \"min\": 0.021,\n        \"max\": 0.15,\n        \"num_unique_values\": 8,\n        \"samples\": [\n          0.0645\n        ],\n        \"semantic_type\": \"\",\n        \"description\": \"\"\n      }\n    },\n    {\n      \"column\": \"Threshold\",\n      \"properties\": {\n        \"dtype\": \"number\",\n        \"std\": 0.18782379449307743,\n        \"min\": -0.4,\n        \"max\": 0.2,\n        \"num_unique_values\": 7,\n        \"samples\": [\n          0.2\n        ],\n        \"semantic_type\": \"\",\n        \"description\": \"\"\n      }\n    },\n    {\n      \"column\": \"Market price\",\n      \"properties\": {\n        \"dtype\": \"number\",\n        \"std\": 1.5094399924836663,\n        \"min\": 96.0,\n        \"max\": 100.0,\n        \"num_unique_values\": 4,\n        \"samples\": [\n          96.0\n        ],\n        \"semantic_type\": \"\",\n        \"description\": \"\"\n      }\n    }\n  ]\n}"
            }
          },
          "metadata": {},
          "execution_count": 118
        }
      ]
    },
    {
      "cell_type": "code",
      "source": [
        "def load_csv(file_name):\n",
        "    df = pd.read_csv(file_name)\n",
        "    df_altered=df.loc[:,['TYPE','Initial','Periods','Participation rate','Boost level','Barrier','Coupon Rate','Threshold','Market price']]\n",
        "    return df\n",
        "\n",
        "def generate_data(S0,r,sigma,dt,branch_count,years,z_value,time_periods=1):\n",
        "    b_tree = generate_btree(time_periods,years,branch_count,z_value)\n",
        "    transition_matrices = generate_transition_matrices(time_periods,years,branch_count,b_tree)\n",
        "    prices = generate_stock_price_tree(S0, r, sigma, dt, branch_count, time_periods,years, z_value)\n",
        "    return transition_matrices,prices\n",
        "\n",
        "\n"
      ],
      "metadata": {
        "id": "Ygvb6lskT25C"
      },
      "execution_count": null,
      "outputs": []
    },
    {
      "cell_type": "code",
      "source": [
        "df_altered.head()\n",
        "df_altered['Participation rate'].fillna(1,inplace=True)\n",
        "df_altered['Boost level'].fillna(-100,inplace=True)\n",
        "df_altered['Barrier'].fillna(100,inplace=True)\n",
        "df_altered['Threshold'].fillna(-100,inplace=True)\n",
        "df_altered['Autocall'].fillna(1,inplace=True)"
      ],
      "metadata": {
        "id": "Fpd48D5SberI",
        "colab": {
          "base_uri": "https://localhost:8080/"
        },
        "outputId": "de701a51-5721-45cc-9037-c9e6bad1ce42"
      },
      "execution_count": null,
      "outputs": [
        {
          "output_type": "stream",
          "name": "stderr",
          "text": [
            "<ipython-input-120-6e3cc5b8cd3e>:2: FutureWarning: A value is trying to be set on a copy of a DataFrame or Series through chained assignment using an inplace method.\n",
            "The behavior will change in pandas 3.0. This inplace method will never work because the intermediate object on which we are setting values always behaves as a copy.\n",
            "\n",
            "For example, when doing 'df[col].method(value, inplace=True)', try using 'df.method({col: value}, inplace=True)' or df[col] = df[col].method(value) instead, to perform the operation inplace on the original object.\n",
            "\n",
            "\n",
            "  df_altered['Participation rate'].fillna(1,inplace=True)\n",
            "<ipython-input-120-6e3cc5b8cd3e>:3: FutureWarning: A value is trying to be set on a copy of a DataFrame or Series through chained assignment using an inplace method.\n",
            "The behavior will change in pandas 3.0. This inplace method will never work because the intermediate object on which we are setting values always behaves as a copy.\n",
            "\n",
            "For example, when doing 'df[col].method(value, inplace=True)', try using 'df.method({col: value}, inplace=True)' or df[col] = df[col].method(value) instead, to perform the operation inplace on the original object.\n",
            "\n",
            "\n",
            "  df_altered['Boost level'].fillna(-100,inplace=True)\n",
            "<ipython-input-120-6e3cc5b8cd3e>:4: FutureWarning: A value is trying to be set on a copy of a DataFrame or Series through chained assignment using an inplace method.\n",
            "The behavior will change in pandas 3.0. This inplace method will never work because the intermediate object on which we are setting values always behaves as a copy.\n",
            "\n",
            "For example, when doing 'df[col].method(value, inplace=True)', try using 'df.method({col: value}, inplace=True)' or df[col] = df[col].method(value) instead, to perform the operation inplace on the original object.\n",
            "\n",
            "\n",
            "  df_altered['Barrier'].fillna(100,inplace=True)\n",
            "<ipython-input-120-6e3cc5b8cd3e>:5: FutureWarning: A value is trying to be set on a copy of a DataFrame or Series through chained assignment using an inplace method.\n",
            "The behavior will change in pandas 3.0. This inplace method will never work because the intermediate object on which we are setting values always behaves as a copy.\n",
            "\n",
            "For example, when doing 'df[col].method(value, inplace=True)', try using 'df.method({col: value}, inplace=True)' or df[col] = df[col].method(value) instead, to perform the operation inplace on the original object.\n",
            "\n",
            "\n",
            "  df_altered['Threshold'].fillna(-100,inplace=True)\n",
            "<ipython-input-120-6e3cc5b8cd3e>:6: FutureWarning: A value is trying to be set on a copy of a DataFrame or Series through chained assignment using an inplace method.\n",
            "The behavior will change in pandas 3.0. This inplace method will never work because the intermediate object on which we are setting values always behaves as a copy.\n",
            "\n",
            "For example, when doing 'df[col].method(value, inplace=True)', try using 'df.method({col: value}, inplace=True)' or df[col] = df[col].method(value) instead, to perform the operation inplace on the original object.\n",
            "\n",
            "\n",
            "  df_altered['Autocall'].fillna(1,inplace=True)\n"
          ]
        }
      ]
    },
    {
      "cell_type": "code",
      "source": [
        "df_altered.head(10)"
      ],
      "metadata": {
        "id": "pPB9FbpKh2Zx",
        "colab": {
          "base_uri": "https://localhost:8080/",
          "height": 380
        },
        "outputId": "ef0deb34-adb0-44b4-eb3c-9d23af99ce30"
      },
      "execution_count": null,
      "outputs": [
        {
          "output_type": "execute_result",
          "data": {
            "text/plain": [
              "                           TYPE     Initial  Periods  Participation rate  \\\n",
              "0              auto_call_coupon   249.65000       12                 1.0   \n",
              "1              auto_call_coupon    33.29000        6                 1.0   \n",
              "2      booster_par_with_barrier    48.24000        5                 3.0   \n",
              "3  autocall_changing_fixed_rate   411.13000        5                 1.0   \n",
              "4              auto_call_coupon   250.39000       12                 1.0   \n",
              "5                   booster_par    72.08295        6                 2.0   \n",
              "6              auto_call_coupon   909.21000       12                 1.0   \n",
              "7              auto_call_coupon  3658.79000       12                 1.0   \n",
              "8  autocall_changing_fixed_rate    87.83833        5                 1.0   \n",
              "9              auto_call_coupon    43.09000        6                 1.0   \n",
              "\n",
              "   Boost level  Autocall  fixed_rate_start  fixed_rate_incr  Buffer  Barrier  \\\n",
              "0      -100.00       1.1               NaN              NaN     NaN     0.80   \n",
              "1      -100.00       1.1               NaN              NaN     NaN     0.60   \n",
              "2         0.65       1.0               NaN              NaN     NaN    -0.25   \n",
              "3      -100.00       1.0              0.10           0.0500     NaN     0.80   \n",
              "4      -100.00       1.1               NaN              NaN     NaN     0.85   \n",
              "5        -0.20       1.0               NaN              NaN     0.0   100.00   \n",
              "6      -100.00       1.1               NaN              NaN     NaN     0.70   \n",
              "7      -100.00       1.1               NaN              NaN     NaN     0.75   \n",
              "8      -100.00       1.0              0.13           0.0375     NaN     0.80   \n",
              "9      -100.00       1.1               NaN              NaN     NaN     0.80   \n",
              "\n",
              "   Coupon Rate  Threshold  Market price  \n",
              "0       0.0425       0.20         100.0  \n",
              "1       0.0645      -0.40         100.0  \n",
              "2          NaN    -100.00          96.0  \n",
              "3          NaN    -100.00          97.5  \n",
              "4       0.0415      -0.15          97.5  \n",
              "5          NaN    -100.00          96.0  \n",
              "6       0.0250      -0.30          98.0  \n",
              "7       0.0275      -0.25          97.5  \n",
              "8          NaN    -100.00           NaN  \n",
              "9       0.1500      -0.20          97.5  "
            ],
            "text/html": [
              "\n",
              "  <div id=\"df-4d6bc541-6272-46b6-bf1a-4ff41ed13eb1\" class=\"colab-df-container\">\n",
              "    <div>\n",
              "<style scoped>\n",
              "    .dataframe tbody tr th:only-of-type {\n",
              "        vertical-align: middle;\n",
              "    }\n",
              "\n",
              "    .dataframe tbody tr th {\n",
              "        vertical-align: top;\n",
              "    }\n",
              "\n",
              "    .dataframe thead th {\n",
              "        text-align: right;\n",
              "    }\n",
              "</style>\n",
              "<table border=\"1\" class=\"dataframe\">\n",
              "  <thead>\n",
              "    <tr style=\"text-align: right;\">\n",
              "      <th></th>\n",
              "      <th>TYPE</th>\n",
              "      <th>Initial</th>\n",
              "      <th>Periods</th>\n",
              "      <th>Participation rate</th>\n",
              "      <th>Boost level</th>\n",
              "      <th>Autocall</th>\n",
              "      <th>fixed_rate_start</th>\n",
              "      <th>fixed_rate_incr</th>\n",
              "      <th>Buffer</th>\n",
              "      <th>Barrier</th>\n",
              "      <th>Coupon Rate</th>\n",
              "      <th>Threshold</th>\n",
              "      <th>Market price</th>\n",
              "    </tr>\n",
              "  </thead>\n",
              "  <tbody>\n",
              "    <tr>\n",
              "      <th>0</th>\n",
              "      <td>auto_call_coupon</td>\n",
              "      <td>249.65000</td>\n",
              "      <td>12</td>\n",
              "      <td>1.0</td>\n",
              "      <td>-100.00</td>\n",
              "      <td>1.1</td>\n",
              "      <td>NaN</td>\n",
              "      <td>NaN</td>\n",
              "      <td>NaN</td>\n",
              "      <td>0.80</td>\n",
              "      <td>0.0425</td>\n",
              "      <td>0.20</td>\n",
              "      <td>100.0</td>\n",
              "    </tr>\n",
              "    <tr>\n",
              "      <th>1</th>\n",
              "      <td>auto_call_coupon</td>\n",
              "      <td>33.29000</td>\n",
              "      <td>6</td>\n",
              "      <td>1.0</td>\n",
              "      <td>-100.00</td>\n",
              "      <td>1.1</td>\n",
              "      <td>NaN</td>\n",
              "      <td>NaN</td>\n",
              "      <td>NaN</td>\n",
              "      <td>0.60</td>\n",
              "      <td>0.0645</td>\n",
              "      <td>-0.40</td>\n",
              "      <td>100.0</td>\n",
              "    </tr>\n",
              "    <tr>\n",
              "      <th>2</th>\n",
              "      <td>booster_par_with_barrier</td>\n",
              "      <td>48.24000</td>\n",
              "      <td>5</td>\n",
              "      <td>3.0</td>\n",
              "      <td>0.65</td>\n",
              "      <td>1.0</td>\n",
              "      <td>NaN</td>\n",
              "      <td>NaN</td>\n",
              "      <td>NaN</td>\n",
              "      <td>-0.25</td>\n",
              "      <td>NaN</td>\n",
              "      <td>-100.00</td>\n",
              "      <td>96.0</td>\n",
              "    </tr>\n",
              "    <tr>\n",
              "      <th>3</th>\n",
              "      <td>autocall_changing_fixed_rate</td>\n",
              "      <td>411.13000</td>\n",
              "      <td>5</td>\n",
              "      <td>1.0</td>\n",
              "      <td>-100.00</td>\n",
              "      <td>1.0</td>\n",
              "      <td>0.10</td>\n",
              "      <td>0.0500</td>\n",
              "      <td>NaN</td>\n",
              "      <td>0.80</td>\n",
              "      <td>NaN</td>\n",
              "      <td>-100.00</td>\n",
              "      <td>97.5</td>\n",
              "    </tr>\n",
              "    <tr>\n",
              "      <th>4</th>\n",
              "      <td>auto_call_coupon</td>\n",
              "      <td>250.39000</td>\n",
              "      <td>12</td>\n",
              "      <td>1.0</td>\n",
              "      <td>-100.00</td>\n",
              "      <td>1.1</td>\n",
              "      <td>NaN</td>\n",
              "      <td>NaN</td>\n",
              "      <td>NaN</td>\n",
              "      <td>0.85</td>\n",
              "      <td>0.0415</td>\n",
              "      <td>-0.15</td>\n",
              "      <td>97.5</td>\n",
              "    </tr>\n",
              "    <tr>\n",
              "      <th>5</th>\n",
              "      <td>booster_par</td>\n",
              "      <td>72.08295</td>\n",
              "      <td>6</td>\n",
              "      <td>2.0</td>\n",
              "      <td>-0.20</td>\n",
              "      <td>1.0</td>\n",
              "      <td>NaN</td>\n",
              "      <td>NaN</td>\n",
              "      <td>0.0</td>\n",
              "      <td>100.00</td>\n",
              "      <td>NaN</td>\n",
              "      <td>-100.00</td>\n",
              "      <td>96.0</td>\n",
              "    </tr>\n",
              "    <tr>\n",
              "      <th>6</th>\n",
              "      <td>auto_call_coupon</td>\n",
              "      <td>909.21000</td>\n",
              "      <td>12</td>\n",
              "      <td>1.0</td>\n",
              "      <td>-100.00</td>\n",
              "      <td>1.1</td>\n",
              "      <td>NaN</td>\n",
              "      <td>NaN</td>\n",
              "      <td>NaN</td>\n",
              "      <td>0.70</td>\n",
              "      <td>0.0250</td>\n",
              "      <td>-0.30</td>\n",
              "      <td>98.0</td>\n",
              "    </tr>\n",
              "    <tr>\n",
              "      <th>7</th>\n",
              "      <td>auto_call_coupon</td>\n",
              "      <td>3658.79000</td>\n",
              "      <td>12</td>\n",
              "      <td>1.0</td>\n",
              "      <td>-100.00</td>\n",
              "      <td>1.1</td>\n",
              "      <td>NaN</td>\n",
              "      <td>NaN</td>\n",
              "      <td>NaN</td>\n",
              "      <td>0.75</td>\n",
              "      <td>0.0275</td>\n",
              "      <td>-0.25</td>\n",
              "      <td>97.5</td>\n",
              "    </tr>\n",
              "    <tr>\n",
              "      <th>8</th>\n",
              "      <td>autocall_changing_fixed_rate</td>\n",
              "      <td>87.83833</td>\n",
              "      <td>5</td>\n",
              "      <td>1.0</td>\n",
              "      <td>-100.00</td>\n",
              "      <td>1.0</td>\n",
              "      <td>0.13</td>\n",
              "      <td>0.0375</td>\n",
              "      <td>NaN</td>\n",
              "      <td>0.80</td>\n",
              "      <td>NaN</td>\n",
              "      <td>-100.00</td>\n",
              "      <td>NaN</td>\n",
              "    </tr>\n",
              "    <tr>\n",
              "      <th>9</th>\n",
              "      <td>auto_call_coupon</td>\n",
              "      <td>43.09000</td>\n",
              "      <td>6</td>\n",
              "      <td>1.0</td>\n",
              "      <td>-100.00</td>\n",
              "      <td>1.1</td>\n",
              "      <td>NaN</td>\n",
              "      <td>NaN</td>\n",
              "      <td>NaN</td>\n",
              "      <td>0.80</td>\n",
              "      <td>0.1500</td>\n",
              "      <td>-0.20</td>\n",
              "      <td>97.5</td>\n",
              "    </tr>\n",
              "  </tbody>\n",
              "</table>\n",
              "</div>\n",
              "    <div class=\"colab-df-buttons\">\n",
              "\n",
              "  <div class=\"colab-df-container\">\n",
              "    <button class=\"colab-df-convert\" onclick=\"convertToInteractive('df-4d6bc541-6272-46b6-bf1a-4ff41ed13eb1')\"\n",
              "            title=\"Convert this dataframe to an interactive table.\"\n",
              "            style=\"display:none;\">\n",
              "\n",
              "  <svg xmlns=\"http://www.w3.org/2000/svg\" height=\"24px\" viewBox=\"0 -960 960 960\">\n",
              "    <path d=\"M120-120v-720h720v720H120Zm60-500h600v-160H180v160Zm220 220h160v-160H400v160Zm0 220h160v-160H400v160ZM180-400h160v-160H180v160Zm440 0h160v-160H620v160ZM180-180h160v-160H180v160Zm440 0h160v-160H620v160Z\"/>\n",
              "  </svg>\n",
              "    </button>\n",
              "\n",
              "  <style>\n",
              "    .colab-df-container {\n",
              "      display:flex;\n",
              "      gap: 12px;\n",
              "    }\n",
              "\n",
              "    .colab-df-convert {\n",
              "      background-color: #E8F0FE;\n",
              "      border: none;\n",
              "      border-radius: 50%;\n",
              "      cursor: pointer;\n",
              "      display: none;\n",
              "      fill: #1967D2;\n",
              "      height: 32px;\n",
              "      padding: 0 0 0 0;\n",
              "      width: 32px;\n",
              "    }\n",
              "\n",
              "    .colab-df-convert:hover {\n",
              "      background-color: #E2EBFA;\n",
              "      box-shadow: 0px 1px 2px rgba(60, 64, 67, 0.3), 0px 1px 3px 1px rgba(60, 64, 67, 0.15);\n",
              "      fill: #174EA6;\n",
              "    }\n",
              "\n",
              "    .colab-df-buttons div {\n",
              "      margin-bottom: 4px;\n",
              "    }\n",
              "\n",
              "    [theme=dark] .colab-df-convert {\n",
              "      background-color: #3B4455;\n",
              "      fill: #D2E3FC;\n",
              "    }\n",
              "\n",
              "    [theme=dark] .colab-df-convert:hover {\n",
              "      background-color: #434B5C;\n",
              "      box-shadow: 0px 1px 3px 1px rgba(0, 0, 0, 0.15);\n",
              "      filter: drop-shadow(0px 1px 2px rgba(0, 0, 0, 0.3));\n",
              "      fill: #FFFFFF;\n",
              "    }\n",
              "  </style>\n",
              "\n",
              "    <script>\n",
              "      const buttonEl =\n",
              "        document.querySelector('#df-4d6bc541-6272-46b6-bf1a-4ff41ed13eb1 button.colab-df-convert');\n",
              "      buttonEl.style.display =\n",
              "        google.colab.kernel.accessAllowed ? 'block' : 'none';\n",
              "\n",
              "      async function convertToInteractive(key) {\n",
              "        const element = document.querySelector('#df-4d6bc541-6272-46b6-bf1a-4ff41ed13eb1');\n",
              "        const dataTable =\n",
              "          await google.colab.kernel.invokeFunction('convertToInteractive',\n",
              "                                                    [key], {});\n",
              "        if (!dataTable) return;\n",
              "\n",
              "        const docLinkHtml = 'Like what you see? Visit the ' +\n",
              "          '<a target=\"_blank\" href=https://colab.research.google.com/notebooks/data_table.ipynb>data table notebook</a>'\n",
              "          + ' to learn more about interactive tables.';\n",
              "        element.innerHTML = '';\n",
              "        dataTable['output_type'] = 'display_data';\n",
              "        await google.colab.output.renderOutput(dataTable, element);\n",
              "        const docLink = document.createElement('div');\n",
              "        docLink.innerHTML = docLinkHtml;\n",
              "        element.appendChild(docLink);\n",
              "      }\n",
              "    </script>\n",
              "  </div>\n",
              "\n",
              "\n",
              "<div id=\"df-2e1a4d16-bc9b-4ed1-9dac-81f49e96b4fe\">\n",
              "  <button class=\"colab-df-quickchart\" onclick=\"quickchart('df-2e1a4d16-bc9b-4ed1-9dac-81f49e96b4fe')\"\n",
              "            title=\"Suggest charts\"\n",
              "            style=\"display:none;\">\n",
              "\n",
              "<svg xmlns=\"http://www.w3.org/2000/svg\" height=\"24px\"viewBox=\"0 0 24 24\"\n",
              "     width=\"24px\">\n",
              "    <g>\n",
              "        <path d=\"M19 3H5c-1.1 0-2 .9-2 2v14c0 1.1.9 2 2 2h14c1.1 0 2-.9 2-2V5c0-1.1-.9-2-2-2zM9 17H7v-7h2v7zm4 0h-2V7h2v10zm4 0h-2v-4h2v4z\"/>\n",
              "    </g>\n",
              "</svg>\n",
              "  </button>\n",
              "\n",
              "<style>\n",
              "  .colab-df-quickchart {\n",
              "      --bg-color: #E8F0FE;\n",
              "      --fill-color: #1967D2;\n",
              "      --hover-bg-color: #E2EBFA;\n",
              "      --hover-fill-color: #174EA6;\n",
              "      --disabled-fill-color: #AAA;\n",
              "      --disabled-bg-color: #DDD;\n",
              "  }\n",
              "\n",
              "  [theme=dark] .colab-df-quickchart {\n",
              "      --bg-color: #3B4455;\n",
              "      --fill-color: #D2E3FC;\n",
              "      --hover-bg-color: #434B5C;\n",
              "      --hover-fill-color: #FFFFFF;\n",
              "      --disabled-bg-color: #3B4455;\n",
              "      --disabled-fill-color: #666;\n",
              "  }\n",
              "\n",
              "  .colab-df-quickchart {\n",
              "    background-color: var(--bg-color);\n",
              "    border: none;\n",
              "    border-radius: 50%;\n",
              "    cursor: pointer;\n",
              "    display: none;\n",
              "    fill: var(--fill-color);\n",
              "    height: 32px;\n",
              "    padding: 0;\n",
              "    width: 32px;\n",
              "  }\n",
              "\n",
              "  .colab-df-quickchart:hover {\n",
              "    background-color: var(--hover-bg-color);\n",
              "    box-shadow: 0 1px 2px rgba(60, 64, 67, 0.3), 0 1px 3px 1px rgba(60, 64, 67, 0.15);\n",
              "    fill: var(--button-hover-fill-color);\n",
              "  }\n",
              "\n",
              "  .colab-df-quickchart-complete:disabled,\n",
              "  .colab-df-quickchart-complete:disabled:hover {\n",
              "    background-color: var(--disabled-bg-color);\n",
              "    fill: var(--disabled-fill-color);\n",
              "    box-shadow: none;\n",
              "  }\n",
              "\n",
              "  .colab-df-spinner {\n",
              "    border: 2px solid var(--fill-color);\n",
              "    border-color: transparent;\n",
              "    border-bottom-color: var(--fill-color);\n",
              "    animation:\n",
              "      spin 1s steps(1) infinite;\n",
              "  }\n",
              "\n",
              "  @keyframes spin {\n",
              "    0% {\n",
              "      border-color: transparent;\n",
              "      border-bottom-color: var(--fill-color);\n",
              "      border-left-color: var(--fill-color);\n",
              "    }\n",
              "    20% {\n",
              "      border-color: transparent;\n",
              "      border-left-color: var(--fill-color);\n",
              "      border-top-color: var(--fill-color);\n",
              "    }\n",
              "    30% {\n",
              "      border-color: transparent;\n",
              "      border-left-color: var(--fill-color);\n",
              "      border-top-color: var(--fill-color);\n",
              "      border-right-color: var(--fill-color);\n",
              "    }\n",
              "    40% {\n",
              "      border-color: transparent;\n",
              "      border-right-color: var(--fill-color);\n",
              "      border-top-color: var(--fill-color);\n",
              "    }\n",
              "    60% {\n",
              "      border-color: transparent;\n",
              "      border-right-color: var(--fill-color);\n",
              "    }\n",
              "    80% {\n",
              "      border-color: transparent;\n",
              "      border-right-color: var(--fill-color);\n",
              "      border-bottom-color: var(--fill-color);\n",
              "    }\n",
              "    90% {\n",
              "      border-color: transparent;\n",
              "      border-bottom-color: var(--fill-color);\n",
              "    }\n",
              "  }\n",
              "</style>\n",
              "\n",
              "  <script>\n",
              "    async function quickchart(key) {\n",
              "      const quickchartButtonEl =\n",
              "        document.querySelector('#' + key + ' button');\n",
              "      quickchartButtonEl.disabled = true;  // To prevent multiple clicks.\n",
              "      quickchartButtonEl.classList.add('colab-df-spinner');\n",
              "      try {\n",
              "        const charts = await google.colab.kernel.invokeFunction(\n",
              "            'suggestCharts', [key], {});\n",
              "      } catch (error) {\n",
              "        console.error('Error during call to suggestCharts:', error);\n",
              "      }\n",
              "      quickchartButtonEl.classList.remove('colab-df-spinner');\n",
              "      quickchartButtonEl.classList.add('colab-df-quickchart-complete');\n",
              "    }\n",
              "    (() => {\n",
              "      let quickchartButtonEl =\n",
              "        document.querySelector('#df-2e1a4d16-bc9b-4ed1-9dac-81f49e96b4fe button');\n",
              "      quickchartButtonEl.style.display =\n",
              "        google.colab.kernel.accessAllowed ? 'block' : 'none';\n",
              "    })();\n",
              "  </script>\n",
              "</div>\n",
              "\n",
              "    </div>\n",
              "  </div>\n"
            ],
            "application/vnd.google.colaboratory.intrinsic+json": {
              "type": "dataframe",
              "variable_name": "df_altered",
              "summary": "{\n  \"name\": \"df_altered\",\n  \"rows\": 13,\n  \"fields\": [\n    {\n      \"column\": \"TYPE\",\n      \"properties\": {\n        \"dtype\": \"category\",\n        \"num_unique_values\": 4,\n        \"samples\": [\n          \"booster_par_with_barrier\",\n          \"booster_par\",\n          \"auto_call_coupon\"\n        ],\n        \"semantic_type\": \"\",\n        \"description\": \"\"\n      }\n    },\n    {\n      \"column\": \"Initial\",\n      \"properties\": {\n        \"dtype\": \"number\",\n        \"std\": 1090.8339118458211,\n        \"min\": 33.29,\n        \"max\": 3658.79,\n        \"num_unique_values\": 12,\n        \"samples\": [\n          919.65,\n          43.09,\n          249.65\n        ],\n        \"semantic_type\": \"\",\n        \"description\": \"\"\n      }\n    },\n    {\n      \"column\": \"Periods\",\n      \"properties\": {\n        \"dtype\": \"number\",\n        \"std\": 3,\n        \"min\": 5,\n        \"max\": 12,\n        \"num_unique_values\": 3,\n        \"samples\": [\n          12,\n          6,\n          5\n        ],\n        \"semantic_type\": \"\",\n        \"description\": \"\"\n      }\n    },\n    {\n      \"column\": \"Participation rate\",\n      \"properties\": {\n        \"dtype\": \"number\",\n        \"std\": 0.599144689515278,\n        \"min\": 1.0,\n        \"max\": 3.0,\n        \"num_unique_values\": 3,\n        \"samples\": [\n          1.0,\n          3.0,\n          2.0\n        ],\n        \"semantic_type\": \"\",\n        \"description\": \"\"\n      }\n    },\n    {\n      \"column\": \"Boost level\",\n      \"properties\": {\n        \"dtype\": \"number\",\n        \"std\": 37.638275833150324,\n        \"min\": -100.0,\n        \"max\": 0.65,\n        \"num_unique_values\": 3,\n        \"samples\": [\n          -100.0,\n          0.65,\n          -0.2\n        ],\n        \"semantic_type\": \"\",\n        \"description\": \"\"\n      }\n    },\n    {\n      \"column\": \"Autocall\",\n      \"properties\": {\n        \"dtype\": \"number\",\n        \"std\": 0.048038446141526185,\n        \"min\": 1.0,\n        \"max\": 1.1,\n        \"num_unique_values\": 2,\n        \"samples\": [\n          1.0,\n          1.1\n        ],\n        \"semantic_type\": \"\",\n        \"description\": \"\"\n      }\n    },\n    {\n      \"column\": \"fixed_rate_start\",\n      \"properties\": {\n        \"dtype\": \"number\",\n        \"std\": 0.021213203435596427,\n        \"min\": 0.1,\n        \"max\": 0.13,\n        \"num_unique_values\": 2,\n        \"samples\": [\n          0.13,\n          0.1\n        ],\n        \"semantic_type\": \"\",\n        \"description\": \"\"\n      }\n    },\n    {\n      \"column\": \"fixed_rate_incr\",\n      \"properties\": {\n        \"dtype\": \"number\",\n        \"std\": 0.008838834764831846,\n        \"min\": 0.0375,\n        \"max\": 0.05,\n        \"num_unique_values\": 2,\n        \"samples\": [\n          0.0375,\n          0.05\n        ],\n        \"semantic_type\": \"\",\n        \"description\": \"\"\n      }\n    },\n    {\n      \"column\": \"Buffer\",\n      \"properties\": {\n        \"dtype\": \"number\",\n        \"std\": null,\n        \"min\": 0.0,\n        \"max\": 0.0,\n        \"num_unique_values\": 1,\n        \"samples\": [\n          0.0\n        ],\n        \"semantic_type\": \"\",\n        \"description\": \"\"\n      }\n    },\n    {\n      \"column\": \"Barrier\",\n      \"properties\": {\n        \"dtype\": \"number\",\n        \"std\": 27.55733533506516,\n        \"min\": -0.25,\n        \"max\": 100.0,\n        \"num_unique_values\": 8,\n        \"samples\": [\n          0.6\n        ],\n        \"semantic_type\": \"\",\n        \"description\": \"\"\n      }\n    },\n    {\n      \"column\": \"Coupon Rate\",\n      \"properties\": {\n        \"dtype\": \"number\",\n        \"std\": 0.04100643580924557,\n        \"min\": 0.021,\n        \"max\": 0.15,\n        \"num_unique_values\": 8,\n        \"samples\": [\n          0.0645\n        ],\n        \"semantic_type\": \"\",\n        \"description\": \"\"\n      }\n    },\n    {\n      \"column\": \"Threshold\",\n      \"properties\": {\n        \"dtype\": \"number\",\n        \"std\": 47.921264216447426,\n        \"min\": -100.0,\n        \"max\": 0.2,\n        \"num_unique_values\": 8,\n        \"samples\": [\n          -0.4\n        ],\n        \"semantic_type\": \"\",\n        \"description\": \"\"\n      }\n    },\n    {\n      \"column\": \"Market price\",\n      \"properties\": {\n        \"dtype\": \"number\",\n        \"std\": 1.5094399924836663,\n        \"min\": 96.0,\n        \"max\": 100.0,\n        \"num_unique_values\": 4,\n        \"samples\": [\n          96.0\n        ],\n        \"semantic_type\": \"\",\n        \"description\": \"\"\n      }\n    }\n  ]\n}"
            }
          },
          "metadata": {},
          "execution_count": 121
        }
      ]
    },
    {
      "cell_type": "code",
      "source": [
        "\n",
        "arr = []\n",
        "count = 1\n",
        "for x in df_altered.iterrows():\n",
        "    model, S0, years, participation_rate, boost_level, barrier, coupon_rate, coupon_threshold, market_price,autocall,fixed,variable,buffer = (\n",
        "        x[1]['TYPE'], x[1]['Initial'], x[1]['Periods'], x[1]['Participation rate'],\n",
        "        x[1]['Boost level'], x[1]['Barrier'], x[1]['Coupon Rate'],\n",
        "        x[1]['Threshold'], x[1]['Market price'],x[1]['Autocall'],x[1]['fixed_rate_start'],x[1]['fixed_rate_incr'],x[1]['Buffer']\n",
        "    )\n",
        "    transition_matrices,prices=generate_data(S0,r,sigma,dt,branch_count,years,z_value,time_periods=1)\n",
        "\n",
        "    # Print the intermediate variables\n",
        "    print(f\"Step {count}: model={model}, S0={S0}, years={years}, participation_rate={participation_rate}, \"\n",
        "          f\"boost_level={boost_level}, barrier={barrier}, coupon_rate={coupon_rate}, \"\n",
        "          f\"coupon_threshold={coupon_threshold}, market_price={market_price}\")\n",
        "\n",
        "    try:\n",
        "        imp = find_implied_volatility(sigma, market_price, years, model)\n",
        "    except Exception as e:\n",
        "        print(f\"Error encountered: {e}\")\n",
        "        break\n",
        "        imp = np.nan\n",
        "\n",
        "    arr.append(imp)\n",
        "    count += 1\n",
        "\n",
        "df_altered['Implied Volatility'] = arr\n"
      ],
      "metadata": {
        "id": "q0IHWa_ubIpZ",
        "colab": {
          "base_uri": "https://localhost:8080/",
          "height": 465
        },
        "outputId": "99496762-53b3-4f86-c992-9ebd57670289"
      },
      "execution_count": null,
      "outputs": [
        {
          "output_type": "stream",
          "name": "stdout",
          "text": [
            "Step 1: model=auto_call_coupon, S0=249.65, years=12, participation_rate=1.0, boost_level=-100.0, barrier=0.8, coupon_rate=0.0425, coupon_threshold=0.2, market_price=100.0\n",
            "SIGMA IS  0.1\n",
            "model price is  97.19716108177778 market price ius  100.0\n",
            "SIGMA IS  2.0\n",
            "model price is  16.359753075092442 market price ius  100.0\n",
            "Error encountered: f(a) and f(b) must have different signs\n"
          ]
        },
        {
          "output_type": "error",
          "ename": "ValueError",
          "evalue": "Length of values (0) does not match length of index (13)",
          "traceback": [
            "\u001b[0;31m---------------------------------------------------------------------------\u001b[0m",
            "\u001b[0;31mValueError\u001b[0m                                Traceback (most recent call last)",
            "\u001b[0;32m<ipython-input-124-3ccab62bb1b4>\u001b[0m in \u001b[0;36m<cell line: 26>\u001b[0;34m()\u001b[0m\n\u001b[1;32m     24\u001b[0m     \u001b[0mcount\u001b[0m \u001b[0;34m+=\u001b[0m \u001b[0;36m1\u001b[0m\u001b[0;34m\u001b[0m\u001b[0;34m\u001b[0m\u001b[0m\n\u001b[1;32m     25\u001b[0m \u001b[0;34m\u001b[0m\u001b[0m\n\u001b[0;32m---> 26\u001b[0;31m \u001b[0mdf_altered\u001b[0m\u001b[0;34m[\u001b[0m\u001b[0;34m'Implied Volatility'\u001b[0m\u001b[0;34m]\u001b[0m \u001b[0;34m=\u001b[0m \u001b[0marr\u001b[0m\u001b[0;34m\u001b[0m\u001b[0;34m\u001b[0m\u001b[0m\n\u001b[0m",
            "\u001b[0;32m/usr/local/lib/python3.10/dist-packages/pandas/core/frame.py\u001b[0m in \u001b[0;36m__setitem__\u001b[0;34m(self, key, value)\u001b[0m\n\u001b[1;32m   4309\u001b[0m         \u001b[0;32melse\u001b[0m\u001b[0;34m:\u001b[0m\u001b[0;34m\u001b[0m\u001b[0;34m\u001b[0m\u001b[0m\n\u001b[1;32m   4310\u001b[0m             \u001b[0;31m# set column\u001b[0m\u001b[0;34m\u001b[0m\u001b[0;34m\u001b[0m\u001b[0m\n\u001b[0;32m-> 4311\u001b[0;31m             \u001b[0mself\u001b[0m\u001b[0;34m.\u001b[0m\u001b[0m_set_item\u001b[0m\u001b[0;34m(\u001b[0m\u001b[0mkey\u001b[0m\u001b[0;34m,\u001b[0m \u001b[0mvalue\u001b[0m\u001b[0;34m)\u001b[0m\u001b[0;34m\u001b[0m\u001b[0;34m\u001b[0m\u001b[0m\n\u001b[0m\u001b[1;32m   4312\u001b[0m \u001b[0;34m\u001b[0m\u001b[0m\n\u001b[1;32m   4313\u001b[0m     \u001b[0;32mdef\u001b[0m \u001b[0m_setitem_slice\u001b[0m\u001b[0;34m(\u001b[0m\u001b[0mself\u001b[0m\u001b[0;34m,\u001b[0m \u001b[0mkey\u001b[0m\u001b[0;34m:\u001b[0m \u001b[0mslice\u001b[0m\u001b[0;34m,\u001b[0m \u001b[0mvalue\u001b[0m\u001b[0;34m)\u001b[0m \u001b[0;34m->\u001b[0m \u001b[0;32mNone\u001b[0m\u001b[0;34m:\u001b[0m\u001b[0;34m\u001b[0m\u001b[0;34m\u001b[0m\u001b[0m\n",
            "\u001b[0;32m/usr/local/lib/python3.10/dist-packages/pandas/core/frame.py\u001b[0m in \u001b[0;36m_set_item\u001b[0;34m(self, key, value)\u001b[0m\n\u001b[1;32m   4522\u001b[0m         \u001b[0mensure\u001b[0m \u001b[0mhomogeneity\u001b[0m\u001b[0;34m.\u001b[0m\u001b[0;34m\u001b[0m\u001b[0;34m\u001b[0m\u001b[0m\n\u001b[1;32m   4523\u001b[0m         \"\"\"\n\u001b[0;32m-> 4524\u001b[0;31m         \u001b[0mvalue\u001b[0m\u001b[0;34m,\u001b[0m \u001b[0mrefs\u001b[0m \u001b[0;34m=\u001b[0m \u001b[0mself\u001b[0m\u001b[0;34m.\u001b[0m\u001b[0m_sanitize_column\u001b[0m\u001b[0;34m(\u001b[0m\u001b[0mvalue\u001b[0m\u001b[0;34m)\u001b[0m\u001b[0;34m\u001b[0m\u001b[0;34m\u001b[0m\u001b[0m\n\u001b[0m\u001b[1;32m   4525\u001b[0m \u001b[0;34m\u001b[0m\u001b[0m\n\u001b[1;32m   4526\u001b[0m         if (\n",
            "\u001b[0;32m/usr/local/lib/python3.10/dist-packages/pandas/core/frame.py\u001b[0m in \u001b[0;36m_sanitize_column\u001b[0;34m(self, value)\u001b[0m\n\u001b[1;32m   5264\u001b[0m \u001b[0;34m\u001b[0m\u001b[0m\n\u001b[1;32m   5265\u001b[0m         \u001b[0;32mif\u001b[0m \u001b[0mis_list_like\u001b[0m\u001b[0;34m(\u001b[0m\u001b[0mvalue\u001b[0m\u001b[0;34m)\u001b[0m\u001b[0;34m:\u001b[0m\u001b[0;34m\u001b[0m\u001b[0;34m\u001b[0m\u001b[0m\n\u001b[0;32m-> 5266\u001b[0;31m             \u001b[0mcom\u001b[0m\u001b[0;34m.\u001b[0m\u001b[0mrequire_length_match\u001b[0m\u001b[0;34m(\u001b[0m\u001b[0mvalue\u001b[0m\u001b[0;34m,\u001b[0m \u001b[0mself\u001b[0m\u001b[0;34m.\u001b[0m\u001b[0mindex\u001b[0m\u001b[0;34m)\u001b[0m\u001b[0;34m\u001b[0m\u001b[0;34m\u001b[0m\u001b[0m\n\u001b[0m\u001b[1;32m   5267\u001b[0m         \u001b[0marr\u001b[0m \u001b[0;34m=\u001b[0m \u001b[0msanitize_array\u001b[0m\u001b[0;34m(\u001b[0m\u001b[0mvalue\u001b[0m\u001b[0;34m,\u001b[0m \u001b[0mself\u001b[0m\u001b[0;34m.\u001b[0m\u001b[0mindex\u001b[0m\u001b[0;34m,\u001b[0m \u001b[0mcopy\u001b[0m\u001b[0;34m=\u001b[0m\u001b[0;32mTrue\u001b[0m\u001b[0;34m,\u001b[0m \u001b[0mallow_2d\u001b[0m\u001b[0;34m=\u001b[0m\u001b[0;32mTrue\u001b[0m\u001b[0;34m)\u001b[0m\u001b[0;34m\u001b[0m\u001b[0;34m\u001b[0m\u001b[0m\n\u001b[1;32m   5268\u001b[0m         if (\n",
            "\u001b[0;32m/usr/local/lib/python3.10/dist-packages/pandas/core/common.py\u001b[0m in \u001b[0;36mrequire_length_match\u001b[0;34m(data, index)\u001b[0m\n\u001b[1;32m    571\u001b[0m     \"\"\"\n\u001b[1;32m    572\u001b[0m     \u001b[0;32mif\u001b[0m \u001b[0mlen\u001b[0m\u001b[0;34m(\u001b[0m\u001b[0mdata\u001b[0m\u001b[0;34m)\u001b[0m \u001b[0;34m!=\u001b[0m \u001b[0mlen\u001b[0m\u001b[0;34m(\u001b[0m\u001b[0mindex\u001b[0m\u001b[0;34m)\u001b[0m\u001b[0;34m:\u001b[0m\u001b[0;34m\u001b[0m\u001b[0;34m\u001b[0m\u001b[0m\n\u001b[0;32m--> 573\u001b[0;31m         raise ValueError(\n\u001b[0m\u001b[1;32m    574\u001b[0m             \u001b[0;34m\"Length of values \"\u001b[0m\u001b[0;34m\u001b[0m\u001b[0;34m\u001b[0m\u001b[0m\n\u001b[1;32m    575\u001b[0m             \u001b[0;34mf\"({len(data)}) \"\u001b[0m\u001b[0;34m\u001b[0m\u001b[0;34m\u001b[0m\u001b[0m\n",
            "\u001b[0;31mValueError\u001b[0m: Length of values (0) does not match length of index (13)"
          ]
        }
      ]
    },
    {
      "cell_type": "code",
      "source": [
        "df_altered"
      ],
      "metadata": {
        "id": "AV2MBwwVDc3n",
        "colab": {
          "base_uri": "https://localhost:8080/",
          "height": 494
        },
        "outputId": "31ad2add-667d-4091-a33b-e42d7ab13b39"
      },
      "execution_count": null,
      "outputs": [
        {
          "output_type": "execute_result",
          "data": {
            "text/plain": [
              "                            TYPE     Initial  Periods  Participation rate  \\\n",
              "0               auto_call_coupon   249.65000       12                 1.0   \n",
              "1               auto_call_coupon    33.29000        6                 1.0   \n",
              "2       booster_par_with_barrier    48.24000        5                 3.0   \n",
              "3   autocall_changing_fixed_rate   411.13000        5                 1.0   \n",
              "4               auto_call_coupon   250.39000       12                 1.0   \n",
              "5                    booster_par    72.08295        6                 2.0   \n",
              "6               auto_call_coupon   909.21000       12                 1.0   \n",
              "7               auto_call_coupon  3658.79000       12                 1.0   \n",
              "8   autocall_changing_fixed_rate    87.83833        5                 1.0   \n",
              "9               auto_call_coupon    43.09000        6                 1.0   \n",
              "10              auto_call_coupon   919.65000       12                 1.0   \n",
              "11              auto_call_coupon   919.65000       12                 1.0   \n",
              "12              auto_call_coupon  2399.63000       12                 1.0   \n",
              "\n",
              "    Boost level  Autocall  fixed_rate_start  fixed_rate_incr  Buffer  Barrier  \\\n",
              "0       -100.00       1.1               NaN              NaN     NaN     0.80   \n",
              "1       -100.00       1.1               NaN              NaN     NaN     0.60   \n",
              "2          0.65       1.0               NaN              NaN     NaN    -0.25   \n",
              "3       -100.00       1.0              0.10           0.0500     NaN     0.80   \n",
              "4       -100.00       1.1               NaN              NaN     NaN     0.85   \n",
              "5         -0.20       1.0               NaN              NaN     0.0   100.00   \n",
              "6       -100.00       1.1               NaN              NaN     NaN     0.70   \n",
              "7       -100.00       1.1               NaN              NaN     NaN     0.75   \n",
              "8       -100.00       1.0              0.13           0.0375     NaN     0.80   \n",
              "9       -100.00       1.1               NaN              NaN     NaN     0.80   \n",
              "10      -100.00       1.1               NaN              NaN     NaN     0.65   \n",
              "11      -100.00       1.1               NaN              NaN     NaN     0.65   \n",
              "12      -100.00       1.1               NaN              NaN     NaN     0.60   \n",
              "\n",
              "    Coupon Rate  Threshold  Market price  Implied Volatility  \n",
              "0        0.0425       0.20         100.0                 NaN  \n",
              "1        0.0645      -0.40         100.0            0.129242  \n",
              "2           NaN    -100.00          96.0            1.483183  \n",
              "3           NaN    -100.00          97.5            0.387244  \n",
              "4        0.0415      -0.15          97.5                 NaN  \n",
              "5           NaN    -100.00          96.0            1.201627  \n",
              "6        0.0250      -0.30          98.0                 NaN  \n",
              "7        0.0275      -0.25          97.5                 NaN  \n",
              "8           NaN    -100.00           NaN                 NaN  \n",
              "9        0.1500      -0.20          97.5            0.276455  \n",
              "10       0.0210      -0.35          97.5                 NaN  \n",
              "11       0.0255      -0.35         100.0                 NaN  \n",
              "12       0.0250      -0.40         100.0                 NaN  "
            ],
            "text/html": [
              "\n",
              "  <div id=\"df-67024cf7-a2fc-47e9-8720-090ea51ee008\" class=\"colab-df-container\">\n",
              "    <div>\n",
              "<style scoped>\n",
              "    .dataframe tbody tr th:only-of-type {\n",
              "        vertical-align: middle;\n",
              "    }\n",
              "\n",
              "    .dataframe tbody tr th {\n",
              "        vertical-align: top;\n",
              "    }\n",
              "\n",
              "    .dataframe thead th {\n",
              "        text-align: right;\n",
              "    }\n",
              "</style>\n",
              "<table border=\"1\" class=\"dataframe\">\n",
              "  <thead>\n",
              "    <tr style=\"text-align: right;\">\n",
              "      <th></th>\n",
              "      <th>TYPE</th>\n",
              "      <th>Initial</th>\n",
              "      <th>Periods</th>\n",
              "      <th>Participation rate</th>\n",
              "      <th>Boost level</th>\n",
              "      <th>Autocall</th>\n",
              "      <th>fixed_rate_start</th>\n",
              "      <th>fixed_rate_incr</th>\n",
              "      <th>Buffer</th>\n",
              "      <th>Barrier</th>\n",
              "      <th>Coupon Rate</th>\n",
              "      <th>Threshold</th>\n",
              "      <th>Market price</th>\n",
              "      <th>Implied Volatility</th>\n",
              "    </tr>\n",
              "  </thead>\n",
              "  <tbody>\n",
              "    <tr>\n",
              "      <th>0</th>\n",
              "      <td>auto_call_coupon</td>\n",
              "      <td>249.65000</td>\n",
              "      <td>12</td>\n",
              "      <td>1.0</td>\n",
              "      <td>-100.00</td>\n",
              "      <td>1.1</td>\n",
              "      <td>NaN</td>\n",
              "      <td>NaN</td>\n",
              "      <td>NaN</td>\n",
              "      <td>0.80</td>\n",
              "      <td>0.0425</td>\n",
              "      <td>0.20</td>\n",
              "      <td>100.0</td>\n",
              "      <td>NaN</td>\n",
              "    </tr>\n",
              "    <tr>\n",
              "      <th>1</th>\n",
              "      <td>auto_call_coupon</td>\n",
              "      <td>33.29000</td>\n",
              "      <td>6</td>\n",
              "      <td>1.0</td>\n",
              "      <td>-100.00</td>\n",
              "      <td>1.1</td>\n",
              "      <td>NaN</td>\n",
              "      <td>NaN</td>\n",
              "      <td>NaN</td>\n",
              "      <td>0.60</td>\n",
              "      <td>0.0645</td>\n",
              "      <td>-0.40</td>\n",
              "      <td>100.0</td>\n",
              "      <td>0.129242</td>\n",
              "    </tr>\n",
              "    <tr>\n",
              "      <th>2</th>\n",
              "      <td>booster_par_with_barrier</td>\n",
              "      <td>48.24000</td>\n",
              "      <td>5</td>\n",
              "      <td>3.0</td>\n",
              "      <td>0.65</td>\n",
              "      <td>1.0</td>\n",
              "      <td>NaN</td>\n",
              "      <td>NaN</td>\n",
              "      <td>NaN</td>\n",
              "      <td>-0.25</td>\n",
              "      <td>NaN</td>\n",
              "      <td>-100.00</td>\n",
              "      <td>96.0</td>\n",
              "      <td>1.483183</td>\n",
              "    </tr>\n",
              "    <tr>\n",
              "      <th>3</th>\n",
              "      <td>autocall_changing_fixed_rate</td>\n",
              "      <td>411.13000</td>\n",
              "      <td>5</td>\n",
              "      <td>1.0</td>\n",
              "      <td>-100.00</td>\n",
              "      <td>1.0</td>\n",
              "      <td>0.10</td>\n",
              "      <td>0.0500</td>\n",
              "      <td>NaN</td>\n",
              "      <td>0.80</td>\n",
              "      <td>NaN</td>\n",
              "      <td>-100.00</td>\n",
              "      <td>97.5</td>\n",
              "      <td>0.387244</td>\n",
              "    </tr>\n",
              "    <tr>\n",
              "      <th>4</th>\n",
              "      <td>auto_call_coupon</td>\n",
              "      <td>250.39000</td>\n",
              "      <td>12</td>\n",
              "      <td>1.0</td>\n",
              "      <td>-100.00</td>\n",
              "      <td>1.1</td>\n",
              "      <td>NaN</td>\n",
              "      <td>NaN</td>\n",
              "      <td>NaN</td>\n",
              "      <td>0.85</td>\n",
              "      <td>0.0415</td>\n",
              "      <td>-0.15</td>\n",
              "      <td>97.5</td>\n",
              "      <td>NaN</td>\n",
              "    </tr>\n",
              "    <tr>\n",
              "      <th>5</th>\n",
              "      <td>booster_par</td>\n",
              "      <td>72.08295</td>\n",
              "      <td>6</td>\n",
              "      <td>2.0</td>\n",
              "      <td>-0.20</td>\n",
              "      <td>1.0</td>\n",
              "      <td>NaN</td>\n",
              "      <td>NaN</td>\n",
              "      <td>0.0</td>\n",
              "      <td>100.00</td>\n",
              "      <td>NaN</td>\n",
              "      <td>-100.00</td>\n",
              "      <td>96.0</td>\n",
              "      <td>1.201627</td>\n",
              "    </tr>\n",
              "    <tr>\n",
              "      <th>6</th>\n",
              "      <td>auto_call_coupon</td>\n",
              "      <td>909.21000</td>\n",
              "      <td>12</td>\n",
              "      <td>1.0</td>\n",
              "      <td>-100.00</td>\n",
              "      <td>1.1</td>\n",
              "      <td>NaN</td>\n",
              "      <td>NaN</td>\n",
              "      <td>NaN</td>\n",
              "      <td>0.70</td>\n",
              "      <td>0.0250</td>\n",
              "      <td>-0.30</td>\n",
              "      <td>98.0</td>\n",
              "      <td>NaN</td>\n",
              "    </tr>\n",
              "    <tr>\n",
              "      <th>7</th>\n",
              "      <td>auto_call_coupon</td>\n",
              "      <td>3658.79000</td>\n",
              "      <td>12</td>\n",
              "      <td>1.0</td>\n",
              "      <td>-100.00</td>\n",
              "      <td>1.1</td>\n",
              "      <td>NaN</td>\n",
              "      <td>NaN</td>\n",
              "      <td>NaN</td>\n",
              "      <td>0.75</td>\n",
              "      <td>0.0275</td>\n",
              "      <td>-0.25</td>\n",
              "      <td>97.5</td>\n",
              "      <td>NaN</td>\n",
              "    </tr>\n",
              "    <tr>\n",
              "      <th>8</th>\n",
              "      <td>autocall_changing_fixed_rate</td>\n",
              "      <td>87.83833</td>\n",
              "      <td>5</td>\n",
              "      <td>1.0</td>\n",
              "      <td>-100.00</td>\n",
              "      <td>1.0</td>\n",
              "      <td>0.13</td>\n",
              "      <td>0.0375</td>\n",
              "      <td>NaN</td>\n",
              "      <td>0.80</td>\n",
              "      <td>NaN</td>\n",
              "      <td>-100.00</td>\n",
              "      <td>NaN</td>\n",
              "      <td>NaN</td>\n",
              "    </tr>\n",
              "    <tr>\n",
              "      <th>9</th>\n",
              "      <td>auto_call_coupon</td>\n",
              "      <td>43.09000</td>\n",
              "      <td>6</td>\n",
              "      <td>1.0</td>\n",
              "      <td>-100.00</td>\n",
              "      <td>1.1</td>\n",
              "      <td>NaN</td>\n",
              "      <td>NaN</td>\n",
              "      <td>NaN</td>\n",
              "      <td>0.80</td>\n",
              "      <td>0.1500</td>\n",
              "      <td>-0.20</td>\n",
              "      <td>97.5</td>\n",
              "      <td>0.276455</td>\n",
              "    </tr>\n",
              "    <tr>\n",
              "      <th>10</th>\n",
              "      <td>auto_call_coupon</td>\n",
              "      <td>919.65000</td>\n",
              "      <td>12</td>\n",
              "      <td>1.0</td>\n",
              "      <td>-100.00</td>\n",
              "      <td>1.1</td>\n",
              "      <td>NaN</td>\n",
              "      <td>NaN</td>\n",
              "      <td>NaN</td>\n",
              "      <td>0.65</td>\n",
              "      <td>0.0210</td>\n",
              "      <td>-0.35</td>\n",
              "      <td>97.5</td>\n",
              "      <td>NaN</td>\n",
              "    </tr>\n",
              "    <tr>\n",
              "      <th>11</th>\n",
              "      <td>auto_call_coupon</td>\n",
              "      <td>919.65000</td>\n",
              "      <td>12</td>\n",
              "      <td>1.0</td>\n",
              "      <td>-100.00</td>\n",
              "      <td>1.1</td>\n",
              "      <td>NaN</td>\n",
              "      <td>NaN</td>\n",
              "      <td>NaN</td>\n",
              "      <td>0.65</td>\n",
              "      <td>0.0255</td>\n",
              "      <td>-0.35</td>\n",
              "      <td>100.0</td>\n",
              "      <td>NaN</td>\n",
              "    </tr>\n",
              "    <tr>\n",
              "      <th>12</th>\n",
              "      <td>auto_call_coupon</td>\n",
              "      <td>2399.63000</td>\n",
              "      <td>12</td>\n",
              "      <td>1.0</td>\n",
              "      <td>-100.00</td>\n",
              "      <td>1.1</td>\n",
              "      <td>NaN</td>\n",
              "      <td>NaN</td>\n",
              "      <td>NaN</td>\n",
              "      <td>0.60</td>\n",
              "      <td>0.0250</td>\n",
              "      <td>-0.40</td>\n",
              "      <td>100.0</td>\n",
              "      <td>NaN</td>\n",
              "    </tr>\n",
              "  </tbody>\n",
              "</table>\n",
              "</div>\n",
              "    <div class=\"colab-df-buttons\">\n",
              "\n",
              "  <div class=\"colab-df-container\">\n",
              "    <button class=\"colab-df-convert\" onclick=\"convertToInteractive('df-67024cf7-a2fc-47e9-8720-090ea51ee008')\"\n",
              "            title=\"Convert this dataframe to an interactive table.\"\n",
              "            style=\"display:none;\">\n",
              "\n",
              "  <svg xmlns=\"http://www.w3.org/2000/svg\" height=\"24px\" viewBox=\"0 -960 960 960\">\n",
              "    <path d=\"M120-120v-720h720v720H120Zm60-500h600v-160H180v160Zm220 220h160v-160H400v160Zm0 220h160v-160H400v160ZM180-400h160v-160H180v160Zm440 0h160v-160H620v160ZM180-180h160v-160H180v160Zm440 0h160v-160H620v160Z\"/>\n",
              "  </svg>\n",
              "    </button>\n",
              "\n",
              "  <style>\n",
              "    .colab-df-container {\n",
              "      display:flex;\n",
              "      gap: 12px;\n",
              "    }\n",
              "\n",
              "    .colab-df-convert {\n",
              "      background-color: #E8F0FE;\n",
              "      border: none;\n",
              "      border-radius: 50%;\n",
              "      cursor: pointer;\n",
              "      display: none;\n",
              "      fill: #1967D2;\n",
              "      height: 32px;\n",
              "      padding: 0 0 0 0;\n",
              "      width: 32px;\n",
              "    }\n",
              "\n",
              "    .colab-df-convert:hover {\n",
              "      background-color: #E2EBFA;\n",
              "      box-shadow: 0px 1px 2px rgba(60, 64, 67, 0.3), 0px 1px 3px 1px rgba(60, 64, 67, 0.15);\n",
              "      fill: #174EA6;\n",
              "    }\n",
              "\n",
              "    .colab-df-buttons div {\n",
              "      margin-bottom: 4px;\n",
              "    }\n",
              "\n",
              "    [theme=dark] .colab-df-convert {\n",
              "      background-color: #3B4455;\n",
              "      fill: #D2E3FC;\n",
              "    }\n",
              "\n",
              "    [theme=dark] .colab-df-convert:hover {\n",
              "      background-color: #434B5C;\n",
              "      box-shadow: 0px 1px 3px 1px rgba(0, 0, 0, 0.15);\n",
              "      filter: drop-shadow(0px 1px 2px rgba(0, 0, 0, 0.3));\n",
              "      fill: #FFFFFF;\n",
              "    }\n",
              "  </style>\n",
              "\n",
              "    <script>\n",
              "      const buttonEl =\n",
              "        document.querySelector('#df-67024cf7-a2fc-47e9-8720-090ea51ee008 button.colab-df-convert');\n",
              "      buttonEl.style.display =\n",
              "        google.colab.kernel.accessAllowed ? 'block' : 'none';\n",
              "\n",
              "      async function convertToInteractive(key) {\n",
              "        const element = document.querySelector('#df-67024cf7-a2fc-47e9-8720-090ea51ee008');\n",
              "        const dataTable =\n",
              "          await google.colab.kernel.invokeFunction('convertToInteractive',\n",
              "                                                    [key], {});\n",
              "        if (!dataTable) return;\n",
              "\n",
              "        const docLinkHtml = 'Like what you see? Visit the ' +\n",
              "          '<a target=\"_blank\" href=https://colab.research.google.com/notebooks/data_table.ipynb>data table notebook</a>'\n",
              "          + ' to learn more about interactive tables.';\n",
              "        element.innerHTML = '';\n",
              "        dataTable['output_type'] = 'display_data';\n",
              "        await google.colab.output.renderOutput(dataTable, element);\n",
              "        const docLink = document.createElement('div');\n",
              "        docLink.innerHTML = docLinkHtml;\n",
              "        element.appendChild(docLink);\n",
              "      }\n",
              "    </script>\n",
              "  </div>\n",
              "\n",
              "\n",
              "<div id=\"df-a74d9437-5a5d-465d-a83c-33f68f7f0cc9\">\n",
              "  <button class=\"colab-df-quickchart\" onclick=\"quickchart('df-a74d9437-5a5d-465d-a83c-33f68f7f0cc9')\"\n",
              "            title=\"Suggest charts\"\n",
              "            style=\"display:none;\">\n",
              "\n",
              "<svg xmlns=\"http://www.w3.org/2000/svg\" height=\"24px\"viewBox=\"0 0 24 24\"\n",
              "     width=\"24px\">\n",
              "    <g>\n",
              "        <path d=\"M19 3H5c-1.1 0-2 .9-2 2v14c0 1.1.9 2 2 2h14c1.1 0 2-.9 2-2V5c0-1.1-.9-2-2-2zM9 17H7v-7h2v7zm4 0h-2V7h2v10zm4 0h-2v-4h2v4z\"/>\n",
              "    </g>\n",
              "</svg>\n",
              "  </button>\n",
              "\n",
              "<style>\n",
              "  .colab-df-quickchart {\n",
              "      --bg-color: #E8F0FE;\n",
              "      --fill-color: #1967D2;\n",
              "      --hover-bg-color: #E2EBFA;\n",
              "      --hover-fill-color: #174EA6;\n",
              "      --disabled-fill-color: #AAA;\n",
              "      --disabled-bg-color: #DDD;\n",
              "  }\n",
              "\n",
              "  [theme=dark] .colab-df-quickchart {\n",
              "      --bg-color: #3B4455;\n",
              "      --fill-color: #D2E3FC;\n",
              "      --hover-bg-color: #434B5C;\n",
              "      --hover-fill-color: #FFFFFF;\n",
              "      --disabled-bg-color: #3B4455;\n",
              "      --disabled-fill-color: #666;\n",
              "  }\n",
              "\n",
              "  .colab-df-quickchart {\n",
              "    background-color: var(--bg-color);\n",
              "    border: none;\n",
              "    border-radius: 50%;\n",
              "    cursor: pointer;\n",
              "    display: none;\n",
              "    fill: var(--fill-color);\n",
              "    height: 32px;\n",
              "    padding: 0;\n",
              "    width: 32px;\n",
              "  }\n",
              "\n",
              "  .colab-df-quickchart:hover {\n",
              "    background-color: var(--hover-bg-color);\n",
              "    box-shadow: 0 1px 2px rgba(60, 64, 67, 0.3), 0 1px 3px 1px rgba(60, 64, 67, 0.15);\n",
              "    fill: var(--button-hover-fill-color);\n",
              "  }\n",
              "\n",
              "  .colab-df-quickchart-complete:disabled,\n",
              "  .colab-df-quickchart-complete:disabled:hover {\n",
              "    background-color: var(--disabled-bg-color);\n",
              "    fill: var(--disabled-fill-color);\n",
              "    box-shadow: none;\n",
              "  }\n",
              "\n",
              "  .colab-df-spinner {\n",
              "    border: 2px solid var(--fill-color);\n",
              "    border-color: transparent;\n",
              "    border-bottom-color: var(--fill-color);\n",
              "    animation:\n",
              "      spin 1s steps(1) infinite;\n",
              "  }\n",
              "\n",
              "  @keyframes spin {\n",
              "    0% {\n",
              "      border-color: transparent;\n",
              "      border-bottom-color: var(--fill-color);\n",
              "      border-left-color: var(--fill-color);\n",
              "    }\n",
              "    20% {\n",
              "      border-color: transparent;\n",
              "      border-left-color: var(--fill-color);\n",
              "      border-top-color: var(--fill-color);\n",
              "    }\n",
              "    30% {\n",
              "      border-color: transparent;\n",
              "      border-left-color: var(--fill-color);\n",
              "      border-top-color: var(--fill-color);\n",
              "      border-right-color: var(--fill-color);\n",
              "    }\n",
              "    40% {\n",
              "      border-color: transparent;\n",
              "      border-right-color: var(--fill-color);\n",
              "      border-top-color: var(--fill-color);\n",
              "    }\n",
              "    60% {\n",
              "      border-color: transparent;\n",
              "      border-right-color: var(--fill-color);\n",
              "    }\n",
              "    80% {\n",
              "      border-color: transparent;\n",
              "      border-right-color: var(--fill-color);\n",
              "      border-bottom-color: var(--fill-color);\n",
              "    }\n",
              "    90% {\n",
              "      border-color: transparent;\n",
              "      border-bottom-color: var(--fill-color);\n",
              "    }\n",
              "  }\n",
              "</style>\n",
              "\n",
              "  <script>\n",
              "    async function quickchart(key) {\n",
              "      const quickchartButtonEl =\n",
              "        document.querySelector('#' + key + ' button');\n",
              "      quickchartButtonEl.disabled = true;  // To prevent multiple clicks.\n",
              "      quickchartButtonEl.classList.add('colab-df-spinner');\n",
              "      try {\n",
              "        const charts = await google.colab.kernel.invokeFunction(\n",
              "            'suggestCharts', [key], {});\n",
              "      } catch (error) {\n",
              "        console.error('Error during call to suggestCharts:', error);\n",
              "      }\n",
              "      quickchartButtonEl.classList.remove('colab-df-spinner');\n",
              "      quickchartButtonEl.classList.add('colab-df-quickchart-complete');\n",
              "    }\n",
              "    (() => {\n",
              "      let quickchartButtonEl =\n",
              "        document.querySelector('#df-a74d9437-5a5d-465d-a83c-33f68f7f0cc9 button');\n",
              "      quickchartButtonEl.style.display =\n",
              "        google.colab.kernel.accessAllowed ? 'block' : 'none';\n",
              "    })();\n",
              "  </script>\n",
              "</div>\n",
              "\n",
              "  <div id=\"id_faf4dbc4-515a-48de-88e1-5b8b37be72d8\">\n",
              "    <style>\n",
              "      .colab-df-generate {\n",
              "        background-color: #E8F0FE;\n",
              "        border: none;\n",
              "        border-radius: 50%;\n",
              "        cursor: pointer;\n",
              "        display: none;\n",
              "        fill: #1967D2;\n",
              "        height: 32px;\n",
              "        padding: 0 0 0 0;\n",
              "        width: 32px;\n",
              "      }\n",
              "\n",
              "      .colab-df-generate:hover {\n",
              "        background-color: #E2EBFA;\n",
              "        box-shadow: 0px 1px 2px rgba(60, 64, 67, 0.3), 0px 1px 3px 1px rgba(60, 64, 67, 0.15);\n",
              "        fill: #174EA6;\n",
              "      }\n",
              "\n",
              "      [theme=dark] .colab-df-generate {\n",
              "        background-color: #3B4455;\n",
              "        fill: #D2E3FC;\n",
              "      }\n",
              "\n",
              "      [theme=dark] .colab-df-generate:hover {\n",
              "        background-color: #434B5C;\n",
              "        box-shadow: 0px 1px 3px 1px rgba(0, 0, 0, 0.15);\n",
              "        filter: drop-shadow(0px 1px 2px rgba(0, 0, 0, 0.3));\n",
              "        fill: #FFFFFF;\n",
              "      }\n",
              "    </style>\n",
              "    <button class=\"colab-df-generate\" onclick=\"generateWithVariable('df_altered')\"\n",
              "            title=\"Generate code using this dataframe.\"\n",
              "            style=\"display:none;\">\n",
              "\n",
              "  <svg xmlns=\"http://www.w3.org/2000/svg\" height=\"24px\"viewBox=\"0 0 24 24\"\n",
              "       width=\"24px\">\n",
              "    <path d=\"M7,19H8.4L18.45,9,17,7.55,7,17.6ZM5,21V16.75L18.45,3.32a2,2,0,0,1,2.83,0l1.4,1.43a1.91,1.91,0,0,1,.58,1.4,1.91,1.91,0,0,1-.58,1.4L9.25,21ZM18.45,9,17,7.55Zm-12,3A5.31,5.31,0,0,0,4.9,8.1,5.31,5.31,0,0,0,1,6.5,5.31,5.31,0,0,0,4.9,4.9,5.31,5.31,0,0,0,6.5,1,5.31,5.31,0,0,0,8.1,4.9,5.31,5.31,0,0,0,12,6.5,5.46,5.46,0,0,0,6.5,12Z\"/>\n",
              "  </svg>\n",
              "    </button>\n",
              "    <script>\n",
              "      (() => {\n",
              "      const buttonEl =\n",
              "        document.querySelector('#id_faf4dbc4-515a-48de-88e1-5b8b37be72d8 button.colab-df-generate');\n",
              "      buttonEl.style.display =\n",
              "        google.colab.kernel.accessAllowed ? 'block' : 'none';\n",
              "\n",
              "      buttonEl.onclick = () => {\n",
              "        google.colab.notebook.generateWithVariable('df_altered');\n",
              "      }\n",
              "      })();\n",
              "    </script>\n",
              "  </div>\n",
              "\n",
              "    </div>\n",
              "  </div>\n"
            ],
            "application/vnd.google.colaboratory.intrinsic+json": {
              "type": "dataframe",
              "variable_name": "df_altered",
              "summary": "{\n  \"name\": \"df_altered\",\n  \"rows\": 13,\n  \"fields\": [\n    {\n      \"column\": \"TYPE\",\n      \"properties\": {\n        \"dtype\": \"category\",\n        \"num_unique_values\": 4,\n        \"samples\": [\n          \"booster_par_with_barrier\",\n          \"booster_par\",\n          \"auto_call_coupon\"\n        ],\n        \"semantic_type\": \"\",\n        \"description\": \"\"\n      }\n    },\n    {\n      \"column\": \"Initial\",\n      \"properties\": {\n        \"dtype\": \"number\",\n        \"std\": 1090.8339118458211,\n        \"min\": 33.29,\n        \"max\": 3658.79,\n        \"num_unique_values\": 12,\n        \"samples\": [\n          919.65,\n          43.09,\n          249.65\n        ],\n        \"semantic_type\": \"\",\n        \"description\": \"\"\n      }\n    },\n    {\n      \"column\": \"Periods\",\n      \"properties\": {\n        \"dtype\": \"number\",\n        \"std\": 3,\n        \"min\": 5,\n        \"max\": 12,\n        \"num_unique_values\": 3,\n        \"samples\": [\n          12,\n          6,\n          5\n        ],\n        \"semantic_type\": \"\",\n        \"description\": \"\"\n      }\n    },\n    {\n      \"column\": \"Participation rate\",\n      \"properties\": {\n        \"dtype\": \"number\",\n        \"std\": 0.599144689515278,\n        \"min\": 1.0,\n        \"max\": 3.0,\n        \"num_unique_values\": 3,\n        \"samples\": [\n          1.0,\n          3.0,\n          2.0\n        ],\n        \"semantic_type\": \"\",\n        \"description\": \"\"\n      }\n    },\n    {\n      \"column\": \"Boost level\",\n      \"properties\": {\n        \"dtype\": \"number\",\n        \"std\": 37.638275833150324,\n        \"min\": -100.0,\n        \"max\": 0.65,\n        \"num_unique_values\": 3,\n        \"samples\": [\n          -100.0,\n          0.65,\n          -0.2\n        ],\n        \"semantic_type\": \"\",\n        \"description\": \"\"\n      }\n    },\n    {\n      \"column\": \"Autocall\",\n      \"properties\": {\n        \"dtype\": \"number\",\n        \"std\": 0.048038446141526185,\n        \"min\": 1.0,\n        \"max\": 1.1,\n        \"num_unique_values\": 2,\n        \"samples\": [\n          1.0,\n          1.1\n        ],\n        \"semantic_type\": \"\",\n        \"description\": \"\"\n      }\n    },\n    {\n      \"column\": \"fixed_rate_start\",\n      \"properties\": {\n        \"dtype\": \"number\",\n        \"std\": 0.021213203435596427,\n        \"min\": 0.1,\n        \"max\": 0.13,\n        \"num_unique_values\": 2,\n        \"samples\": [\n          0.13,\n          0.1\n        ],\n        \"semantic_type\": \"\",\n        \"description\": \"\"\n      }\n    },\n    {\n      \"column\": \"fixed_rate_incr\",\n      \"properties\": {\n        \"dtype\": \"number\",\n        \"std\": 0.008838834764831846,\n        \"min\": 0.0375,\n        \"max\": 0.05,\n        \"num_unique_values\": 2,\n        \"samples\": [\n          0.0375,\n          0.05\n        ],\n        \"semantic_type\": \"\",\n        \"description\": \"\"\n      }\n    },\n    {\n      \"column\": \"Buffer\",\n      \"properties\": {\n        \"dtype\": \"number\",\n        \"std\": null,\n        \"min\": 0.0,\n        \"max\": 0.0,\n        \"num_unique_values\": 1,\n        \"samples\": [\n          0.0\n        ],\n        \"semantic_type\": \"\",\n        \"description\": \"\"\n      }\n    },\n    {\n      \"column\": \"Barrier\",\n      \"properties\": {\n        \"dtype\": \"number\",\n        \"std\": 27.55733533506516,\n        \"min\": -0.25,\n        \"max\": 100.0,\n        \"num_unique_values\": 8,\n        \"samples\": [\n          0.6\n        ],\n        \"semantic_type\": \"\",\n        \"description\": \"\"\n      }\n    },\n    {\n      \"column\": \"Coupon Rate\",\n      \"properties\": {\n        \"dtype\": \"number\",\n        \"std\": 0.04100643580924557,\n        \"min\": 0.021,\n        \"max\": 0.15,\n        \"num_unique_values\": 8,\n        \"samples\": [\n          0.0645\n        ],\n        \"semantic_type\": \"\",\n        \"description\": \"\"\n      }\n    },\n    {\n      \"column\": \"Threshold\",\n      \"properties\": {\n        \"dtype\": \"number\",\n        \"std\": 47.921264216447426,\n        \"min\": -100.0,\n        \"max\": 0.2,\n        \"num_unique_values\": 8,\n        \"samples\": [\n          -0.4\n        ],\n        \"semantic_type\": \"\",\n        \"description\": \"\"\n      }\n    },\n    {\n      \"column\": \"Market price\",\n      \"properties\": {\n        \"dtype\": \"number\",\n        \"std\": 1.5094399924836663,\n        \"min\": 96.0,\n        \"max\": 100.0,\n        \"num_unique_values\": 4,\n        \"samples\": [\n          96.0\n        ],\n        \"semantic_type\": \"\",\n        \"description\": \"\"\n      }\n    },\n    {\n      \"column\": \"Implied Volatility\",\n      \"properties\": {\n        \"dtype\": \"number\",\n        \"std\": 0.6057801512670019,\n        \"min\": 0.12924214001540993,\n        \"max\": 1.483183422290521,\n        \"num_unique_values\": 5,\n        \"samples\": [\n          1.483183422290521\n        ],\n        \"semantic_type\": \"\",\n        \"description\": \"\"\n      }\n    }\n  ]\n}"
            }
          },
          "metadata": {},
          "execution_count": 123
        }
      ]
    },
    {
      "cell_type": "code",
      "source": [
        "df_altered"
      ],
      "metadata": {
        "id": "ZAWyh7QzT6K8"
      },
      "execution_count": null,
      "outputs": []
    },
    {
      "cell_type": "code",
      "source": [
        "price_booster_PAR(principal, prices, transition_matrices, years, qi, S0, booster_return, boost_level, participation_rate, r,barrier)"
      ],
      "metadata": {
        "id": "YVH456FKlXM5"
      },
      "execution_count": null,
      "outputs": []
    },
    {
      "cell_type": "code",
      "source": [
        "df_altered.groupby(['TYPE']).mean()['Implied Volatility'].sort_values(ascending=False)"
      ],
      "metadata": {
        "id": "AW46b3-dn-4I"
      },
      "execution_count": null,
      "outputs": []
    },
    {
      "cell_type": "code",
      "source": [
        "df_altered.to_csv('struc_notes_par_dc.csv')"
      ],
      "metadata": {
        "id": "7jjKIyJrlcna"
      },
      "execution_count": null,
      "outputs": []
    },
    {
      "cell_type": "markdown",
      "source": [],
      "metadata": {
        "id": "vOGy3ZF3NePY"
      }
    }
  ]
}
{
  "cells": [
    {
      "cell_type": "markdown",
      "metadata": {
        "id": "view-in-github",
        "colab_type": "text"
      },
      "source": [
        "<a href=\"https://colab.research.google.com/github/Renator12/Structured-products/blob/main/structuredprods.ipynb\" target=\"_parent\"><img src=\"https://colab.research.google.com/assets/colab-badge.svg\" alt=\"Open In Colab\"/></a>"
      ]
    },
    {
      "cell_type": "markdown",
      "metadata": {
        "id": "MyQlQekEWII0"
      },
      "source": [
        "# Pricing With A Willow Tree"
      ]
    },
    {
      "cell_type": "code",
      "execution_count": 92,
      "metadata": {
        "id": "bw8CGciGWII1"
      },
      "outputs": [],
      "source": [
        "from statistics import NormalDist\n",
        "from scipy.integrate import quad\n",
        "import numpy as np\n",
        "import pandas as pd\n",
        "from scipy.optimize import minimize\n",
        "from scipy.optimize import NonlinearConstraint\n",
        "from scipy.stats import norm\n",
        "from scipy.optimize import minimize_scalar\n",
        "import random\n"
      ]
    },
    {
      "cell_type": "code",
      "execution_count": 93,
      "metadata": {
        "id": "yEJn2tP2WII1"
      },
      "outputs": [],
      "source": [
        "# Global Variables\n",
        "S0 = 100 #Initial Stock Price\n",
        "K = 103\n",
        "r = 0.05 # interest rate\n",
        "sigma = 0.40 # Volatility\n",
        "years = 6\n",
        "time_periods = 1# per year\n",
        "branch_count = 6# Only use even numbers\n",
        "dt = 1/time_periods"
      ]
    },
    {
      "cell_type": "markdown",
      "metadata": {
        "id": "cJNbRzVxWII2"
      },
      "source": [
        "### Discrete Approximations $z_i$"
      ]
    },
    {
      "cell_type": "markdown",
      "metadata": {
        "id": "37eCmyuPWII2"
      },
      "source": [
        "#### Xu et. al Method"
      ]
    },
    {
      "cell_type": "markdown",
      "metadata": {
        "id": "fE_nqfLhWII2"
      },
      "source": [
        "##### Generate Q Values"
      ]
    },
    {
      "cell_type": "code",
      "execution_count": 94,
      "metadata": {
        "id": "XpjG48UEWII2"
      },
      "outputs": [],
      "source": [
        "q_value = []\n",
        "\n",
        "\n",
        "phi = 0.6 # A value from 0 to 1\n",
        "\n",
        "if branch_count == 2:\n",
        "    q_value.append((1-0.5)**phi/branch_count)\n",
        "elif branch_count % 2 == 0:\n",
        "    for i in range(1,int(branch_count/2)+1):\n",
        "        q_value.append((i-0.5)**phi/branch_count)\n",
        "\n",
        "elif branch_count % 2 != 0:\n",
        "    for i in range(1,int((branch_count+1)/2)):\n",
        "        q_value.append((i-0.5)**phi/branch_count)\n",
        "\n",
        "q_sum = sum(q_value)*2\n",
        "q_transform = [x / q_sum for x in q_value]\n",
        "q_full = q_transform + q_transform[::-1]\n",
        "# q vector (coefficients for the zi terms)\n",
        "qi = np.array(q_full)"
      ]
    },
    {
      "cell_type": "markdown",
      "metadata": {
        "id": "37r9arhwWII2"
      },
      "source": [
        "##### Defining Optimization Parameters"
      ]
    },
    {
      "cell_type": "code",
      "execution_count": 95,
      "metadata": {
        "id": "MFQ7OSWLWII2"
      },
      "outputs": [],
      "source": [
        "big_z = [-np.inf]\n",
        "\n",
        "for i in range(1,len(q_transform)+1):\n",
        "    big_z.append(NormalDist().inv_cdf(sum(q_transform[0:i])))\n",
        "\n",
        "big_z = big_z + [x * -1 for x in big_z[len(big_z)-2::-1]]\n",
        "\n",
        "\n",
        "\n",
        "# Zi vector (bounds for the zi variables)\n",
        "Z_lower = np.array(big_z[0:-1])\n",
        "Z_upper = np.array(big_z[1:])\n",
        "\n",
        "\n",
        "\n",
        "# The objective function we want to minimize\n",
        "def objective_function(z):\n",
        "    return (np.sum(qi * z**4) - 3)**2\n",
        "\n",
        "# The equality constraints\n",
        "def constraint1(z):\n",
        "    return np.sum(qi * z)\n",
        "\n",
        "def constraint2(z):\n",
        "    return np.sum(qi * z**2) - 1\n",
        "\n",
        "# Define the constraints dictionary\n",
        "con1 = {'type': 'eq', 'fun': constraint1}\n",
        "con2 = {'type': 'eq', 'fun': constraint2}\n",
        "constraints = [con1, con2]\n",
        "\n",
        "\n",
        "# Define the bounds for each zi\n",
        "bounds = [((None,high) if low == -np.inf else ((low,None) if high == np.inf else (low, high)) ) for low, high in zip(Z_lower, Z_upper)]\n",
        "\n",
        "# # Define the bounds for each zi\n",
        "# bounds = [((None,high) if low == -np.inf else (low, high)) for low, high in zip(Z_lower, Z_upper)]\n",
        "\n",
        "# Initial guess (required by the minimizer, let's start with the midpoint of the bounds)\n",
        "z_initial = (Z_lower + Z_upper) / 2\n",
        "z_initial[0] = NormalDist().inv_cdf(sum(q_full[0:1])/2)\n",
        "z_initial[-1] = z_initial[0]*-1"
      ]
    },
    {
      "cell_type": "markdown",
      "metadata": {
        "id": "6fUoTZQJWII3"
      },
      "source": [
        "##### SLSQP Optimization Method"
      ]
    },
    {
      "cell_type": "code",
      "execution_count": 96,
      "metadata": {
        "id": "ILfCS1RTWII3"
      },
      "outputs": [],
      "source": [
        "# Run the minimizer\n",
        "result = minimize(objective_function, z_initial,method='SLSQP', bounds=bounds, constraints=constraints)\n",
        "\n",
        "# The result of minimization will be in result.x\n",
        "result.x, result.success, result.message\n",
        "\n",
        "z_value = result.x"
      ]
    },
    {
      "cell_type": "markdown",
      "metadata": {
        "id": "GFzGcLA8WII3"
      },
      "source": [
        "### Brownian Motion Tree"
      ]
    },
    {
      "cell_type": "code",
      "execution_count": 97,
      "metadata": {
        "id": "KJTW3KkUWII3"
      },
      "outputs": [],
      "source": [
        "def generate_btree(time_periods,years,branch_count,z_value):\n",
        "    b_tree = np.zeros((time_periods*years+1,branch_count))\n",
        "\n",
        "    for i in range (1,time_periods*years+1):\n",
        "        for j in range (0,branch_count):\n",
        "            b_tree[i][j] = np.sqrt(i*dt) * z_value[j]\n",
        "    return b_tree"
      ]
    },
    {
      "cell_type": "markdown",
      "metadata": {
        "id": "8XyDRBaRWII3"
      },
      "source": [
        "### Conditional Expectation Function"
      ]
    },
    {
      "cell_type": "markdown",
      "metadata": {
        "id": "K5c3_9jlWII3"
      },
      "source": [
        "#### w1 = $\\tilde{W}_{j+1}^{n+1}$ w2 = $\\tilde{W}_{j}^{n+1}$ w3 = $\\tilde{W}_{j-1}^{n+1}$"
      ]
    },
    {
      "cell_type": "code",
      "execution_count": 98,
      "metadata": {
        "id": "LR4SZ7whWII3"
      },
      "outputs": [],
      "source": [
        "def probcali(p, y, mu, sigma):\n",
        "\n",
        "    m = len(p)\n",
        "    a = np.dot(p, y) - mu\n",
        "    b = np.dot(p, y**2) - mu**2 - sigma**2\n",
        "    pind = np.argsort(p)  # Sorts p and returns the indices that would sort p\n",
        "\n",
        "    x = np.zeros(m)\n",
        "    wm = pind[-1]  # Index of max probability\n",
        "    w2 = pind[-2]\n",
        "    w1 = pind[-3]\n",
        "\n",
        "    y1 = y[w1]  # Min\n",
        "    y2 = y[w2]  # Middle\n",
        "    ym = y[wm]  # Max probability\n",
        "\n",
        "    # Calculate calibration factors\n",
        "    x[wm] = (-b + a * (y1 + y2)) / (ym**2 - y2**2 - (y1 + y2) * (ym - y2))\n",
        "    x[w1] = (-a - x[wm] * (ym - y2)) / (y1 - y2)\n",
        "    x[w2] = -(x[wm] + x[w1])\n",
        "\n",
        "    pc = p + x  # Adjust original probabilities\n",
        "    pc = np.maximum(pc, 0)  # Ensure no negative probabilities\n",
        "    pc /= np.sum(pc)  # Normalize to ensure the sum of probabilities is 1\n",
        "\n",
        "    return pc"
      ]
    },
    {
      "cell_type": "code",
      "execution_count": 99,
      "metadata": {
        "id": "yVwUDgzxWII4"
      },
      "outputs": [],
      "source": [
        "def generate_transition_matrices(time_periods,years,branch_count,b_tree):\n",
        "    transition_matrices = []\n",
        "\n",
        "    # n-1 number of matrices\n",
        "    for n in range(1, time_periods*years):\n",
        "        # intialize new matrix\n",
        "        transition_matrix = np.zeros((branch_count, branch_count))\n",
        "        test = np.zeros((branch_count, branch_count))\n",
        "        # ith columns and jth rows\n",
        "        for i in range(0, branch_count):\n",
        "            # j goes from 0 to number of branches\n",
        "            for j in range(0, branch_count):\n",
        "                if j == 0:\n",
        "                    w3 = np.NINF\n",
        "                else:\n",
        "                    w3 = b_tree[n+1][j-1]\n",
        "                if j == (branch_count-1):\n",
        "                    w1 = np.inf\n",
        "                else:\n",
        "                    w1 = b_tree[n+1][j+1]\n",
        "\n",
        "                w2 = b_tree[n+1][j]\n",
        "\n",
        "                upper_bound = (w1 + w2)/2\n",
        "                lower_bound = (w2 + w3)/2\n",
        "\n",
        "                w = b_tree[n][i]\n",
        "\n",
        "                # Check built in cdf\n",
        "                f = lambda x: 1/np.sqrt(2*np.pi*dt)*np.exp(-(x-w)**2/(2*dt))\n",
        "\n",
        "                # Use the standard normal pdf to integrate from lower to upper bound\n",
        "                transition_matrix[i][j], _ = quad(f, lower_bound, upper_bound)\n",
        "        for i in range(branch_count):\n",
        "\n",
        "            mu = b_tree[n][i]\n",
        "            sigma = np.sqrt(dt)\n",
        "            y = b_tree[n+1]  # Assuming y values for calibration are the next step's node values\n",
        "\n",
        "            # Calibrate probabilities\n",
        "            transition_matrix[i, :] = probcali(transition_matrix[i, :], y, mu, sigma)\n",
        "            # Ensure probabilities sum to 1 after calibration\n",
        "            transition_matrix[i, :] /= np.sum(transition_matrix[i, :])\n",
        "\n",
        "        transition_matrices.append(transition_matrix)\n",
        "\n",
        "        # Append the calculated matrix to the list of transition matrices\n",
        "        transition_matrices.append(transition_matrix)\n",
        "    return transition_matrices"
      ]
    },
    {
      "cell_type": "code",
      "source": [],
      "metadata": {
        "id": "Xh2FourxL0ln"
      },
      "execution_count": 99,
      "outputs": []
    },
    {
      "cell_type": "markdown",
      "metadata": {
        "id": "AA6o69n2WII4"
      },
      "source": [
        "### Stock Price Tree"
      ]
    },
    {
      "cell_type": "code",
      "execution_count": 100,
      "metadata": {
        "id": "s_Y-HYhiWII4"
      },
      "outputs": [],
      "source": [
        "def generate_stock_price_tree(S0, r, sigma, dt, branch_count, time_periods,years, z_value):\n",
        "\n",
        "    stock_price_tree = np.zeros((time_periods*years+1, branch_count))\n",
        "\n",
        "    # Populate the stock price tree\n",
        "    for i in range(1, time_periods*years+1):\n",
        "        for j in range(branch_count):\n",
        "            # Transform the Brownian motion value into a stock price\n",
        "            W_t = np.sqrt(i * dt) * z_value[j]  # Brownian motion at time t\n",
        "            stock_price_tree[i][j] = S0 * np.exp((r - 0.5 * sigma**2) * i * dt + sigma * W_t)\n",
        "\n",
        "    # Set the initial stock prices\n",
        "    stock_price_tree[0] = S0\n",
        "\n",
        "    return stock_price_tree"
      ]
    },
    {
      "cell_type": "markdown",
      "metadata": {
        "id": "UztcZ5VXWII4"
      },
      "source": [
        "### Payoff Calculations"
      ]
    },
    {
      "cell_type": "markdown",
      "metadata": {
        "id": "ARkC822ZWII4"
      },
      "source": [
        "#### Option Pricing"
      ]
    },
    {
      "cell_type": "code",
      "execution_count": 101,
      "metadata": {
        "id": "iCkdOAntWII4"
      },
      "outputs": [],
      "source": [
        "def price_option(stock_price_tree, transition_matrices, K, r, dt, is_call=True):\n",
        "\n",
        "\n",
        "    # Initialize option value tree with zeros\n",
        "    option_value_tree = np.zeros_like(stock_price_tree)\n",
        "\n",
        "    # Determine the option value at the final time step\n",
        "    if is_call:\n",
        "        option_value_tree[-1] = np.maximum(stock_price_tree[-1] - K, 0)\n",
        "    else:\n",
        "        option_value_tree[-1] = np.maximum(K - stock_price_tree[-1], 0)\n",
        "\n",
        "    # Backward induction to calculate option price at each node\n",
        "    for t in range(time_periods*years-1, 0, -1):\n",
        "        option_value_tree[t] = np.dot(transition_matrices[t-1],option_value_tree[t+1])*np.exp(-r*dt)\n",
        "\n",
        "    option_value_tree[0] = np.dot(qi,option_value_tree[1])\n",
        "\n",
        "    # The option price is the value at the initial node\n",
        "    return option_value_tree[0][0]"
      ]
    },
    {
      "cell_type": "code",
      "execution_count": 102,
      "metadata": {
        "id": "RThG2ZNEWII5"
      },
      "outputs": [],
      "source": [
        "def BS_CALL(S, K, T, r, sigma):\n",
        "    N = norm.cdf\n",
        "    d1 = (np.log(S/K) + (r + sigma**2/2)*T) / (sigma*np.sqrt(T))\n",
        "    d2 = d1 - sigma * np.sqrt(T)\n",
        "    return S * N(d1) - K * np.exp(-r*T)* N(d2)"
      ]
    },
    {
      "cell_type": "code",
      "execution_count": 103,
      "metadata": {
        "id": "8NxjUmgHWII5"
      },
      "outputs": [],
      "source": [
        "b_tree = generate_btree(time_periods,years,branch_count,z_value)\n",
        "transition_matrices = generate_transition_matrices(time_periods,years,branch_count,b_tree)"
      ]
    },
    {
      "cell_type": "code",
      "execution_count": 104,
      "metadata": {
        "colab": {
          "base_uri": "https://localhost:8080/"
        },
        "id": "IbOa4tVJWII5",
        "outputId": "ef8b749f-4af2-4a35-afb2-079842e2838e"
      },
      "outputs": [
        {
          "output_type": "execute_result",
          "data": {
            "text/plain": [
              "(10, 6, 6)"
            ]
          },
          "metadata": {},
          "execution_count": 104
        }
      ],
      "source": [
        "np.array(transition_matrices).shape"
      ]
    },
    {
      "cell_type": "code",
      "execution_count": 105,
      "metadata": {
        "colab": {
          "base_uri": "https://localhost:8080/"
        },
        "id": "IbUEkuc3WII5",
        "outputId": "19883d6d-e18b-47f2-8c02-68c30371288f"
      },
      "outputs": [
        {
          "output_type": "execute_result",
          "data": {
            "text/plain": [
              "[array([[5.71463380e-01, 2.94797861e-01, 1.10566394e-01, 2.06494131e-02,\n",
              "         2.48916253e-03, 3.37896980e-05],\n",
              "        [1.21614082e-01, 3.97191627e-01, 3.05508814e-01, 1.24902032e-01,\n",
              "         4.83662516e-02, 2.41719357e-03],\n",
              "        [4.74853949e-02, 2.71078616e-01, 3.19522495e-01, 2.33625284e-01,\n",
              "         1.17984002e-01, 1.03042078e-02],\n",
              "        [1.03041874e-02, 1.17984025e-01, 2.33625362e-01, 3.19522448e-01,\n",
              "         2.71078509e-01, 4.74854686e-02],\n",
              "        [2.41718886e-03, 4.83662701e-02, 1.24902181e-01, 3.05508666e-01,\n",
              "         3.97191486e-01, 1.21614208e-01],\n",
              "        [3.37897445e-05, 2.48917097e-03, 2.06494687e-02, 1.10566971e-01,\n",
              "         2.94797056e-01, 5.71463543e-01]]),\n",
              " array([[5.71463380e-01, 2.94797861e-01, 1.10566394e-01, 2.06494131e-02,\n",
              "         2.48916253e-03, 3.37896980e-05],\n",
              "        [1.21614082e-01, 3.97191627e-01, 3.05508814e-01, 1.24902032e-01,\n",
              "         4.83662516e-02, 2.41719357e-03],\n",
              "        [4.74853949e-02, 2.71078616e-01, 3.19522495e-01, 2.33625284e-01,\n",
              "         1.17984002e-01, 1.03042078e-02],\n",
              "        [1.03041874e-02, 1.17984025e-01, 2.33625362e-01, 3.19522448e-01,\n",
              "         2.71078509e-01, 4.74854686e-02],\n",
              "        [2.41718886e-03, 4.83662701e-02, 1.24902181e-01, 3.05508666e-01,\n",
              "         3.97191486e-01, 1.21614208e-01],\n",
              "        [3.37897445e-05, 2.48917097e-03, 2.06494687e-02, 1.10566971e-01,\n",
              "         2.94797056e-01, 5.71463543e-01]]),\n",
              " array([[7.06466478e-01, 2.50779899e-01, 4.03333118e-02, 2.35132103e-03,\n",
              "         6.89174120e-05, 7.29547883e-08],\n",
              "        [1.01540021e-01, 4.87947990e-01, 3.24253129e-01, 7.09373622e-02,\n",
              "         1.51669561e-02, 1.54541569e-04],\n",
              "        [2.36351935e-02, 2.74889724e-01, 3.95039828e-01, 2.32994339e-01,\n",
              "         7.15542926e-02, 1.88662332e-03],\n",
              "        [1.88661757e-03, 7.15542943e-02, 2.32994354e-01, 3.95039894e-01,\n",
              "         2.74889594e-01, 2.36352469e-02],\n",
              "        [1.54541099e-04, 1.51669619e-02, 7.09373937e-02, 3.24253308e-01,\n",
              "         4.87947634e-01, 1.01540161e-01],\n",
              "        [7.29550099e-08, 6.89178270e-05, 2.35133260e-03, 4.03338074e-02,\n",
              "         2.50779278e-01, 7.06466591e-01]]),\n",
              " array([[7.06466478e-01, 2.50779899e-01, 4.03333118e-02, 2.35132103e-03,\n",
              "         6.89174120e-05, 7.29547883e-08],\n",
              "        [1.01540021e-01, 4.87947990e-01, 3.24253129e-01, 7.09373622e-02,\n",
              "         1.51669561e-02, 1.54541569e-04],\n",
              "        [2.36351935e-02, 2.74889724e-01, 3.95039828e-01, 2.32994339e-01,\n",
              "         7.15542926e-02, 1.88662332e-03],\n",
              "        [1.88661757e-03, 7.15542943e-02, 2.32994354e-01, 3.95039894e-01,\n",
              "         2.74889594e-01, 2.36352469e-02],\n",
              "        [1.54541099e-04, 1.51669619e-02, 7.09373937e-02, 3.24253308e-01,\n",
              "         4.87947634e-01, 1.01540161e-01],\n",
              "        [7.29550099e-08, 6.89178270e-05, 2.35133260e-03, 4.03338074e-02,\n",
              "         2.50779278e-01, 7.06466591e-01]]),\n",
              " array([[7.76174210e-01, 2.12744249e-01, 1.08019329e-02, 2.77483120e-04,\n",
              "         2.12459645e-06, 1.82440623e-10],\n",
              "        [7.40406085e-02, 6.37236406e-01, 2.12325918e-01, 7.14263343e-02,\n",
              "         4.95992170e-03, 1.08120328e-05],\n",
              "        [1.19475367e-02, 2.61997485e-01, 4.58910636e-01, 2.23234321e-01,\n",
              "         4.35430536e-02, 3.66967626e-04],\n",
              "        [3.66966120e-04, 4.35430498e-02, 2.23234324e-01, 4.58910694e-01,\n",
              "         2.61997394e-01, 1.19475718e-02],\n",
              "        [1.08119883e-05, 4.95992390e-03, 7.14263708e-02, 2.12326015e-01,\n",
              "         6.37236171e-01, 7.40407074e-02],\n",
              "        [1.82441476e-10, 2.12461481e-06, 2.77485090e-04, 1.08023242e-02,\n",
              "         2.12743773e-01, 7.76174293e-01]]),\n",
              " array([[7.76174210e-01, 2.12744249e-01, 1.08019329e-02, 2.77483120e-04,\n",
              "         2.12459645e-06, 1.82440623e-10],\n",
              "        [7.40406085e-02, 6.37236406e-01, 2.12325918e-01, 7.14263343e-02,\n",
              "         4.95992170e-03, 1.08120328e-05],\n",
              "        [1.19475367e-02, 2.61997485e-01, 4.58910636e-01, 2.23234321e-01,\n",
              "         4.35430536e-02, 3.66967626e-04],\n",
              "        [3.66966120e-04, 4.35430498e-02, 2.23234324e-01, 4.58910694e-01,\n",
              "         2.61997394e-01, 1.19475718e-02],\n",
              "        [1.08119883e-05, 4.95992390e-03, 7.14263708e-02, 2.12326015e-01,\n",
              "         6.37236171e-01, 7.40407074e-02],\n",
              "        [1.82441476e-10, 2.12461481e-06, 2.77485090e-04, 1.08023242e-02,\n",
              "         2.12743773e-01, 7.76174293e-01]]),\n",
              " array([[8.17899769e-01, 1.82066468e-01, 0.00000000e+00, 3.36946140e-05,\n",
              "         6.88084201e-08, 4.84061627e-13],\n",
              "        [6.43014440e-02, 6.78202413e-01, 2.08117826e-01, 4.77081953e-02,\n",
              "         1.66933332e-03, 7.88628324e-07],\n",
              "        [6.12367042e-03, 2.42106348e-01, 5.15581415e-01, 2.09322417e-01,\n",
              "         2.67925120e-02, 7.36370419e-05],\n",
              "        [7.36366630e-05, 2.67925076e-02, 2.09322425e-01, 5.15581438e-01,\n",
              "         2.42106300e-01, 6.12369252e-03],\n",
              "        [7.88624235e-07, 1.66933419e-03, 4.77082244e-02, 2.08117921e-01,\n",
              "         6.78202201e-01, 6.43015309e-02],\n",
              "        [4.84064832e-13, 6.88092160e-08, 3.36949365e-05, 0.00000000e+00,\n",
              "         1.82066146e-01, 8.17900091e-01]]),\n",
              " array([[8.17899769e-01, 1.82066468e-01, 0.00000000e+00, 3.36946140e-05,\n",
              "         6.88084201e-08, 4.84061627e-13],\n",
              "        [6.43014440e-02, 6.78202413e-01, 2.08117826e-01, 4.77081953e-02,\n",
              "         1.66933332e-03, 7.88628324e-07],\n",
              "        [6.12367042e-03, 2.42106348e-01, 5.15581415e-01, 2.09322417e-01,\n",
              "         2.67925120e-02, 7.36370419e-05],\n",
              "        [7.36366630e-05, 2.67925076e-02, 2.09322425e-01, 5.15581438e-01,\n",
              "         2.42106300e-01, 6.12369252e-03],\n",
              "        [7.88624235e-07, 1.66933419e-03, 4.77082244e-02, 2.08117921e-01,\n",
              "         6.78202201e-01, 6.43015309e-02],\n",
              "        [4.84064832e-13, 6.88092160e-08, 3.36949365e-05, 0.00000000e+00,\n",
              "         1.82066146e-01, 8.17900091e-01]]),\n",
              " array([[8.42516979e-01, 1.57478850e-01, 0.00000000e+00, 4.16805041e-06,\n",
              "         2.28552790e-09, 1.32266830e-15],\n",
              "        [5.69622648e-02, 7.10042673e-01, 2.00532638e-01, 3.18893193e-02,\n",
              "         5.73045838e-04, 5.89467108e-08],\n",
              "        [3.17207279e-03, 2.20653992e-01, 5.65516338e-01, 1.93975725e-01,\n",
              "         1.66668077e-02, 1.50655968e-05],\n",
              "        [1.50655036e-05, 1.66668038e-02, 1.93975738e-01, 5.65516329e-01,\n",
              "         2.20653977e-01, 3.17208634e-03],\n",
              "        [5.89463422e-08, 5.73046182e-04, 3.18893419e-02, 2.00532733e-01,\n",
              "         7.10042477e-01, 5.69623427e-02],\n",
              "        [1.32267914e-15, 2.28556017e-09, 4.16809902e-06, 0.00000000e+00,\n",
              "         1.57478579e-01, 8.42517251e-01]]),\n",
              " array([[8.42516979e-01, 1.57478850e-01, 0.00000000e+00, 4.16805041e-06,\n",
              "         2.28552790e-09, 1.32266830e-15],\n",
              "        [5.69622648e-02, 7.10042673e-01, 2.00532638e-01, 3.18893193e-02,\n",
              "         5.73045838e-04, 5.89467108e-08],\n",
              "        [3.17207279e-03, 2.20653992e-01, 5.65516338e-01, 1.93975725e-01,\n",
              "         1.66668077e-02, 1.50655968e-05],\n",
              "        [1.50655036e-05, 1.66668038e-02, 1.93975738e-01, 5.65516329e-01,\n",
              "         2.20653977e-01, 3.17208634e-03],\n",
              "        [5.89463422e-08, 5.73046182e-04, 3.18893419e-02, 2.00532733e-01,\n",
              "         7.10042477e-01, 5.69623427e-02],\n",
              "        [1.32267914e-15, 2.28556017e-09, 4.16809902e-06, 0.00000000e+00,\n",
              "         1.57478579e-01, 8.42517251e-01]])]"
            ]
          },
          "metadata": {},
          "execution_count": 105
        }
      ],
      "source": [
        "transition_matrices"
      ]
    },
    {
      "cell_type": "code",
      "execution_count": 106,
      "metadata": {
        "id": "VXL4jgsgWII5"
      },
      "outputs": [],
      "source": [
        "prices = generate_stock_price_tree(S0, r, sigma, dt, branch_count, time_periods,years, z_value)"
      ]
    },
    {
      "cell_type": "code",
      "source": [],
      "metadata": {
        "id": "uW3rSKQ59F6b"
      },
      "execution_count": 106,
      "outputs": []
    },
    {
      "cell_type": "code",
      "source": [
        "prices"
      ],
      "metadata": {
        "colab": {
          "base_uri": "https://localhost:8080/"
        },
        "id": "dy9upwIsL5Sy",
        "outputId": "7383d5db-ea14-4024-c29a-37c8f5e0de49"
      },
      "execution_count": 107,
      "outputs": [
        {
          "output_type": "execute_result",
          "data": {
            "text/plain": [
              "array([[100.        , 100.        , 100.        , 100.        ,\n",
              "        100.        , 100.        ],\n",
              "       [ 43.74049138,  69.75491791,  85.29378601, 110.41421256,\n",
              "        135.01049175, 215.30718753],\n",
              "       [ 30.51410832,  59.04040003,  78.46397841, 113.03537906,\n",
              "        150.22264315, 290.6589985 ],\n",
              "       [ 22.98647352,  51.5874144 ,  73.08453924, 114.28824149,\n",
              "        161.91357673, 363.37445401],\n",
              "       [ 18.01812711,  45.82389436,  68.5136517 , 114.8133239 ,\n",
              "        171.66326533, 436.57552712],\n",
              "       [ 14.48707251,  41.13503566,  64.49347533, 114.86718184,\n",
              "        180.09423963, 511.36464268],\n",
              "       [ 11.86012298,  37.20310132,  60.88689826, 114.58565079,\n",
              "        187.53178631, 588.25338869]])"
            ]
          },
          "metadata": {},
          "execution_count": 107
        }
      ]
    },
    {
      "cell_type": "code",
      "execution_count": 108,
      "metadata": {
        "colab": {
          "base_uri": "https://localhost:8080/"
        },
        "id": "Wab0NCnJWII5",
        "outputId": "b7e3b1b0-ab1e-489b-d5a7-7ff7e0d2eabb"
      },
      "outputs": [
        {
          "output_type": "execute_result",
          "data": {
            "text/plain": [
              "(7, 6)"
            ]
          },
          "metadata": {},
          "execution_count": 108
        }
      ],
      "source": [
        "np.array(prices).shape"
      ]
    },
    {
      "cell_type": "code",
      "execution_count": 109,
      "metadata": {
        "colab": {
          "base_uri": "https://localhost:8080/"
        },
        "id": "W1fAPvrkWII6",
        "outputId": "2090c4f0-d751-4c1c-90ea-deedbf030b21"
      },
      "outputs": [
        {
          "output_type": "execute_result",
          "data": {
            "text/plain": [
              "47.62679528936913"
            ]
          },
          "metadata": {},
          "execution_count": 109
        }
      ],
      "source": [
        "# Global Variables\n",
        "\n",
        "option_type = 'call'\n",
        "exercise_style = 'European'\n",
        "price_option(prices, transition_matrices, K, r, dt, is_call=True)"
      ]
    },
    {
      "cell_type": "code",
      "execution_count": 110,
      "metadata": {
        "colab": {
          "base_uri": "https://localhost:8080/"
        },
        "id": "msHiXgtdWII6",
        "outputId": "bcfbd90d-0332-4f1a-dad5-6f43fb931567"
      },
      "outputs": [
        {
          "output_type": "execute_result",
          "data": {
            "text/plain": [
              "46.122966171746455"
            ]
          },
          "metadata": {},
          "execution_count": 110
        }
      ],
      "source": [
        "BS_CALL(S0,K,years,r,sigma)"
      ]
    },
    {
      "cell_type": "markdown",
      "metadata": {
        "id": "9Vagv-fkWII6"
      },
      "source": [
        "#### Structured Product Pricing"
      ]
    },
    {
      "cell_type": "markdown",
      "metadata": {
        "id": "OgLaiVAcWII6"
      },
      "source": [
        "##### Updated Method"
      ]
    },
    {
      "cell_type": "code",
      "execution_count": 111,
      "metadata": {
        "id": "M8vlTyiQWII6"
      },
      "outputs": [],
      "source": [
        "def payoff_selection(function,fixed_rate=0,returns=0,excess_ratio=0,participation_rate=1):\n",
        "    if function == 'auto_call':\n",
        "        return (1+fixed_rate+excess_ratio*(returns-fixed_rate))\n",
        "    elif function == 'boost':\n",
        "        return (1+max(fixed_rate,fixed_rate+(returns-fixed_rate)*participation_rate))\n",
        "\n",
        "def payoffs(prices,fixed_rate,payoff_function,participation_rate=1,boost_level=0,excess_ratio=0,principal_protected=True,barrier_rate=1,geared_protection=False,gearing_rate=1,gearing_fixed=0,final=False):\n",
        "\n",
        "    returns = (prices-S0)/S0\n",
        "\n",
        "    count = 0\n",
        "    for i in returns:\n",
        "\n",
        "        if i <= 0:\n",
        "            # Boosted return if returns are negative but above boost_level\n",
        "            if i >= boost_level:\n",
        "                returns[count] = (S0 * payoff_selection(payoff_function,fixed_rate))\n",
        "            # No return if the rate of return is negative and pricipal protected or above barrier rate\n",
        "            elif (principal_protected or (i >= (barrier_rate-1))):\n",
        "                returns[count] = S0\n",
        "            # Geared protection adds a fixed rate to the negative return and multiplies by gearing ratio\n",
        "            elif geared_protection:\n",
        "                returns[count] = S0*(1+(i+gearing_fixed)*gearing_rate)\n",
        "            # If its the final payoff and all else fails just return the payoffs\n",
        "            elif final:\n",
        "                returns[count] = S0*(1+i)\n",
        "            # Return 0 otherwise\n",
        "            else:\n",
        "                returns[count] = 0\n",
        "        elif i < fixed_rate:\n",
        "            returns[count] = (S0 * payoff_selection(payoff_function,fixed_rate))  # Fixed rate if the return is less than fixed rate\n",
        "        else:\n",
        "            # Apply the structured product logic if return is above the fixed rate\n",
        "            returns[count] =  (S0 * payoff_selection(payoff_function,fixed_rate,i,excess_ratio,participation_rate))\n",
        "        count += 1\n",
        "    return returns"
      ]
    },
    {
      "cell_type": "markdown",
      "source": [
        "# **CUSTOM PAYOFFS**"
      ],
      "metadata": {
        "id": "NzQs6EQ8KmTU"
      }
    },
    {
      "cell_type": "code",
      "source": [
        "def payoffs2(prices,S0 , fixed_rate,excess_return_variable):#autocall 105% ->input 1.05\n",
        "  returns = (prices-S0)/S0\n",
        "  count=0\n",
        "  for i in returns:\n",
        "    if i>0:\n",
        "      excess_ratio=max(0,(i-fixed_rate)*excess_return_variable)\n",
        "      #print(excess_ratio)\n",
        "      returns[count]=S0*(1+fixed_rate+excess_ratio)\n",
        "    else:\n",
        "      returns[count]=S0\n",
        "    count+=1\n",
        "  return returns"
      ],
      "metadata": {
        "id": "-53_sE-MJObm"
      },
      "execution_count": 112,
      "outputs": []
    },
    {
      "cell_type": "code",
      "source": [
        "def price_auto_call2(stock_price_tree, transition_matrices, r, fixed, variable, years,excess_ratio_variable,auto_call ):\n",
        "    '''\n",
        "    price_auto_call2 : Uses a willow tree method to price a structured product with varying fixed rates per year , increasing at a constant rate and having an autocall value.Payoff is given either on autocall day where\n",
        "    Payoff=S0*(1+Fixed_rate + excess_ratio) .\n",
        "    '''\n",
        "    year_count = years - 1\n",
        "    Final_rate = fixed + (year_count) * variable  # Calculate the initial Final Rate\n",
        "    # Initialize option value tree\n",
        "    option_value_tree = np.zeros_like(stock_price_tree)\n",
        "    prices=stock_price_tree[-1]\n",
        "    # Calculate payoffs at maturity (final period)\n",
        "    option_value_tree[-1] = payoffs2(prices,S0 , fixed,excess_ratio_variable)\n",
        "    # Backward induction for each time step\n",
        "    for t in range(time_periods * years - 1, 0, -1):\n",
        "        payoff = payoffs2(stock_price_tree[t],S0,Final_rate,excess_ratio_variable)\n",
        "        dot_prod = np.dot(transition_matrices[t - 1], option_value_tree[t + 1]) * np.exp(-r * dt)\n",
        "        option_value_tree[t] = np.where(payoff >S0*auto_call, payoff,dot_prod)\n",
        "        # Reduce the Final_rate at every auto-callable date (each period)\n",
        "        #print(Final_rate)\n",
        "        Final_rate -= variable  # Decrease Final_rate by the specified decrement\n",
        "\n",
        "    option_value_tree[0] = np.dot(qi, option_value_tree[1]) * np.exp(-r * dt)\n",
        "   #print('final rate is ',Final_rate)\n",
        "    return option_value_tree[0][0]"
      ],
      "metadata": {
        "id": "TXUwMzqAQvNP"
      },
      "execution_count": 113,
      "outputs": []
    },
    {
      "cell_type": "code",
      "source": [
        "np.array(transition_matrices[0]).shape"
      ],
      "metadata": {
        "colab": {
          "base_uri": "https://localhost:8080/"
        },
        "id": "BpHscrLTMdWl",
        "outputId": "c8e43451-c4ba-4702-ddda-425fe3aee26c"
      },
      "execution_count": 114,
      "outputs": [
        {
          "output_type": "execute_result",
          "data": {
            "text/plain": [
              "(6, 6)"
            ]
          },
          "metadata": {},
          "execution_count": 114
        }
      ]
    },
    {
      "cell_type": "code",
      "source": [
        "np.array(prices).shape"
      ],
      "metadata": {
        "colab": {
          "base_uri": "https://localhost:8080/"
        },
        "id": "sVYCWkYFMvII",
        "outputId": "6ed72431-8bf7-41d8-c935-3867923dfc14"
      },
      "execution_count": 115,
      "outputs": [
        {
          "output_type": "execute_result",
          "data": {
            "text/plain": [
              "(7, 6)"
            ]
          },
          "metadata": {},
          "execution_count": 115
        }
      ]
    },
    {
      "cell_type": "code",
      "source": [
        "prices=generate_stock_price_tree(S0, r, 0.2, dt, branch_count, time_periods,years, z_value)\n",
        "auto_call_price = price_auto_call2(prices,transition_matrices,r=0.03,fixed=0.05,excess_ratio_variable=0.05,years=years,variable=0.05,auto_call=1.05)\n",
        "auto_call_price"
      ],
      "metadata": {
        "colab": {
          "base_uri": "https://localhost:8080/"
        },
        "id": "jxcenDp5IJKT",
        "outputId": "d10b3508-5fae-4895-cb15-0fe9caf92ea3"
      },
      "execution_count": 116,
      "outputs": [
        {
          "output_type": "execute_result",
          "data": {
            "text/plain": [
              "104.86982504183068"
            ]
          },
          "metadata": {},
          "execution_count": 116
        }
      ]
    },
    {
      "cell_type": "code",
      "source": [
        "prices.shape"
      ],
      "metadata": {
        "colab": {
          "base_uri": "https://localhost:8080/"
        },
        "id": "5M5OJfrMXA8E",
        "outputId": "2ce50880-ef03-4eb0-c6c1-20645e019673"
      },
      "execution_count": 117,
      "outputs": [
        {
          "output_type": "execute_result",
          "data": {
            "text/plain": [
              "(7, 6)"
            ]
          },
          "metadata": {},
          "execution_count": 117
        }
      ]
    },
    {
      "cell_type": "code",
      "source": [
        "def price_asian_prod(stock_price_tree, transition_matrices, r, S0, years,time_periods,participation_rate=1):\n",
        "\n",
        "    '''\n",
        "    price_asian_prod : Uses a willow tree method to price an structured product with payoffs based on the final average index and its return.Pricing done similarly to Asian options\n",
        "    using our interpolation sceheme as highlighted and covered in the paper 'An efficient convergent lattice method for Asian option pricing with superlinear complexity'\n",
        "\n",
        "    parameters :\n",
        "    stock_price_tree : prices per time period created using the function 'generate_stock_price_tree' using GBM.\n",
        "    transition_matrices : transitional probability matrices creating using 'generate_transition_matrices' .\n",
        "    r : risk-free rate\n",
        "    S0: initial index/stock value\n",
        "    years :number of years\n",
        "    time_periods :periods per year\n",
        "    pariticipation_rate : percentage of the performance of the underlying asset which will be used to calculate the return when a product reaches its maturity.\n",
        "    '''\n",
        "    m=len(stock_price_tree[0]) #number of nodes per time period\n",
        "    year_count = years - 1\n",
        "    option_value_tree = np.zeros_like(stock_price_tree)\n",
        "    k_min,k_max,avg_k_final=get_return(time_periods*years-1,stock_price_tree)\n",
        "    var_return=find_return_from_alpha(S0,avg_k_final,participation_rate)\n",
        "    option_value_tree[-1]=var_return #final layer\n",
        "    for n in range(time_periods * years - 1, 0, -1):\n",
        "       for k in range(k_min,k_max+1):\n",
        "        A_k_n=get_A_k(k,S0)\n",
        "        for i in range(1,m+1):\n",
        "          V_n_ik=0\n",
        "          for j in range(1,m+1):\n",
        "            A_tilda_jkn=A_k_n+(stock_price_tree[n+1][j]-A_k_n)/(n+2)\n",
        "            A_k_nplusone=get_A_k(k,S0)\n",
        "            avg_min,avg_max,kmin_new,kmax_new=find_alpha(S0,stock_price_tree,A_k_nplusone,k_min,k_max,n) #finding A_K- AND A_K+\n",
        "            alpha_jk_n=(A_tilda_jkn-avg_min)/(avg_max-avg_min)\n",
        "            V_kminus=find__return_from_alpha(S0,get_A_k(k_min_new,S0),participation_rate)\n",
        "            V_kplus=find_return_from_alpha(S0,get_A_k(k_max_new,S0),participation_rate)\n",
        "            V_jk_n=alpha_jk_n*V_kplus+(1-alpha_jk_n)*V_kminus\n",
        "            V_n_ik+=transition_matrices[n-1][i-1][j-1]*alpha_jk_n*V_jk_n\n",
        "          option_value_tree[n][i]=np.exp(-r*dt)*V_n_ik\n",
        "    #for j in range(1,m+1):\n",
        "      #A_tilda_jkn_1=(S0+stock_price_tree[1][j])/2\n",
        "      #V_jk_one=\n",
        "def get_A_k(k,S0):\n",
        "  A_k=S0*np.exp(k)\n",
        "  return A_k\n",
        "def get_return(n,stock_prices):\n",
        "  A_min_n = (1 / (n + 1)) * (S0 + np.sum(np.min(stock_prices, axis=1)))\n",
        "  A_max_n = (1 / (n + 1)) * (S0 + np.sum(np.max(stock_prices, axis=1)))\n",
        "  k_min_n = np.floor(np.log(A_min_n / S0))\n",
        "  k_max_n = np.ceil(np.log(A_max_n / S0))\n",
        "  random_k=random.randint(k_min_n,k_max_n)\n",
        "  A_k_n=get_A_k(random_k,S0)\n",
        "  #avg_return=(A_k_n-S0)/S0\n",
        "  #our_return=avg_return*participation_rate*S0\n",
        "  return (k_min_n,k_max_n,A_k_n)\n",
        "\n",
        "  #return avg_return*participation_rate*S0 if our_return>0 else S0\n",
        "def find_alpha(S0,stock_prices,A_jk , k_min , k_max , n):\n",
        "  kmin_temp=k_min\n",
        "  kmax_temp=k_max\n",
        "  A_k_min=get_A_k(kmin_temp,S0)\n",
        "  A_k_max=get_A_k(kmax_temp,S0)\n",
        "  while(A_k_min<=A_jk and kmin_temp<k_max):\n",
        "    A_k_min_potential=get_A_k(kmin_temp,S0)\n",
        "    if A_k_min_potential>A_jk:\n",
        "      break\n",
        "    A_k_min=A_k_min_potential\n",
        "    kmin_temp+=1\n",
        "  while(A_k_max>=A_jk and kmax_temp>k_min):\n",
        "    A_k_max_potential=get_A_k(kmax_temp,S0)\n",
        "    if A_k_max_potential<A_jk:\n",
        "      break\n",
        "    A_k_max=A_k_max_potential\n",
        "    kmax_temp-=1\n",
        "  return (A_k_min,A_k_max,kmin_temp,kmax_temp)\n",
        "\n",
        "def find_return_from_alpha(S0,avg,participation_rate=1):\n",
        "  index_return=(avg-S0)/S0\n",
        "  return index_return*participation_rate*S0\n",
        "\n"
      ],
      "metadata": {
        "id": "c_RX4l8vcdJW"
      },
      "execution_count": 118,
      "outputs": []
    },
    {
      "cell_type": "code",
      "source": [
        "#get_return(years*time_periods,prices[:4])\n",
        "a=find_alpha(100,prices,99,-5,8,3)\n",
        "print(a[1])\n",
        "find_return_from_alpha(S0,a[0],0.8)"
      ],
      "metadata": {
        "id": "7anJdFE0WlKr",
        "colab": {
          "base_uri": "https://localhost:8080/"
        },
        "outputId": "2344ac82-2576-4055-d13d-d81a18c8c88d"
      },
      "execution_count": 119,
      "outputs": [
        {
          "output_type": "stream",
          "name": "stdout",
          "text": [
            "100.0\n"
          ]
        },
        {
          "output_type": "execute_result",
          "data": {
            "text/plain": [
              "-50.56964470628461"
            ]
          },
          "metadata": {},
          "execution_count": 119
        }
      ]
    },
    {
      "cell_type": "code",
      "source": [
        "#my custom payoffs function 2\n",
        "\n",
        "def price_booster_BASIC_PPN(stock_price_tree,transition_matrices,r):\n",
        "    moving_sum=0\n",
        "    # Initialize option value tree with zeros\n",
        "    option_value_tree = np.zeros_like(stock_price_tree)\n",
        "\n",
        "    # Payoff function takes in the stock prices and a fixed rate to get a payoff vector\n",
        "    option_value_tree[-1] = (stock_price_tree[-1]-S0)/S0\n",
        "    print(f'Option value trhee at -1 is {option_value_tree[-1]}')\n",
        "    # Backward induction to calculate option price at each node\n",
        "    for t in range(time_periods*years-1, 0, -1):\n",
        "        option_value_tree[t] = np.dot(transition_matrices[t-1],option_value_tree[t+1])*np.exp(-r*dt)\n",
        "        print(transition_matrices[t-1])\n",
        "        #print(f'Option value tree at {t} is {option_value_tree[t]}')\n",
        "\n",
        "        moving_sum+=option_value_tree[t]\n",
        "    option_value_tree[0] = np.dot(qi,option_value_tree[1])*np.exp(-r*dt)\n",
        "    #moving_sum+=(option_value_tree[t]-S0)/S0\n",
        "    print(option_value_tree[0][0])\n",
        "    return option_value_tree[0][0]\n",
        "#price_booster_BASIC_PPN(prices,transition_matrices,r)\n"
      ],
      "metadata": {
        "id": "pH04L9KtH1Nh"
      },
      "execution_count": 120,
      "outputs": []
    },
    {
      "cell_type": "code",
      "source": [
        "transition_matrices[-1].shape"
      ],
      "metadata": {
        "id": "Hsn6CwXRbtJD",
        "colab": {
          "base_uri": "https://localhost:8080/"
        },
        "outputId": "12daed0f-b8bb-4a6b-9326-172f5d90ff0c"
      },
      "execution_count": 121,
      "outputs": [
        {
          "output_type": "execute_result",
          "data": {
            "text/plain": [
              "(6, 6)"
            ]
          },
          "metadata": {},
          "execution_count": 121
        }
      ]
    },
    {
      "cell_type": "code",
      "execution_count": 122,
      "metadata": {
        "id": "aZaeoN53WII6"
      },
      "outputs": [],
      "source": [
        "def price_auto_call(stock_price_tree,transition_matrices,r,fixed,variable,years,excess_ratio=0,principal_protected=False,barrier_rate=1,geared_protection=False,gearing_rate=1,gearing_fixed=0):\n",
        "    year_count = years-1\n",
        "\n",
        "    Final_rate = fixed + year_count*variable\n",
        "\n",
        "    # Initialize option value tree with zeros\n",
        "    option_value_tree = np.zeros_like(stock_price_tree)\n",
        "\n",
        "    # Payoff function takes in the stock prices and a fixed rate to get a payoff vector\n",
        "    option_value_tree[-1] = payoffs(stock_price_tree[-1],Final_rate,'auto_call',excess_ratio,principal_protected,barrier_rate,geared_protection,gearing_rate,gearing_fixed,True)\n",
        "\n",
        "    # Backward induction to calculate option price at each node\n",
        "    for t in range(time_periods*years-1, 0, -1):\n",
        "        print('option_value_tree at ',t+1,':',option_value_tree[t+1].shape)\n",
        "        print('transition_matrices at ',t,':',transition_matrices[t-1].shape)\n",
        "        option_value_tree[t] = np.dot(transition_matrices[t-1],option_value_tree[t+1])*np.exp(-r*dt)\n",
        "\n",
        "        if t == time_periods-1: # when to do american call payoff\n",
        "            payoff = payoffs(stock_price_tree[t],Final_rate,'auto_call',excess_ratio,principal_protected,barrier_rate,geared_protection,gearing_rate,gearing_fixed)\n",
        "            option_value_tree[t] = np.where(payoff == 0,option_value_tree[t],payoff)\n",
        "\n",
        "    option_value_tree[0] = np.dot(qi,option_value_tree[1])*np.exp(-r*dt)\n",
        "\n",
        "    return option_value_tree[0][0]"
      ]
    },
    {
      "cell_type": "code",
      "execution_count": 123,
      "metadata": {
        "id": "qzFhBAq2WII6"
      },
      "outputs": [],
      "source": [
        "def price_booster(stock_price_tree,transition_matrices,r,fixed_portion,years,participation_rate=1,boost_level=0,excess_ratio=0,principal_protected=False,barrier_rate=1,geared_protection=False,gearing_rate=1,gearing_fixed=0):\n",
        "\n",
        "    # Initialize option value tree with zeros\n",
        "    option_value_tree = np.zeros_like(stock_price_tree)\n",
        "\n",
        "    # Payoff function takes in the stock prices and a fixed rate to get a payoff vector\n",
        "    option_value_tree[-1] = payoffs(stock_price_tree[-1],fixed_portion,'boost',participation_rate,boost_level,excess_ratio,principal_protected,barrier_rate,geared_protection,gearing_rate,gearing_fixed,True)\n",
        "\n",
        "    # Backward induction to calculate option price at each node\n",
        "    for t in range(time_periods*years-1, 0, -1):\n",
        "        option_value_tree[t] = np.dot(transition_matrices[t-1],option_value_tree[t+1])*np.exp(-r*dt)\n",
        "\n",
        "    option_value_tree[0] = np.dot(qi,option_value_tree[1])*np.exp(-r*dt)\n",
        "\n",
        "    return option_value_tree[0][0]"
      ]
    },
    {
      "cell_type": "code",
      "source": [
        "r=0.05"
      ],
      "metadata": {
        "id": "lIOIH9sVb2Pn"
      },
      "execution_count": 124,
      "outputs": []
    },
    {
      "cell_type": "code",
      "source": [
        "a=np.array([1,2,3,4]).transpose()\n",
        "b=2\n",
        "np.dot(a,b)"
      ],
      "metadata": {
        "colab": {
          "base_uri": "https://localhost:8080/"
        },
        "id": "khSodSfP-veo",
        "outputId": "2a2e9f95-2c40-47a2-e876-e66892e7b912"
      },
      "execution_count": 136,
      "outputs": [
        {
          "output_type": "execute_result",
          "data": {
            "text/plain": [
              "array([2, 4, 6, 8])"
            ]
          },
          "metadata": {},
          "execution_count": 136
        }
      ]
    },
    {
      "cell_type": "code",
      "execution_count": 125,
      "metadata": {
        "id": "SKlYgDVNWII7"
      },
      "outputs": [],
      "source": [
        "\n",
        "b_tree = generate_btree(time_periods,years,branch_count,z_value)\n",
        "transition_matrices = generate_transition_matrices(time_periods,years,branch_count,b_tree)"
      ]
    },
    {
      "cell_type": "code",
      "source": [
        "auto_callprice=price_auto_call(prices,transition_matrices,r,0.5,0.05,years,excess_ratio=0,principal_protected=False,barrier_rate=1,geared_protection=False,gearing_rate=1,gearing_fixed=0)"
      ],
      "metadata": {
        "colab": {
          "base_uri": "https://localhost:8080/"
        },
        "id": "7SQ520t_9xWq",
        "outputId": "e80d684b-7e42-4d05-fcc5-7769b0a8893c"
      },
      "execution_count": 126,
      "outputs": [
        {
          "output_type": "stream",
          "name": "stdout",
          "text": [
            "option_value_tree at  6 : (6,)\n",
            "transition_matrices at  5 : (6, 6)\n",
            "option_value_tree at  5 : (6,)\n",
            "transition_matrices at  4 : (6, 6)\n",
            "option_value_tree at  4 : (6,)\n",
            "transition_matrices at  3 : (6, 6)\n",
            "option_value_tree at  3 : (6,)\n",
            "transition_matrices at  2 : (6, 6)\n",
            "option_value_tree at  2 : (6,)\n",
            "transition_matrices at  1 : (6, 6)\n"
          ]
        }
      ]
    },
    {
      "cell_type": "code",
      "execution_count": 127,
      "metadata": {
        "id": "oN8ALQ0QWII7",
        "colab": {
          "base_uri": "https://localhost:8080/"
        },
        "outputId": "8891e67d-ba77-458f-c490-845af8e3f921"
      },
      "outputs": [
        {
          "output_type": "execute_result",
          "data": {
            "text/plain": [
              "0.0"
            ]
          },
          "metadata": {},
          "execution_count": 127
        }
      ],
      "source": [
        "prices=generate_stock_price_tree(S0, r, sigma, dt, branch_count, 2,5, z_value)\n",
        "booster_price = price_booster(prices,transition_matrices,0.03,0.14,5,boost_level=0,barrier_rate=0.8)\n",
        "booster_price"
      ]
    },
    {
      "cell_type": "code",
      "execution_count": 128,
      "metadata": {
        "id": "Rw-GETfGWII7",
        "colab": {
          "base_uri": "https://localhost:8080/"
        },
        "outputId": "7894f566-1f27-4939-85f2-e329888b0fb1"
      },
      "outputs": [
        {
          "output_type": "execute_result",
          "data": {
            "text/plain": [
              "103.01629670361824"
            ]
          },
          "metadata": {},
          "execution_count": 128
        }
      ],
      "source": [
        "prices = generate_stock_price_tree(S0, r, sigma, dt, branch_count, time_periods,5, z_value)\n",
        "auto_call_price = price_auto_call2(prices,transition_matrices,r=0.03,fixed=0.05,excess_ratio_variable=0.05,years=5,variable=0.05,auto_call=1.05)\n",
        "auto_call_price"
      ]
    },
    {
      "cell_type": "code",
      "execution_count": 129,
      "metadata": {
        "id": "FxIGiT9zWII7",
        "colab": {
          "base_uri": "https://localhost:8080/"
        },
        "outputId": "1bc29988-2de7-43bc-8d99-ff7e55e664a4"
      },
      "outputs": [
        {
          "output_type": "stream",
          "name": "stdout",
          "text": [
            "120.4187252566285\n"
          ]
        }
      ],
      "source": [
        "prices = generate_stock_price_tree(S0, r, sigma, dt, branch_count, time_periods,5, z_value)\n",
        "model_price = price_booster(prices,transition_matrices,0.03,0.7,5,boost_level=-.10,barrier_rate=0.8)\n",
        "print(model_price)"
      ]
    },
    {
      "cell_type": "markdown",
      "metadata": {
        "id": "FJp8KefwWII8"
      },
      "source": [
        "### Implied Volatility"
      ]
    },
    {
      "cell_type": "code",
      "execution_count": 130,
      "metadata": {
        "id": "g31CdjI_WII8"
      },
      "outputs": [],
      "source": [
        "from scipy.optimize import brentq,newton\n",
        "\n",
        "# Define a function to find the implied volatility\n",
        "def find_implied_volatility(sigma,market_price,years):\n",
        "\n",
        "    def difference(sigma):\n",
        "        prices = generate_stock_price_tree(S0, r, sigma, dt, branch_count, time_periods,years, z_value)\n",
        "\n",
        "        # Parameters for auto call function\n",
        "        # price_auto_call(stock_price_tree,transition_matrices,r,fixed,variable,years,excess_ratio=0,principal_protected=False,barrier_rate=1,geared_protection=False,gearing_rate=1,gearing_fixed=0):\n",
        "\n",
        "        # model_price = price_auto_call(prices,transition_matrices,r=0.03,fixed=0.1,variable=0.05,years)\n",
        "        model_price = price_auto_call2(prices, transition_matrices, r, 0.05, 0.05, 6,0.05,1.0)\n",
        "        #print(model_price)\n",
        "        difference = (model_price - market_price)\n",
        "        print('model price is ',model_price , 'market price ius ',market_price)\n",
        "        return difference\n",
        "\n",
        "    # Use the Brent method to find the root of the difference function\n",
        "    sigma = brentq(difference, a=sigma, b=2, xtol=1e-6)\n",
        "\n",
        "\n",
        "    return sigma"
      ]
    },
    {
      "cell_type": "code",
      "source": [
        "from scipy.optimize import brentq\n",
        "\n",
        "# Define a function to find the implied volatility\n",
        "def find_implied_volatility_og(sigma,market_price,years):\n",
        "\n",
        "    def difference(sigma):\n",
        "        prices = generate_stock_price_tree(S0, r, sigma, dt, branch_count, time_periods,years, z_value)\n",
        "\n",
        "        # Parameters for auto call function\n",
        "        # price_auto_call(stock_price_tree,transition_matrices,r,fixed,variable,years,excess_ratio=0,principal_protected=False,barrier_rate=1,geared_protection=False,gearing_rate=1,gearing_fixed=0):\n",
        "\n",
        "        # model_price = price_auto_call(prices,transition_matrices,r=0.03,fixed=0.1,variable=0.05,years)\n",
        "        model_price = price_booster(prices,transition_matrices,0.03,0.7,5,boost_level=-.10,barrier_rate=0.8)\n",
        "\n",
        "        difference = (model_price - market_price)\n",
        "        print('model price is ',model_price , 'market price ius ',market_price)\n",
        "        return difference\n",
        "\n",
        "    # Use the Brent method to find the root of the difference function\n",
        "    sigma = brentq(difference, a=sigma, b=2, xtol=1e-6)\n",
        "    return sigma"
      ],
      "metadata": {
        "id": "fG6cQxx7DwVv"
      },
      "execution_count": 131,
      "outputs": []
    },
    {
      "cell_type": "code",
      "source": [
        "# Given market price of the option\n",
        "market_price = 101.25 # Insert the market price here\n",
        "# Find the implied volatility\n",
        "implied_volatility = find_implied_volatility(sigma,market_price,years) #sample example https://notes.tdsecurities.com/api/v1/notes/file/3618/information_statement/EN\n",
        "implied_volatility"
      ],
      "metadata": {
        "id": "6pQyFOYTp4zS",
        "colab": {
          "base_uri": "https://localhost:8080/",
          "height": 373
        },
        "outputId": "99bf5e44-b896-4e83-a0ed-6a06ffc0d683"
      },
      "execution_count": 132,
      "outputs": [
        {
          "output_type": "stream",
          "name": "stdout",
          "text": [
            "model price is  98.35248296946091 market price ius  101.25\n",
            "model price is  83.20896571059666 market price ius  101.25\n"
          ]
        },
        {
          "output_type": "error",
          "ename": "ValueError",
          "evalue": "f(a) and f(b) must have different signs",
          "traceback": [
            "\u001b[0;31m---------------------------------------------------------------------------\u001b[0m",
            "\u001b[0;31mValueError\u001b[0m                                Traceback (most recent call last)",
            "\u001b[0;32m<ipython-input-132-df91c3ccd2eb>\u001b[0m in \u001b[0;36m<cell line: 4>\u001b[0;34m()\u001b[0m\n\u001b[1;32m      2\u001b[0m \u001b[0mmarket_price\u001b[0m \u001b[0;34m=\u001b[0m \u001b[0;36m101.25\u001b[0m \u001b[0;31m# Insert the market price here\u001b[0m\u001b[0;34m\u001b[0m\u001b[0;34m\u001b[0m\u001b[0m\n\u001b[1;32m      3\u001b[0m \u001b[0;31m# Find the implied volatility\u001b[0m\u001b[0;34m\u001b[0m\u001b[0;34m\u001b[0m\u001b[0m\n\u001b[0;32m----> 4\u001b[0;31m \u001b[0mimplied_volatility\u001b[0m \u001b[0;34m=\u001b[0m \u001b[0mfind_implied_volatility\u001b[0m\u001b[0;34m(\u001b[0m\u001b[0msigma\u001b[0m\u001b[0;34m,\u001b[0m\u001b[0mmarket_price\u001b[0m\u001b[0;34m,\u001b[0m\u001b[0myears\u001b[0m\u001b[0;34m)\u001b[0m \u001b[0;31m#sample example https://notes.tdsecurities.com/api/v1/notes/file/3618/information_statement/EN\u001b[0m\u001b[0;34m\u001b[0m\u001b[0;34m\u001b[0m\u001b[0m\n\u001b[0m\u001b[1;32m      5\u001b[0m \u001b[0mimplied_volatility\u001b[0m\u001b[0;34m\u001b[0m\u001b[0;34m\u001b[0m\u001b[0m\n",
            "\u001b[0;32m<ipython-input-130-38fd04721aa2>\u001b[0m in \u001b[0;36mfind_implied_volatility\u001b[0;34m(sigma, market_price, years)\u001b[0m\n\u001b[1;32m     18\u001b[0m \u001b[0;34m\u001b[0m\u001b[0m\n\u001b[1;32m     19\u001b[0m     \u001b[0;31m# Use the Brent method to find the root of the difference function\u001b[0m\u001b[0;34m\u001b[0m\u001b[0;34m\u001b[0m\u001b[0m\n\u001b[0;32m---> 20\u001b[0;31m     \u001b[0msigma\u001b[0m \u001b[0;34m=\u001b[0m \u001b[0mbrentq\u001b[0m\u001b[0;34m(\u001b[0m\u001b[0mdifference\u001b[0m\u001b[0;34m,\u001b[0m \u001b[0ma\u001b[0m\u001b[0;34m=\u001b[0m\u001b[0msigma\u001b[0m\u001b[0;34m,\u001b[0m \u001b[0mb\u001b[0m\u001b[0;34m=\u001b[0m\u001b[0;36m2\u001b[0m\u001b[0;34m,\u001b[0m \u001b[0mxtol\u001b[0m\u001b[0;34m=\u001b[0m\u001b[0;36m1e-6\u001b[0m\u001b[0;34m)\u001b[0m\u001b[0;34m\u001b[0m\u001b[0;34m\u001b[0m\u001b[0m\n\u001b[0m\u001b[1;32m     21\u001b[0m \u001b[0;34m\u001b[0m\u001b[0m\n\u001b[1;32m     22\u001b[0m \u001b[0;34m\u001b[0m\u001b[0m\n",
            "\u001b[0;32m/usr/local/lib/python3.10/dist-packages/scipy/optimize/_zeros_py.py\u001b[0m in \u001b[0;36mbrentq\u001b[0;34m(f, a, b, args, xtol, rtol, maxiter, full_output, disp)\u001b[0m\n\u001b[1;32m    804\u001b[0m         \u001b[0;32mraise\u001b[0m \u001b[0mValueError\u001b[0m\u001b[0;34m(\u001b[0m\u001b[0;34mf\"rtol too small ({rtol:g} < {_rtol:g})\"\u001b[0m\u001b[0;34m)\u001b[0m\u001b[0;34m\u001b[0m\u001b[0;34m\u001b[0m\u001b[0m\n\u001b[1;32m    805\u001b[0m     \u001b[0mf\u001b[0m \u001b[0;34m=\u001b[0m \u001b[0m_wrap_nan_raise\u001b[0m\u001b[0;34m(\u001b[0m\u001b[0mf\u001b[0m\u001b[0;34m)\u001b[0m\u001b[0;34m\u001b[0m\u001b[0;34m\u001b[0m\u001b[0m\n\u001b[0;32m--> 806\u001b[0;31m     \u001b[0mr\u001b[0m \u001b[0;34m=\u001b[0m \u001b[0m_zeros\u001b[0m\u001b[0;34m.\u001b[0m\u001b[0m_brentq\u001b[0m\u001b[0;34m(\u001b[0m\u001b[0mf\u001b[0m\u001b[0;34m,\u001b[0m \u001b[0ma\u001b[0m\u001b[0;34m,\u001b[0m \u001b[0mb\u001b[0m\u001b[0;34m,\u001b[0m \u001b[0mxtol\u001b[0m\u001b[0;34m,\u001b[0m \u001b[0mrtol\u001b[0m\u001b[0;34m,\u001b[0m \u001b[0mmaxiter\u001b[0m\u001b[0;34m,\u001b[0m \u001b[0margs\u001b[0m\u001b[0;34m,\u001b[0m \u001b[0mfull_output\u001b[0m\u001b[0;34m,\u001b[0m \u001b[0mdisp\u001b[0m\u001b[0;34m)\u001b[0m\u001b[0;34m\u001b[0m\u001b[0;34m\u001b[0m\u001b[0m\n\u001b[0m\u001b[1;32m    807\u001b[0m     \u001b[0;32mreturn\u001b[0m \u001b[0mresults_c\u001b[0m\u001b[0;34m(\u001b[0m\u001b[0mfull_output\u001b[0m\u001b[0;34m,\u001b[0m \u001b[0mr\u001b[0m\u001b[0;34m,\u001b[0m \u001b[0;34m\"brentq\"\u001b[0m\u001b[0;34m)\u001b[0m\u001b[0;34m\u001b[0m\u001b[0;34m\u001b[0m\u001b[0m\n\u001b[1;32m    808\u001b[0m \u001b[0;34m\u001b[0m\u001b[0m\n",
            "\u001b[0;31mValueError\u001b[0m: f(a) and f(b) must have different signs"
          ]
        }
      ]
    },
    {
      "cell_type": "code",
      "execution_count": null,
      "metadata": {
        "id": "Mryo2TpuWII8"
      },
      "outputs": [],
      "source": [
        "# Given market price of the option\n",
        "# Find the implied volatility\n",
        "implied_volatility = find_implied_volatility_og(sigma,market_price,5)\n",
        "implied_volatility"
      ]
    }
  ],
  "metadata": {
    "kernelspec": {
      "display_name": "Python 3",
      "language": "python",
      "name": "python3"
    },
    "language_info": {
      "codemirror_mode": {
        "name": "ipython",
        "version": 3
      },
      "file_extension": ".py",
      "mimetype": "text/x-python",
      "name": "python",
      "nbconvert_exporter": "python",
      "pygments_lexer": "ipython3",
      "version": "3.9.13"
    },
    "colab": {
      "provenance": [],
      "include_colab_link": true
    }
  },
  "nbformat": 4,
  "nbformat_minor": 0
}